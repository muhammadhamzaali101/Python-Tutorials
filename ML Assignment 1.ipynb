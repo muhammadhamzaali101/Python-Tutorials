{
 "cells": [
  {
   "cell_type": "markdown",
   "metadata": {},
   "source": [
    "# <font color=gold>-----------------------------TABLE OF CONTENTS--------------------------------</font>\n",
    "\n"
   ]
  },
  {
   "cell_type": "markdown",
   "metadata": {},
   "source": [
    "### <font color=blue>1. Introduction</font>\n",
    "\n"
   ]
  },
  {
   "cell_type": "markdown",
   "metadata": {},
   "source": [
    "###  <font color=blue>2. Data Types</font>\n"
   ]
  },
  {
   "cell_type": "markdown",
   "metadata": {},
   "source": [
    "    \n",
    "    2.1 Variables     \n",
    "    2.2 Numbers    \n",
    "    2.3 Strings    \n",
    "    2.4 Lists     \n",
    "    2.5 Dictionaries\n",
    "    2.6 Tuples \n",
    "    2.7 Sets "
   ]
  },
  {
   "cell_type": "markdown",
   "metadata": {},
   "source": [
    "### <font color=blue>3. Comparison Operators</font>\n"
   ]
  },
  {
   "cell_type": "markdown",
   "metadata": {},
   "source": [
    "###  <font color=blue>4. If-Else Statements</font>"
   ]
  },
  {
   "cell_type": "markdown",
   "metadata": {},
   "source": [
    "### <font color=blue>5. For & While Loop</font>\n"
   ]
  },
  {
   "cell_type": "markdown",
   "metadata": {},
   "source": [
    "### <font color=blue>6. Functions</font>"
   ]
  },
  {
   "cell_type": "markdown",
   "metadata": {},
   "source": [
    "### <font color=blue>7. Lambda Functions</font>"
   ]
  },
  {
   "cell_type": "markdown",
   "metadata": {},
   "source": [
    "    7.1 Map() \n",
    "    7.2 filter() "
   ]
  },
  {
   "cell_type": "markdown",
   "metadata": {},
   "source": [
    "### <font color=blue>8. File I/O</font>\n"
   ]
  },
  {
   "cell_type": "markdown",
   "metadata": {},
   "source": [
    "### <font color=blue>9. Pandas Library Introduction</font>"
   ]
  },
  {
   "cell_type": "markdown",
   "metadata": {},
   "source": [
    "### <font color=blue>10. Series</font>"
   ]
  },
  {
   "cell_type": "markdown",
   "metadata": {},
   "source": [
    "    10.1 From ndarray \n",
    "    10.2 From dict\n",
    "    10.3 From Scalar value \n",
    "    10.4 Series is ndarray-like\n",
    "    10.5 Series is dict-like \n",
    "    10.6 Vectorized operations and label alignment with Series\n",
    "    10.7 Name Attribute"
   ]
  },
  {
   "cell_type": "markdown",
   "metadata": {},
   "source": [
    "### <font color=blue>11. Data Frames</font>\n"
   ]
  },
  {
   "cell_type": "markdown",
   "metadata": {},
   "source": [
    "    11.1  From dict of Series or dicts \n",
    "    11.2  From dict of ndarrays / lists \n",
    "    11.3  From a list of dicts \n",
    "    11.4  From a dict of tuples \n",
    "    11 5  Alternate Constructors\n",
    "    11.6  Column selection, addition, deletion\n",
    "    11.7  Row selection, addition, deletion\n",
    "    11.8  Indexing / Selection\n",
    "    11.9  Data Alignment And Arithmetic\n",
    "    11.10 Transposing"
   ]
  },
  {
   "cell_type": "markdown",
   "metadata": {},
   "source": [
    "### <font color=blue>12.Data Viewing</font>\n",
    "\n",
    "\n",
    "\n",
    "\n",
    "\n",
    "\n",
    "\n",
    "\n",
    "\n",
    "\n",
    "\n",
    "\n",
    "\n",
    "\n",
    "\n",
    "\n",
    "\n",
    "\n"
   ]
  },
  {
   "cell_type": "markdown",
   "metadata": {},
   "source": [
    "## <font color=indigo>1. Introduction </font>"
   ]
  },
  {
   "cell_type": "markdown",
   "metadata": {},
   "source": [
    "* Python is a powerful programming language ideal for scripting and rapid application development.\n",
    "* It is used in web development (like: Django and Bottle)\n",
    "* Used for scientific and mathematical computing (Orange, SymPy, NumPy) to desktop graphical user Interfaces (Pygame, Panda3D).\n",
    "* Python has gathered alot of appreciation as a choice of language for Data Analytics.\n",
    "* Open Source and Free to install. \n",
    "* Awesome online community.\n",
    "* Very easy to learn.\n",
    "* It can become common language for data science.\n",
    "* It can also become a common language for production of web based analytics products.\n",
    "* As it is interpreted programming language so it is easier to implement.\n",
    "* Compilation is not required, execution process can be done directly.\n",
    "* Python is a general-purpose programming language that is becoming more and more popular for doing data science. \n",
    "* Companies worldwide are using Python to harvest insights from their data and get a competitive edge.\n",
    "                ~ **Now a days python is gaining more popularity all around the world** ~\n",
    "\n",
    "              This tutorial introduces you to the basic concepts and features of Python 3.\n",
    "              After reading the tutorial, you will be able to read and write basic Python programs \n",
    "              and explore Python in depth on your own.\n",
    "\n",
    "              This tutorial is intended for people who have knowledge of other programming languages\n",
    "              and want to get started with Python quickly.\n"
   ]
  },
  {
   "cell_type": "markdown",
   "metadata": {},
   "source": [
    "##  <font color=indigo>2. Data Types</font>\n",
    "\n"
   ]
  },
  {
   "cell_type": "markdown",
   "metadata": {},
   "source": [
    "* The data stored in memory can be of many types. \n",
    "For example \n",
    "                \n",
    "            a person's age is stored as a numeric value and \n",
    "            his or her address is stored as alphanumeric characters. \n",
    "\n",
    "* Python has various standard data types that are used to define the operations possible on them and the storage method for each of them.\n",
    "\n",
    "* We can use the **type()** function to know which class a variable or a value belongs to \n",
    "* And **isinstance()** function to check if it belongs to a particular class.\n",
    "\n"
   ]
  },
  {
   "cell_type": "markdown",
   "metadata": {},
   "source": [
    "Python support 4 types of data types\n",
    "* int (signed integers)\n",
    "* long (long integers, they can also be represented in octal and hexadecimal)\n",
    "* float (floating point real values)\n",
    "* complex (complex numbers)"
   ]
  },
  {
   "cell_type": "markdown",
   "metadata": {},
   "source": [
    "#### Example"
   ]
  },
  {
   "cell_type": "code",
   "execution_count": 3,
   "metadata": {},
   "outputs": [
    {
     "name": "stdout",
     "output_type": "stream",
     "text": [
      "<class 'int'>\n",
      "<class 'int'>\n",
      "<class 'float'>\n",
      "<class 'float'>\n",
      "<class 'complex'>\n",
      "<class 'complex'>\n"
     ]
    }
   ],
   "source": [
    "                a = 5\n",
    "                b = 123+43j\n",
    "        \n",
    "                # Output: <class 'int'>\n",
    "                print(type(a))\n",
    "                print(type(1243))\n",
    "                \n",
    "                # Outputs: <class 'float'>\n",
    "                print(type(5.0))\n",
    "                print(type(0.0123))\n",
    "                \n",
    "                # Output: <class 'Complex'>\n",
    "                print(type(3+3j))\n",
    "                print(type(b))"
   ]
  },
  {
   "cell_type": "markdown",
   "metadata": {},
   "source": [
    "Following are the data types in Python"
   ]
  },
  {
   "cell_type": "markdown",
   "metadata": {},
   "source": [
    " ###   <font color=teal>2.1 Variables</font>\n",
    "\n"
   ]
  },
  {
   "cell_type": "markdown",
   "metadata": {},
   "source": [
    "* Python variables do not need explicit declaration to reserve memory space.\n",
    "* The declaration happens automatically when you assign a value to a variable.\n",
    "* The equal sign (=) is used to assign values to variables.\n",
    "\n",
    "* The operand to the left of the = operator is the name of the variable \n",
    "* And the operand to the right of the = operator is the value stored in the variable.\n",
    "\n",
    "* You can delete a single object or multiple objects by using the del statement. "
   ]
  },
  {
   "cell_type": "markdown",
   "metadata": {},
   "source": [
    "#### Examples"
   ]
  },
  {
   "cell_type": "code",
   "execution_count": 45,
   "metadata": {},
   "outputs": [
    {
     "name": "stdout",
     "output_type": "stream",
     "text": [
      "100.0\n",
      "100\n"
     ]
    }
   ],
   "source": [
    "                counter = 100.00 \n",
    "                miles = 100 \n",
    "                \n",
    "                print (counter) \n",
    "                print (miles) \n",
    "                \n"
   ]
  },
  {
   "cell_type": "code",
   "execution_count": 46,
   "metadata": {},
   "outputs": [
    {
     "name": "stdout",
     "output_type": "stream",
     "text": [
      "a = 5\n"
     ]
    }
   ],
   "source": [
    "                a = 5\n",
    "                print(\"a =\", 5)\n",
    "                "
   ]
  },
  {
   "cell_type": "code",
   "execution_count": 21,
   "metadata": {},
   "outputs": [
    {
     "name": "stdout",
     "output_type": "stream",
     "text": [
      "asd = High five\n"
     ]
    }
   ],
   "source": [
    "                asd = \"High five\"\n",
    "                print(\"asd =\", asd)"
   ]
  },
  {
   "cell_type": "code",
   "execution_count": 23,
   "metadata": {},
   "outputs": [
    {
     "name": "stdout",
     "output_type": "stream",
     "text": [
      "Karachi\n"
     ]
    }
   ],
   "source": [
    "                city = \"Karachi\"\n",
    "                print (city) \n",
    "            "
   ]
  },
  {
   "cell_type": "code",
   "execution_count": 15,
   "metadata": {},
   "outputs": [
    {
     "ename": "NameError",
     "evalue": "name 'vara' is not defined",
     "output_type": "error",
     "traceback": [
      "\u001b[1;31m---------------------------------------------------------------------------\u001b[0m",
      "\u001b[1;31mNameError\u001b[0m                                 Traceback (most recent call last)",
      "\u001b[1;32m<ipython-input-15-92a0ff19b17f>\u001b[0m in \u001b[0;36m<module>\u001b[1;34m\u001b[0m\n\u001b[0;32m     10\u001b[0m \u001b[1;33m\u001b[0m\u001b[0m\n\u001b[0;32m     11\u001b[0m \u001b[1;31m#display an error after deletion\u001b[0m\u001b[1;33m\u001b[0m\u001b[1;33m\u001b[0m\u001b[1;33m\u001b[0m\u001b[0m\n\u001b[1;32m---> 12\u001b[1;33m \u001b[0mvara\u001b[0m\u001b[1;33m+\u001b[0m\u001b[0mvarb\u001b[0m\u001b[1;33m\u001b[0m\u001b[1;33m\u001b[0m\u001b[0m\n\u001b[0m",
      "\u001b[1;31mNameError\u001b[0m: name 'vara' is not defined"
     ]
    }
   ],
   "source": [
    "                #Deleting singl or multiple variables\n",
    "                \n",
    "                var = 123\n",
    "                vara = 124\n",
    "                varb = 0.4\n",
    "                \n",
    "                del var\n",
    "\n",
    "                del vara, varb\n",
    "                \n",
    "                #display an error after deletion\n",
    "                vara+varb"
   ]
  },
  {
   "cell_type": "markdown",
   "metadata": {},
   "source": [
    "###    <font color=teal>2.2 Numbers</font>\n",
    "\n"
   ]
  },
  {
   "cell_type": "markdown",
   "metadata": {},
   "source": [
    "* Number data types store numeric values.\n",
    "* Number objects are created when you assign a value to them.\n",
    "* This data type stores numeric values. \n",
    "* They are immutable data types (Means changing the value of Number data type will results in a newly allocated object).\n",
    "* As you may now complex number consists of two parts real and imaginary, and is denoted by \n",
    "\n"
   ]
  },
  {
   "cell_type": "markdown",
   "metadata": {},
   "source": [
    "#### Examples"
   ]
  },
  {
   "cell_type": "code",
   "execution_count": 48,
   "metadata": {},
   "outputs": [
    {
     "data": {
      "text/plain": [
       "14"
      ]
     },
     "execution_count": 48,
     "metadata": {},
     "output_type": "execute_result"
    }
   ],
   "source": [
    "                2+12"
   ]
  },
  {
   "cell_type": "code",
   "execution_count": 49,
   "metadata": {},
   "outputs": [
    {
     "data": {
      "text/plain": [
       "15.0"
      ]
     },
     "execution_count": 49,
     "metadata": {},
     "output_type": "execute_result"
    }
   ],
   "source": [
    "                12 + 3.00 #float conversion"
   ]
  },
  {
   "cell_type": "code",
   "execution_count": 50,
   "metadata": {},
   "outputs": [
    {
     "data": {
      "text/plain": [
       "64"
      ]
     },
     "execution_count": 50,
     "metadata": {},
     "output_type": "execute_result"
    }
   ],
   "source": [
    "                4**3 #exonent notation"
   ]
  },
  {
   "cell_type": "code",
   "execution_count": 7,
   "metadata": {},
   "outputs": [
    {
     "name": "stdout",
     "output_type": "stream",
     "text": [
      "(2+3j)\n",
      "<class 'complex'>\n"
     ]
    }
   ],
   "source": [
    "                x = 2 + 3j # where 2 is the real part of number and 3 is imaginary part of number\n",
    "                print(x)\n",
    "                print(type(x))"
   ]
  },
  {
   "cell_type": "markdown",
   "metadata": {},
   "source": [
    "###   <font color=teal> 2.3 Strings</font>\n",
    "\n"
   ]
  },
  {
   "cell_type": "markdown",
   "metadata": {},
   "source": [
    "* Strings in Python are contiguous set of characters represented in the quotation marks. \n",
    "* Single or double quotes are used to enclose string. \n",
    "* Python doesn't support char data type. It will be as String of length one in Python.\n",
    "* In short, strings are immutable sequence of characters. There are a lot of methods to ease manipulation and creation of strings\n",
    "\n",
    "\n",
    "**Why**\n",
    "\n",
    "    Python strings are \"immutable\" which means they cannot be changed after they are created (Java strings also use this immutable style). Since strings can't be changed, we construct *new* strings as we go to represent computed values.\n",
    "\n",
    "**When**\n",
    "\n",
    "    When we want to represent text rather numbers\n",
    "    To input name of anything \n",
    "    \n",
    "    \n",
    "\n",
    "**Where**\n",
    "\n",
    "     String is used where we need input or hardcoded value of name of anything or any input where characters are used.\n",
    "     String. A string is a data type used in programming, such as an integer and floating point unit, but is used \n",
    "     to represent text rather than numbers.\n",
    "     It is comprised of a set of characters that can also contain spaces and numbers. For example, the word \"hamburger\"\n",
    "     and the phrase \"I ate 3 hamburgers\" are both strings."
   ]
  },
  {
   "cell_type": "markdown",
   "metadata": {},
   "source": [
    "#### Examples "
   ]
  },
  {
   "cell_type": "code",
   "execution_count": 17,
   "metadata": {},
   "outputs": [
    {
     "name": "stdout",
     "output_type": "stream",
     "text": [
      "Hello World!\n"
     ]
    }
   ],
   "source": [
    "                str = 'Hello World!'\n",
    "                print (str)          # Prints whole string\n"
   ]
  },
  {
   "cell_type": "code",
   "execution_count": 18,
   "metadata": {},
   "outputs": [
    {
     "name": "stdout",
     "output_type": "stream",
     "text": [
      "Lahore\n"
     ]
    }
   ],
   "source": [
    "                print('Lahore')"
   ]
  },
  {
   "cell_type": "code",
   "execution_count": 19,
   "metadata": {},
   "outputs": [
    {
     "name": "stdout",
     "output_type": "stream",
     "text": [
      "123\n"
     ]
    }
   ],
   "source": [
    "                num = '123'\n",
    "                print(num)"
   ]
  },
  {
   "cell_type": "code",
   "execution_count": 20,
   "metadata": {},
   "outputs": [
    {
     "name": "stdout",
     "output_type": "stream",
     "text": [
      "Pakistan Zindabad______Pak Armed Forces Paindabad\n"
     ]
    }
   ],
   "source": [
    "                print('Pakistan Zindabad______Pak Armed Forces Paindabad')"
   ]
  },
  {
   "cell_type": "markdown",
   "metadata": {},
   "source": [
    "### Special Operation"
   ]
  },
  {
   "cell_type": "markdown",
   "metadata": {},
   "source": [
    "* The slice operator ([ ] and [:] ) is used to subset of string with indexes starting \n",
    "* In python strings are immuteale , thus we can update it using, the plus (+) sign is the string concatenation operator and the asterisk (*) is the repetition operator. "
   ]
  },
  {
   "cell_type": "code",
   "execution_count": 5,
   "metadata": {},
   "outputs": [
    {
     "name": "stdout",
     "output_type": "stream",
     "text": [
      "H\n"
     ]
    }
   ],
   "source": [
    "                str = 'Hello World!'\n",
    "                print (str[0])       # Prints first character of the string\n"
   ]
  },
  {
   "cell_type": "code",
   "execution_count": 6,
   "metadata": {},
   "outputs": [
    {
     "name": "stdout",
     "output_type": "stream",
     "text": [
      "llo\n"
     ]
    }
   ],
   "source": [
    "                str = 'Hello World!'\n",
    "                print (str[2:5])     #  characters starting from 3rd to 5th\n"
   ]
  },
  {
   "cell_type": "code",
   "execution_count": 7,
   "metadata": {},
   "outputs": [
    {
     "name": "stdout",
     "output_type": "stream",
     "text": [
      "llo World!\n"
     ]
    }
   ],
   "source": [
    "                str = 'Hello World!'\n",
    "                print (str[2:] )     #starting from 3rd character\n"
   ]
  },
  {
   "cell_type": "code",
   "execution_count": 8,
   "metadata": {},
   "outputs": [
    {
     "name": "stdout",
     "output_type": "stream",
     "text": [
      "Hello World!Hello World!\n"
     ]
    }
   ],
   "source": [
    "                str = 'Hello World!'\n",
    "                print (str * 2)      # string two times\n"
   ]
  },
  {
   "cell_type": "code",
   "execution_count": 9,
   "metadata": {},
   "outputs": [
    {
     "name": "stdout",
     "output_type": "stream",
     "text": [
      "Hello World! TEST\n"
     ]
    }
   ],
   "source": [
    "                str = 'Hello World!'\n",
    "                print (str + \" TEST\") #  concatenated string"
   ]
  },
  {
   "cell_type": "markdown",
   "metadata": {},
   "source": [
    "### Deletion"
   ]
  },
  {
   "cell_type": "markdown",
   "metadata": {},
   "source": [
    "*As strings in Python are immuteable so we shall use del word to delete whole string"
   ]
  },
  {
   "cell_type": "code",
   "execution_count": 11,
   "metadata": {},
   "outputs": [
    {
     "name": "stdout",
     "output_type": "stream",
     "text": [
      "fauji\n"
     ]
    },
    {
     "ename": "NameError",
     "evalue": "name 'string' is not defined",
     "output_type": "error",
     "traceback": [
      "\u001b[1;31m---------------------------------------------------------------------------\u001b[0m",
      "\u001b[1;31mNameError\u001b[0m                                 Traceback (most recent call last)",
      "\u001b[1;32m<ipython-input-11-355df168f7d7>\u001b[0m in \u001b[0;36m<module>\u001b[1;34m\u001b[0m\n\u001b[0;32m      2\u001b[0m \u001b[0mprint\u001b[0m\u001b[1;33m(\u001b[0m\u001b[0mstring\u001b[0m\u001b[1;33m)\u001b[0m\u001b[1;33m\u001b[0m\u001b[1;33m\u001b[0m\u001b[0m\n\u001b[0;32m      3\u001b[0m \u001b[1;32mdel\u001b[0m \u001b[0mstring\u001b[0m\u001b[1;33m\u001b[0m\u001b[1;33m\u001b[0m\u001b[0m\n\u001b[1;32m----> 4\u001b[1;33m \u001b[0mprint\u001b[0m\u001b[1;33m(\u001b[0m\u001b[0mstring\u001b[0m\u001b[1;33m)\u001b[0m\u001b[1;33m\u001b[0m\u001b[1;33m\u001b[0m\u001b[0m\n\u001b[0m",
      "\u001b[1;31mNameError\u001b[0m: name 'string' is not defined"
     ]
    }
   ],
   "source": [
    "                    string='fauji'\n",
    "                    print(string)\n",
    "                    del string\n",
    "                    print(string)"
   ]
  },
  {
   "cell_type": "code",
   "execution_count": 22,
   "metadata": {},
   "outputs": [
    {
     "name": "stdout",
     "output_type": "stream",
     "text": [
      "comsats\n",
      "comsats uni\n"
     ]
    },
    {
     "ename": "NameError",
     "evalue": "name 'string2' is not defined",
     "output_type": "error",
     "traceback": [
      "\u001b[1;31m---------------------------------------------------------------------------\u001b[0m",
      "\u001b[1;31mNameError\u001b[0m                                 Traceback (most recent call last)",
      "\u001b[1;32m<ipython-input-22-28af23919767>\u001b[0m in \u001b[0;36m<module>\u001b[1;34m\u001b[0m\n\u001b[0;32m      4\u001b[0m \u001b[0mprint\u001b[0m\u001b[1;33m(\u001b[0m\u001b[0mstring2\u001b[0m\u001b[1;33m+\u001b[0m\u001b[0mstring3\u001b[0m\u001b[1;33m)\u001b[0m\u001b[1;33m\u001b[0m\u001b[1;33m\u001b[0m\u001b[0m\n\u001b[0;32m      5\u001b[0m \u001b[1;32mdel\u001b[0m \u001b[0mstring2\u001b[0m\u001b[1;33m\u001b[0m\u001b[1;33m\u001b[0m\u001b[0m\n\u001b[1;32m----> 6\u001b[1;33m \u001b[0mprint\u001b[0m\u001b[1;33m(\u001b[0m\u001b[0mstring2\u001b[0m\u001b[1;33m+\u001b[0m\u001b[0mstring3\u001b[0m\u001b[1;33m)\u001b[0m\u001b[1;33m\u001b[0m\u001b[1;33m\u001b[0m\u001b[0m\n\u001b[0m",
      "\u001b[1;31mNameError\u001b[0m: name 'string2' is not defined"
     ]
    }
   ],
   "source": [
    "                    string2='comsats'\n",
    "                    print(string2)\n",
    "                    string3=' uni'\n",
    "                    print(string2+string3)\n",
    "                    del string2\n",
    "                    print(string2+string3)"
   ]
  },
  {
   "cell_type": "code",
   "execution_count": 28,
   "metadata": {},
   "outputs": [
    {
     "name": "stdout",
     "output_type": "stream",
     "text": [
      "Machine learning\n"
     ]
    },
    {
     "ename": "NameError",
     "evalue": "name 'strg' is not defined",
     "output_type": "error",
     "traceback": [
      "\u001b[1;31m---------------------------------------------------------------------------\u001b[0m",
      "\u001b[1;31mNameError\u001b[0m                                 Traceback (most recent call last)",
      "\u001b[1;32m<ipython-input-28-3f7591304868>\u001b[0m in \u001b[0;36m<module>\u001b[1;34m\u001b[0m\n\u001b[0;32m      2\u001b[0m \u001b[0mprint\u001b[0m \u001b[1;33m(\u001b[0m\u001b[0mstrg\u001b[0m\u001b[1;33m)\u001b[0m\u001b[1;33m\u001b[0m\u001b[1;33m\u001b[0m\u001b[0m\n\u001b[0;32m      3\u001b[0m \u001b[1;32mdel\u001b[0m \u001b[0mstrg\u001b[0m\u001b[1;33m\u001b[0m\u001b[1;33m\u001b[0m\u001b[0m\n\u001b[1;32m----> 4\u001b[1;33m \u001b[0mprint\u001b[0m\u001b[1;33m(\u001b[0m\u001b[0mstrg\u001b[0m\u001b[1;33m)\u001b[0m\u001b[1;33m\u001b[0m\u001b[1;33m\u001b[0m\u001b[0m\n\u001b[0m",
      "\u001b[1;31mNameError\u001b[0m: name 'strg' is not defined"
     ]
    }
   ],
   "source": [
    "            strg= 'Machine' + ' learning'\n",
    "            print (strg)\n",
    "            del strg\n",
    "            print(strg)"
   ]
  },
  {
   "cell_type": "markdown",
   "metadata": {},
   "source": [
    "### String formating"
   ]
  },
  {
   "cell_type": "markdown",
   "metadata": {},
   "source": [
    "Here is a feature in Python to formate a string by using '%' sign and with this sign specified format is used like \n",
    "* %s for string\n",
    "* %d for intiger\n",
    "* %f for floating point values\n",
    "* single % is used to show result / it refer toward variable whose string should be used as result"
   ]
  },
  {
   "cell_type": "code",
   "execution_count": 36,
   "metadata": {},
   "outputs": [
    {
     "name": "stdout",
     "output_type": "stream",
     "text": [
      "I am Hamza. My age is 22 and my religio is ISLAM\n"
     ]
    }
   ],
   "source": [
    "            age = 22\n",
    "            name = 'Hamza'\n",
    "            religion = 'ISLAM'\n",
    "            \n",
    "            print('I am %s. My age is %d and my religio is %s'%(name,age,religion))"
   ]
  },
  {
   "cell_type": "code",
   "execution_count": 41,
   "metadata": {},
   "outputs": [
    {
     "name": "stdout",
     "output_type": "stream",
     "text": [
      "weight of sugar is 12.500000\n"
     ]
    }
   ],
   "source": [
    "            weight= 12.5\n",
    "            name = 'sugar'\n",
    "            print('weight of %s is %f'%(name,weight) )"
   ]
  },
  {
   "cell_type": "code",
   "execution_count": 47,
   "metadata": {},
   "outputs": [
    {
     "name": "stdout",
     "output_type": "stream",
     "text": [
      "My list is [123.0, 123, 2]\n"
     ]
    }
   ],
   "source": [
    "            #String formating can also be used for list         \n",
    "            mylist = [123.0,123,2]\n",
    "            print('My list is %s'%mylist)"
   ]
  },
  {
   "cell_type": "markdown",
   "metadata": {},
   "source": [
    "###    <font color=teal>2.4. List</font>\n",
    "\n"
   ]
  },
  {
   "cell_type": "markdown",
   "metadata": {},
   "source": [
    "* List is used to store different value together\n",
    "* [] is used for list\n",
    "* indexes starts from 0\n",
    "* comma is used to seperate different values\n",
    "* Differnt type of values can be stored in list . i.e string , float , integer at same time\n",
    "* Lists can have list in them called as nested lists\n",
    "\n",
    "\n",
    "**Why**\n",
    "\n",
    "    We use list beacuse It is mutable and we can have any number of items and they may be of different types. \n",
    "    Also, a list can even have another list as an item.\n",
    "   \n",
    "**When**\n",
    "    \n",
    "    Use lists if you have a collection of data that does not need random access. Try to choose lists when you need a simple,       iterable collection that is modified frequently.\n",
    "    When we care about order then we use list\n",
    "    We use list when we want to store differnt types of data in a sequence\n",
    "    When dupliacates are nor forbidden\n",
    "    \n",
    "**Where**\n",
    "\n",
    "    Lists: You can use these when you need a collection of similar/non similar items\n",
    "    We use list where we want to store data for exaple Your many cats' names and their ages."
   ]
  },
  {
   "cell_type": "code",
   "execution_count": 49,
   "metadata": {},
   "outputs": [
    {
     "name": "stdout",
     "output_type": "stream",
     "text": [
      "[]\n"
     ]
    }
   ],
   "source": [
    "                list1 = []\n",
    "                print(list1)"
   ]
  },
  {
   "cell_type": "code",
   "execution_count": 51,
   "metadata": {},
   "outputs": [
    {
     "name": "stdout",
     "output_type": "stream",
     "text": [
      "[1.2, 123, 'Hi!']\n"
     ]
    }
   ],
   "source": [
    "                list2 = [1.2,123,'Hi!']\n",
    "                print(list2)"
   ]
  },
  {
   "cell_type": "code",
   "execution_count": 54,
   "metadata": {},
   "outputs": [
    {
     "name": "stdout",
     "output_type": "stream",
     "text": [
      "['XYZ', 123, [1, 2, 3]]\n"
     ]
    }
   ],
   "source": [
    "                list3 = ['XYZ',123, [1,2,3]]\n",
    "                print(list3)"
   ]
  },
  {
   "cell_type": "markdown",
   "metadata": {},
   "source": [
    "### Accessing"
   ]
  },
  {
   "cell_type": "markdown",
   "metadata": {},
   "source": [
    "* [] double brackets can be used to declare list\n",
    "* index number can be used to acces particular item from list\n",
    "* range of list can be acccessed using [ : ]"
   ]
  },
  {
   "cell_type": "code",
   "execution_count": 64,
   "metadata": {},
   "outputs": [
    {
     "name": "stdout",
     "output_type": "stream",
     "text": [
      "shahid\n"
     ]
    }
   ],
   "source": [
    "      listt = ['ali', 'ismail', 'shahid' ,1,2,3 ]\n",
    "      print(listt[2])"
   ]
  },
  {
   "cell_type": "code",
   "execution_count": 62,
   "metadata": {},
   "outputs": [
    {
     "name": "stdout",
     "output_type": "stream",
     "text": [
      "['ismail', 'shahid', 1, 2]\n"
     ]
    }
   ],
   "source": [
    "      listt = ['ali', 'ismail', 'shahid' ,1,2,3 ]\n",
    "      print(listt[1 :5 ])"
   ]
  },
  {
   "cell_type": "code",
   "execution_count": 63,
   "metadata": {},
   "outputs": [
    {
     "name": "stdout",
     "output_type": "stream",
     "text": [
      "['shahid', 1, 2, 3]\n"
     ]
    }
   ],
   "source": [
    "      listt = ['ali', 'ismail', 'shahid' ,1,2,3 ]\n",
    "      print(listt[2 : ])"
   ]
  },
  {
   "cell_type": "markdown",
   "metadata": {},
   "source": [
    "### Updating "
   ]
  },
  {
   "cell_type": "markdown",
   "metadata": {},
   "source": [
    "* we can update list beacuse it is muteable unlike string\n",
    "* we can use '='  to update list\n",
    "* index can be given to add iytem at particular position\n",
    "* append and extend can also be used to update list\n",
    "* ' + ' is used to concatenate lists\n",
    "* ' * ' is used to display list multiple times"
   ]
  },
  {
   "cell_type": "markdown",
   "metadata": {},
   "source": [
    "          listt = ['ali', 'ismail', 'shahid' ,1,2,3 ]\n",
    "          listt[2] = 'akmal'\n",
    "          print(listt)"
   ]
  },
  {
   "cell_type": "code",
   "execution_count": 68,
   "metadata": {},
   "outputs": [
    {
     "name": "stdout",
     "output_type": "stream",
     "text": [
      "[1, 2, 3, 'shahid', 1, 2, 3]\n"
     ]
    }
   ],
   "source": [
    "          listt = ['ali', 'ismail', 'shahid' ,1,2,3 ]\n",
    "          listt[0:2] = [1,2,3] \n",
    "          print(listt)"
   ]
  },
  {
   "cell_type": "code",
   "execution_count": 74,
   "metadata": {},
   "outputs": [
    {
     "name": "stdout",
     "output_type": "stream",
     "text": [
      "['ali', 'ismail', 'shahid', 1, 2, 3, 'Adeel']\n"
     ]
    }
   ],
   "source": [
    "          listt = ['ali', 'ismail', 'shahid' ,1,2,3 ]\n",
    "          listt.append ('Adeel')\n",
    "          print(listt)"
   ]
  },
  {
   "cell_type": "code",
   "execution_count": 78,
   "metadata": {},
   "outputs": [
    {
     "name": "stdout",
     "output_type": "stream",
     "text": [
      "['ali', 'ismail', 'shahid', 1, 2, 3, 'Machine learning']\n"
     ]
    }
   ],
   "source": [
    "          listt = ['ali', 'ismail', 'shahid' ,1,2,3 ]\n",
    "          listt.extend (['Machine learning'])\n",
    "          print(listt)"
   ]
  },
  {
   "cell_type": "code",
   "execution_count": 81,
   "metadata": {},
   "outputs": [
    {
     "name": "stdout",
     "output_type": "stream",
     "text": [
      "['Pakistan', 'Lahore']\n"
     ]
    }
   ],
   "source": [
    "          listt = ['Pakistan', ]\n",
    "          \n",
    "          print(listt + ['Lahore'])"
   ]
  },
  {
   "cell_type": "code",
   "execution_count": 85,
   "metadata": {},
   "outputs": [
    {
     "name": "stdout",
     "output_type": "stream",
     "text": [
      "['Pakistan Zindabad', 'Pakistan Zindabad']\n"
     ]
    }
   ],
   "source": [
    "          listt = ['Pakistan Zindabad' ]\n",
    "          \n",
    "          print(listt *2)"
   ]
  },
  {
   "cell_type": "markdown",
   "metadata": {},
   "source": [
    "### Deletion "
   ]
  },
  {
   "cell_type": "markdown",
   "metadata": {},
   "source": [
    "* we can delete or empty list using del , pop, remove and clear\n",
    "* del can be used to delete particular item at given index and to delete whole list\n",
    "* pop can be used to delete at index and to pop item from end of list\n",
    "* remove can be used to remove given item \n",
    "* clear can be used to clear whole list"
   ]
  },
  {
   "cell_type": "code",
   "execution_count": 88,
   "metadata": {},
   "outputs": [
    {
     "name": "stdout",
     "output_type": "stream",
     "text": [
      "['cs', 'bba', 'phy', 'archi']\n",
      "['cs']\n"
     ]
    },
    {
     "ename": "NameError",
     "evalue": "name 'listt' is not defined",
     "output_type": "error",
     "traceback": [
      "\u001b[1;31m---------------------------------------------------------------------------\u001b[0m",
      "\u001b[1;31mNameError\u001b[0m                                 Traceback (most recent call last)",
      "\u001b[1;32m<ipython-input-88-6c438ac353b7>\u001b[0m in \u001b[0;36m<module>\u001b[1;34m\u001b[0m\n\u001b[0;32m      8\u001b[0m \u001b[1;33m\u001b[0m\u001b[0m\n\u001b[0;32m      9\u001b[0m \u001b[1;32mdel\u001b[0m \u001b[0mlistt\u001b[0m\u001b[1;33m\u001b[0m\u001b[1;33m\u001b[0m\u001b[0m\n\u001b[1;32m---> 10\u001b[1;33m \u001b[0mprint\u001b[0m\u001b[1;33m(\u001b[0m\u001b[0mlistt\u001b[0m\u001b[1;33m)\u001b[0m\u001b[1;33m\u001b[0m\u001b[1;33m\u001b[0m\u001b[0m\n\u001b[0m",
      "\u001b[1;31mNameError\u001b[0m: name 'listt' is not defined"
     ]
    }
   ],
   "source": [
    "                    listt = ['cs','bba','chem','phy','archi']\n",
    "\n",
    "                    del listt[2]\n",
    "                    print(listt)\n",
    "\n",
    "                    del listt[1:5]  \n",
    "                    print(listt)\n",
    "                    \n",
    "                    del listt       \n",
    "                    print(listt)"
   ]
  },
  {
   "cell_type": "code",
   "execution_count": 103,
   "metadata": {},
   "outputs": [
    {
     "name": "stdout",
     "output_type": "stream",
     "text": [
      "['lahore', 'karachi', 13, 'fsd', 'multan', 12.2]\n"
     ]
    }
   ],
   "source": [
    "                listt = ['lahore','karachi',13,'fsd','multan',12,12.2]\n",
    "                listt.remove(12)\n",
    "                print(listt)\n",
    "\n",
    "                \n",
    "                \n",
    "    "
   ]
  },
  {
   "cell_type": "code",
   "execution_count": 99,
   "metadata": {},
   "outputs": [
    {
     "name": "stdout",
     "output_type": "stream",
     "text": [
      "multan\n",
      "['lahore', 'karachi', 13, 'fsd', 12, 12.2]\n"
     ]
    }
   ],
   "source": [
    "                listt = ['lahore','karachi',13,'fsd','multan',12,12.2]\n",
    "                \n",
    "                print(listt.pop(4)) # display poped item\n",
    "                print(listt)\n",
    "                "
   ]
  },
  {
   "cell_type": "code",
   "execution_count": 105,
   "metadata": {},
   "outputs": [
    {
     "name": "stdout",
     "output_type": "stream",
     "text": [
      "12.2\n",
      "['lahore', 'karachi', 13, 'fsd', 'multan', 12]\n",
      "[]\n"
     ]
    }
   ],
   "source": [
    "                listt = ['lahore','karachi',13,'fsd','multan',12,12.2]\n",
    "                \n",
    "                \n",
    "                print(listt.pop()) #display poped item\n",
    "                \n",
    "                print(listt)\n",
    "                \n",
    "                listt.clear()\n",
    "                print(listt)  #cleared list"
   ]
  },
  {
   "cell_type": "markdown",
   "metadata": {},
   "source": [
    "###    <font color=teal>2.5  Dictionaries</font>\n",
    "\n"
   ]
  },
  {
   "cell_type": "markdown",
   "metadata": {},
   "source": [
    "* Dictionary is unordered collection\n",
    "* Other have only value is collects like list tuple etc\n",
    "* Dictionary have key : value pair\n",
    "* Each key : value pair is seperated by comma ( , )\n",
    "* It is like array\n",
    "* Key of dictionary is immutable like string , number etc\n",
    "* Curly brackets {} are used for dictionaries\n",
    "\n",
    "\n",
    "**Why**\n",
    "\n",
    "    Python dictionary is an implementation of a hash table and is a key-value store. It is not ordered and it requires that         the keys are hashtable.\n",
    "    For speedy key(membership) checking\n",
    "    \n",
    "\n",
    "**When**\n",
    "\n",
    "    When you need a logical association between a key:value pair. \n",
    "    When you need fast lookup for your data, based on a custom key. \n",
    "    When your data is being constantly modified. Remember, dictionaries are mutable. \n",
    "    When we don't care aboput order then we use dictionaries\n",
    "    When we want to associate a single value to each key then we use dictionaries\n",
    "    \n",
    "**Where**\n",
    "    \n",
    "    We use dictionaries where we want to store data like roll numbers of differnt students their names or differnt booksISBN and their name(with key:value format)"
   ]
  },
  {
   "cell_type": "markdown",
   "metadata": {},
   "source": [
    "### Accessing"
   ]
  },
  {
   "cell_type": "markdown",
   "metadata": {},
   "source": [
    "* we can acces dictionary using name of key key in square brackets along with dictionary name\n",
    "* dictionary can be crreated usiny dict() function."
   ]
  },
  {
   "cell_type": "code",
   "execution_count": 108,
   "metadata": {},
   "outputs": [
    {
     "name": "stdout",
     "output_type": "stream",
     "text": [
      "Pakistan\n",
      "{'country': 'Pakistan', 'continent': 'Asia', 'independece': 1947}\n"
     ]
    }
   ],
   "source": [
    "            dictt = {'country': 'Pakistan', 'continent': 'Asia', 'independece': 1947}\n",
    "            print (dictt['country'])\n",
    "            print (dictt)"
   ]
  },
  {
   "cell_type": "code",
   "execution_count": 113,
   "metadata": {},
   "outputs": [
    {
     "name": "stdout",
     "output_type": "stream",
     "text": [
      "FA16\n"
     ]
    }
   ],
   "source": [
    "             dict = {'Name':\"Hamza\", 'Depart': \"BCS\", 'Batch': 'FA16'} \n",
    "             print (dict['Batch'])"
   ]
  },
  {
   "cell_type": "code",
   "execution_count": 115,
   "metadata": {},
   "outputs": [
    {
     "name": "stdout",
     "output_type": "stream",
     "text": [
      "{'Name': 'Hamza', 'height': 173, 'weight': 65.5, 'color': 'brown', 'age': 22}\n"
     ]
    }
   ],
   "source": [
    "             dictt = {'Name':\"Hamza\", 'height': 173 , 'weight': 65.5,'color': 'brown','age': 22} \n",
    "             print (dictt)"
   ]
  },
  {
   "cell_type": "markdown",
   "metadata": {},
   "source": [
    "### Updating"
   ]
  },
  {
   "cell_type": "markdown",
   "metadata": {},
   "source": [
    "* dictonary is mutable \n",
    "* we can edit or add item in it\n",
    "* If key is avaiable then it is updated otherwise new key : value is added\n",
    "* We can use update function to updated or append dictionary\n",
    "* update function can also be used to append one dictionary to another dictionary"
   ]
  },
  {
   "cell_type": "code",
   "execution_count": 3,
   "metadata": {},
   "outputs": [
    {
     "name": "stdout",
     "output_type": "stream",
     "text": [
      "{'name': 'Adeel', 'age': 27}\n",
      "{'name': 'Adeel', 'age': 27, 'address': 'Downtown'}\n"
     ]
    }
   ],
   "source": [
    "                dict = {'name':'Adeel', 'age': 35}\n",
    "              \n",
    "                dict['age'] = 27\n",
    "                print(dict)\n",
    "                \n",
    "                dict['address'] = 'Downtown'  \n",
    "                print(dict)"
   ]
  },
  {
   "cell_type": "code",
   "execution_count": 19,
   "metadata": {},
   "outputs": [
    {
     "name": "stdout",
     "output_type": "stream",
     "text": [
      "{'Name': 'Hamza', 'Age': 23, 'degree': 'BS', 'University': 'CUI'}\n"
     ]
    }
   ],
   "source": [
    "                dict = {'Name': 'Hamza', 'Age': 22, 'degree': 'BS'}\n",
    "                dict['Age'] = 23; \n",
    "                dict['University'] = \"CUI\"; \n",
    "\n",
    "                print (dict)"
   ]
  },
  {
   "cell_type": "code",
   "execution_count": 20,
   "metadata": {},
   "outputs": [
    {
     "name": "stdout",
     "output_type": "stream",
     "text": [
      "{'Name': 'Hamza', 'Age': 23, 'degree': 'BS', 'University': 'CUI'}\n"
     ]
    }
   ],
   "source": [
    "                dict = {'Name': 'Hamza', 'Age': 22, 'degree': 'BS'}\n",
    "                dict.update({'Age':23})  \n",
    "                dict.update({'University': \"CUI\"})  \n",
    "\n",
    "                print (dict)"
   ]
  },
  {
   "cell_type": "markdown",
   "metadata": {},
   "source": [
    "### Deleting"
   ]
  },
  {
   "cell_type": "markdown",
   "metadata": {},
   "source": [
    "* del() can be used to delete individual item or delete whole dictionary\n",
    "* clear() can be used to clear whole dictionaryu\n",
    "* pop() can be used to remove an item with provided key and return value\n",
    "* popitem() is usd to remnove key and return arbitrary value"
   ]
  },
  {
   "cell_type": "code",
   "execution_count": 25,
   "metadata": {},
   "outputs": [
    {
     "name": "stdout",
     "output_type": "stream",
     "text": [
      "{'name': 'Adeel', 'age': 35}\n",
      "{'name': 'Adeel'}\n"
     ]
    }
   ],
   "source": [
    "                dict = {'name':'Adeel', 'age': 35}\n",
    "              \n",
    "                print(dict)\n",
    "                del dict['age']\n",
    "                print(dict)"
   ]
  },
  {
   "cell_type": "code",
   "execution_count": 31,
   "metadata": {
    "scrolled": true
   },
   "outputs": [
    {
     "name": "stdout",
     "output_type": "stream",
     "text": [
      "{'name': 'Adeel', 'age': 35}\n",
      "{}\n"
     ]
    }
   ],
   "source": [
    "                dict = {'name':'Adeel', 'age': 35}\n",
    "              \n",
    "                print(dict)\n",
    "                dict.clear()\n",
    "                print(dict)"
   ]
  },
  {
   "cell_type": "code",
   "execution_count": 34,
   "metadata": {},
   "outputs": [
    {
     "name": "stdout",
     "output_type": "stream",
     "text": [
      "{'name': 'Adeel', 'age': 35, 'Institute': 'CUI'}\n",
      "{'name': 'Adeel', 'age': 35}\n"
     ]
    }
   ],
   "source": [
    "                dict = {'name':'Adeel', 'age': 35 ,'Institute':'CUI'}\n",
    "              \n",
    "                print(dict)\n",
    "                dict.popitem()\n",
    "                print(dict)"
   ]
  },
  {
   "cell_type": "code",
   "execution_count": 42,
   "metadata": {},
   "outputs": [
    {
     "name": "stdout",
     "output_type": "stream",
     "text": [
      "{'name': 'Adeel', 'age': 35}\n",
      "{'age': 35}\n"
     ]
    }
   ],
   "source": [
    "                dict = {'name':'Adeel', 'age': 35}\n",
    "              \n",
    "                print(dict)\n",
    "                dict.pop('name')\n",
    "                print(dict)"
   ]
  },
  {
   "cell_type": "markdown",
   "metadata": {},
   "source": [
    "### Membership Test"
   ]
  },
  {
   "cell_type": "markdown",
   "metadata": {},
   "source": [
    "* In dictionary we can do membership test\n",
    "* Membership test can be done only on key not value\n",
    "* It returns true if existed else false"
   ]
  },
  {
   "cell_type": "code",
   "execution_count": 5,
   "metadata": {},
   "outputs": [
    {
     "name": "stdout",
     "output_type": "stream",
     "text": [
      "True\n",
      "True\n",
      "False\n"
     ]
    }
   ],
   "source": [
    "                    dict = {'one': 1, 'three': 9, 'five': 25, 'seven': 49, 'nine': 81}\n",
    "\n",
    "            \n",
    "                    print('one' in dict)\n",
    "                    \n",
    "                    print('two' not in dict)\n",
    "\n",
    "                    print(9 in dict)"
   ]
  },
  {
   "cell_type": "markdown",
   "metadata": {},
   "source": [
    "###     <font color=teal>2.6. Tuple</font>\n",
    "\n"
   ]
  },
  {
   "cell_type": "markdown",
   "metadata": {},
   "source": [
    "* tuple is similar to list\n",
    "* But difference is that tuple is immutable while list can be changed \n",
    "* Tumple can be created just putting coma in elements and paranthesis around all elements\n",
    "* For even a single value we have to write comma after that value\n",
    "* its indices starts from 0\n",
    "* It can consist of of multiple data types\n",
    "\n",
    "\n",
    "\n",
    "**Why**\n",
    "\n",
    "    We use tuple because is is immutable and and it is faster\n",
    "    It makes code fast and safer\n",
    "\n",
    "**When**\n",
    "    \n",
    "    When we need fixed size sequence then we use tuple and faster result\n",
    "    And when we don't need to chnage or edit sequence(when your data cannot change.)\n",
    "    \n",
    "\n",
    "**Where**\n",
    "\n",
    "    Tuples are generally used for smaller groups of similar items, things like coordinate systems"
   ]
  },
  {
   "cell_type": "markdown",
   "metadata": {},
   "source": [
    "### Accessing "
   ]
  },
  {
   "cell_type": "markdown",
   "metadata": {},
   "source": [
    "* Tuple can be accessed through slicing , contcatenatio, indexexing and negative indexing\n",
    "* Tuples can be used inside tuple (nested tuple)"
   ]
  },
  {
   "cell_type": "code",
   "execution_count": 43,
   "metadata": {},
   "outputs": [
    {
     "name": "stdout",
     "output_type": "stream",
     "text": [
      "(1, 'Hello', 3.4)\n",
      "('Ali', [8.3, 2.4, 6], (1, 'Ali', 3))\n"
     ]
    }
   ],
   "source": [
    "                tuple = (1, \"Hello\", 3.4)\n",
    "                print(tuple)\n",
    "\n",
    "                tuple = (\"Ali\", [8.3, 2.4, 6], (1, 'Ali', 3))\n",
    "                print(tuple)"
   ]
  },
  {
   "cell_type": "code",
   "execution_count": 25,
   "metadata": {},
   "outputs": [
    {
     "name": "stdout",
     "output_type": "stream",
     "text": [
      "[8.3, 2.4, 6]\n"
     ]
    }
   ],
   "source": [
    "                tuple = (\"Ali\", [8.3, 2.4, 6], (1, 'Ali', 3))\n",
    "                print(tuple[1])"
   ]
  },
  {
   "cell_type": "code",
   "execution_count": 26,
   "metadata": {},
   "outputs": [
    {
     "name": "stdout",
     "output_type": "stream",
     "text": [
      "([8.3, 2.4, 6], (1, 'Ali', 3))\n"
     ]
    }
   ],
   "source": [
    "                tuple = (\"Ali\", [8.3, 2.4, 6], (1, 'Ali', 3))\n",
    "                print(tuple[1 : 3])"
   ]
  },
  {
   "cell_type": "code",
   "execution_count": 27,
   "metadata": {},
   "outputs": [
    {
     "name": "stdout",
     "output_type": "stream",
     "text": [
      "6\n"
     ]
    }
   ],
   "source": [
    "                tuple = (\"Ali\", [8.3, 2.4, 6], (1, 'Ali', 3))\n",
    "                print(tuple[1][2])"
   ]
  },
  {
   "cell_type": "code",
   "execution_count": 19,
   "metadata": {},
   "outputs": [
    {
     "name": "stdout",
     "output_type": "stream",
     "text": [
      "(1, 'Ali', 3)\n"
     ]
    }
   ],
   "source": [
    "                tuple = (\"Ali\", [8.3, 2.4, 6], (1, 'Ali', 3))\n",
    "                print(my_tuple[-1])"
   ]
  },
  {
   "cell_type": "markdown",
   "metadata": {},
   "source": [
    "### Updating "
   ]
  },
  {
   "cell_type": "markdown",
   "metadata": {},
   "source": [
    "* Tuples are imutable , so we can not edit it\n",
    "* We can combine two tuples and make a new tuple\n",
    "* Nested elements of tuple can be changes\n",
    "* Tuple cannot be changed but reassigned\n",
    "* Tuple can be repeared using *\n"
   ]
  },
  {
   "cell_type": "code",
   "execution_count": 22,
   "metadata": {},
   "outputs": [
    {
     "name": "stdout",
     "output_type": "stream",
     "text": [
      "(12.0, 34.0, 'qsd56', 'abc', 'xyz')\n"
     ]
    }
   ],
   "source": [
    "tup1 = (12.0, 34.,'qsd56')\n",
    "tup2 = ('abc', 'xyz') \n",
    "tup3 = tup1 + tup2; print (tup3)"
   ]
  },
  {
   "cell_type": "code",
   "execution_count": 31,
   "metadata": {},
   "outputs": [
    {
     "name": "stdout",
     "output_type": "stream",
     "text": [
      "('Ali', [8.3, 2.4, 312], [1, 'Ali', 3])\n"
     ]
    }
   ],
   "source": [
    "                tuple = (\"Ali\", [8.3, 2.4, 6], [1, 'Ali', 3])\n",
    "                tuple[1][2]=312    \n",
    "                print(tuple)"
   ]
  },
  {
   "cell_type": "code",
   "execution_count": 50,
   "metadata": {},
   "outputs": [
    {
     "name": "stdout",
     "output_type": "stream",
     "text": [
      "('Ali', [8.3, 2.4, 6], 1, 'Ali', 3)\n",
      "('Ali', 1, 'Ali', 3)\n"
     ]
    }
   ],
   "source": [
    "                tuple = (\"Ali\", [8.3, 2.4, 6], 1, 'Ali', 3)    \n",
    "                print(tuple)\n",
    "                         \n",
    "                tuple = (\"Ali\",1, 'Ali', 3)    \n",
    "                print(tuple)"
   ]
  },
  {
   "cell_type": "markdown",
   "metadata": {},
   "source": [
    "### Deleting"
   ]
  },
  {
   "cell_type": "markdown",
   "metadata": {},
   "source": [
    "* Tuple is immutablle\n",
    "* del is used to remove entire tuple because we cannot remove individual item\n"
   ]
  },
  {
   "cell_type": "code",
   "execution_count": 51,
   "metadata": {},
   "outputs": [
    {
     "name": "stdout",
     "output_type": "stream",
     "text": [
      "<class 'tuple'>\n"
     ]
    }
   ],
   "source": [
    "tuple = ('pet','ra','got','gun','rim')\n",
    "\n",
    "del tuple\n",
    "print(tuple)"
   ]
  },
  {
   "cell_type": "code",
   "execution_count": 55,
   "metadata": {},
   "outputs": [
    {
     "name": "stdout",
     "output_type": "stream",
     "text": [
      "('Ali', [8.3, 2.4, 6], 1, 'Ali', 3)\n",
      "<class 'tuple'>\n"
     ]
    }
   ],
   "source": [
    "                tuple = (\"Ali\", [8.3, 2.4, 6], 1, 'Ali', 3)    \n",
    "                print(tuple)\n",
    "                del tuple\n",
    "                print(tuple)"
   ]
  },
  {
   "cell_type": "code",
   "execution_count": 58,
   "metadata": {},
   "outputs": [
    {
     "name": "stdout",
     "output_type": "stream",
     "text": [
      "('Ali', 'saqib', 'Faris', 3)\n",
      "<class 'tuple'>\n"
     ]
    }
   ],
   "source": [
    "                tuple = (\"Ali\", 'saqib', 'Faris', 3)    \n",
    "                print(tuple)\n",
    "                del tuple\n",
    "                print(tuple)"
   ]
  },
  {
   "cell_type": "markdown",
   "metadata": {},
   "source": [
    "###     <font color=teal>2.7 Sets</font>\n"
   ]
  },
  {
   "cell_type": "markdown",
   "metadata": {},
   "source": [
    "* collection of unordered items. \n",
    "* No duplicates in collection.\n",
    "* It is immutable.\n",
    "* Set itself is mutable.We can add or remove items from it.\n",
    "* Sets are used to do  operations like union, intersection, symmetric difference etc.\n",
    "* Empty set is written as {}. items in set are seperated by comma (,) .\n",
    "* We can make a set from a list using set() function.\n",
    "* Data type can be found using type() function.\n",
    "\n",
    "\n",
    "\n",
    "**Why**\n",
    "\n",
    "    We use set because the major advantage as opposed to a list, is that it has a highly optimized method for checking\n",
    "    whether a specific element is contained in the set.\n",
    "    \n",
    "\n",
    "**When**\n",
    "\n",
    "    Use a set if you need uniqueness for the elements\n",
    "    \n",
    "\n",
    "**Where**\n",
    "\n",
    "    We use sets in real life when we want to organize books, organizing audio playlist etc"
   ]
  },
  {
   "cell_type": "code",
   "execution_count": 68,
   "metadata": {},
   "outputs": [
    {
     "name": "stdout",
     "output_type": "stream",
     "text": [
      "{1, 2, 3}\n"
     ]
    }
   ],
   "source": [
    "        listt = [1,3,2,3 ]\n",
    "        sett= set(listt)\n",
    "        print(sett)"
   ]
  },
  {
   "cell_type": "code",
   "execution_count": 73,
   "metadata": {},
   "outputs": [
    {
     "name": "stdout",
     "output_type": "stream",
     "text": [
      "<class 'set'>\n"
     ]
    }
   ],
   "source": [
    "        listt = [1,3,2,3 ]\n",
    "        sett= set(listt)\n",
    "        print(type(sett))"
   ]
  },
  {
   "cell_type": "code",
   "execution_count": 75,
   "metadata": {},
   "outputs": [
    {
     "name": "stdout",
     "output_type": "stream",
     "text": [
      "{1, 2, 3, 'ali', 'adeel'}\n"
     ]
    }
   ],
   "source": [
    "        listt = [1,'ali',3,2,'adeel',3 ]\n",
    "        sett= set(listt)\n",
    "        print(sett)"
   ]
  },
  {
   "cell_type": "markdown",
   "metadata": {},
   "source": [
    "### Updating"
   ]
  },
  {
   "cell_type": "markdown",
   "metadata": {},
   "source": [
    "* add() is used to add single value \n",
    "* update() is used for adding multiple values.\n",
    "* update() function can take tuple, strings, list or other set as argument.\n"
   ]
  },
  {
   "cell_type": "code",
   "execution_count": 80,
   "metadata": {},
   "outputs": [
    {
     "name": "stdout",
     "output_type": "stream",
     "text": [
      "{1, 2, 3, 5, '7', 'asd'}\n",
      "{1, 2, 3, 5, 'ali', 'adeel', '7', 'asd'}\n"
     ]
    }
   ],
   "source": [
    "                set = {1,3,'asd',5,'7'}\n",
    "                set.add(2)\n",
    "                print(set)\n"
   ]
  },
  {
   "cell_type": "code",
   "execution_count": 88,
   "metadata": {},
   "outputs": [
    {
     "name": "stdout",
     "output_type": "stream",
     "text": [
      "{1, 2, 3, 4, 5, '7', 'asd'}\n"
     ]
    }
   ],
   "source": [
    "                set = {1,3,'asd',5,'7'}\n",
    "                set.update([2,3,4])\n",
    "                print(set)\n",
    "                "
   ]
  },
  {
   "cell_type": "code",
   "execution_count": 91,
   "metadata": {},
   "outputs": [
    {
     "name": "stdout",
     "output_type": "stream",
     "text": [
      "{1, 2, 3, 5, 'ali', 'adeel', '7', 'asd'}\n"
     ]
    }
   ],
   "source": [
    "                set = {1,3,'asd',5,'7'} \n",
    "                listt = [1,'ali',3,2,'adeel',3 ]\n",
    "                set.update(listt)\n",
    "                print(set)"
   ]
  },
  {
   "cell_type": "markdown",
   "metadata": {},
   "source": [
    "### Deleting"
   ]
  },
  {
   "cell_type": "markdown",
   "metadata": {},
   "source": [
    "* discard() and remove() are used to to delete particular item from set.\n",
    "* discard() will not give an error if item doesn't exists in set.\n",
    "* remove() will give an error if item doesn't exists in set.\n",
    "* clear is used to remove all items\n",
    "* pop is used to return and remove item"
   ]
  },
  {
   "cell_type": "code",
   "execution_count": 114,
   "metadata": {},
   "outputs": [
    {
     "name": "stdout",
     "output_type": "stream",
     "text": [
      "{1, 2, 3, 'ali', 'adeel'}\n"
     ]
    }
   ],
   "source": [
    "            set = {1,'ali',3,2,'adeel',3 }\n",
    "            set.discard(1) \n",
    "            print(set)\n",
    "            \n",
    "            #weill not give an error\n",
    "            set.discard(8) \n",
    "            print(set)\n",
    "        "
   ]
  },
  {
   "cell_type": "code",
   "execution_count": 116,
   "metadata": {},
   "outputs": [
    {
     "name": "stdout",
     "output_type": "stream",
     "text": [
      "{1, 3, 'ali', 'adeel'}\n"
     ]
    },
    {
     "ename": "KeyError",
     "evalue": "8",
     "output_type": "error",
     "traceback": [
      "\u001b[1;31m---------------------------------------------------------------------------\u001b[0m",
      "\u001b[1;31mKeyError\u001b[0m                                  Traceback (most recent call last)",
      "\u001b[1;32m<ipython-input-116-e94f3a7456d9>\u001b[0m in \u001b[0;36m<module>\u001b[1;34m\u001b[0m\n\u001b[0;32m      5\u001b[0m \u001b[1;33m\u001b[0m\u001b[0m\n\u001b[0;32m      6\u001b[0m \u001b[1;31m#Will eraise an error message\u001b[0m\u001b[1;33m\u001b[0m\u001b[1;33m\u001b[0m\u001b[1;33m\u001b[0m\u001b[0m\n\u001b[1;32m----> 7\u001b[1;33m \u001b[0mset\u001b[0m\u001b[1;33m.\u001b[0m\u001b[0mremove\u001b[0m\u001b[1;33m(\u001b[0m\u001b[1;36m8\u001b[0m\u001b[1;33m)\u001b[0m\u001b[1;33m\u001b[0m\u001b[1;33m\u001b[0m\u001b[0m\n\u001b[0m\u001b[0;32m      8\u001b[0m \u001b[0mprint\u001b[0m\u001b[1;33m(\u001b[0m\u001b[0mset\u001b[0m\u001b[1;33m)\u001b[0m\u001b[1;33m\u001b[0m\u001b[1;33m\u001b[0m\u001b[0m\n\u001b[0;32m      9\u001b[0m \u001b[1;33m\u001b[0m\u001b[0m\n",
      "\u001b[1;31mKeyError\u001b[0m: 8"
     ]
    }
   ],
   "source": [
    "            set = {1,'ali',3,2,'adeel',3 }\n",
    "\n",
    "            set.remove(2)\n",
    "            print(set)\n",
    "            \n",
    "            #Will eraise an error message\n",
    "            set.remove(8)\n",
    "            print(set)\n",
    "            "
   ]
  },
  {
   "cell_type": "code",
   "execution_count": 110,
   "metadata": {},
   "outputs": [
    {
     "name": "stdout",
     "output_type": "stream",
     "text": [
      "1\n"
     ]
    }
   ],
   "source": [
    "            set = {1,'ali',3,2,'adeel',3 }\n",
    "            \n",
    "            print(set.pop())\n",
    "    "
   ]
  },
  {
   "cell_type": "code",
   "execution_count": 107,
   "metadata": {},
   "outputs": [
    {
     "name": "stdout",
     "output_type": "stream",
     "text": [
      "set()\n"
     ]
    }
   ],
   "source": [
    "            set = {1,'ali',3,2,'adeel',3 }\n",
    "    \n",
    "            set.clear()\n",
    "            print(set)"
   ]
  },
  {
   "cell_type": "markdown",
   "metadata": {},
   "source": [
    "### Set Operaqtions"
   ]
  },
  {
   "cell_type": "markdown",
   "metadata": {},
   "source": [
    "* Set can be used tom perform union , intersection , difference and symmetric difference"
   ]
  },
  {
   "cell_type": "code",
   "execution_count": 121,
   "metadata": {},
   "outputs": [
    {
     "name": "stdout",
     "output_type": "stream",
     "text": [
      "{'g', 'a', 'd', 'f', 'h', 'k', 's', 'j'}\n"
     ]
    }
   ],
   "source": [
    "            # UNUION\n",
    "            # Display all elemnts of both sets\n",
    "            A = {'a', 's', 'd', 'f','g' }\n",
    "            B = {'f', 'g', 'h', 'j', 'k'}\n",
    "            print(A | B)"
   ]
  },
  {
   "cell_type": "code",
   "execution_count": 122,
   "metadata": {},
   "outputs": [
    {
     "name": "stdout",
     "output_type": "stream",
     "text": [
      "{'g', 'a', 'd', 'f', 'h', 'k', 's', 'j'}\n"
     ]
    }
   ],
   "source": [
    "            # Intersection\n",
    "            # Dislay common elemens from both sets\n",
    "            A = {'a', 's', 'd', 'f','g' }\n",
    "            B = {'f', 'g', 'h', 'j', 'k'}\n",
    "            print(A | B)"
   ]
  },
  {
   "cell_type": "code",
   "execution_count": 123,
   "metadata": {},
   "outputs": [
    {
     "name": "stdout",
     "output_type": "stream",
     "text": [
      "{'d', 'a', 's'}\n"
     ]
    }
   ],
   "source": [
    "            # Differnce\n",
    "            # Display elemts only in A not i B\n",
    "            A = {'a', 's', 'd', 'f','g' }\n",
    "            B = {'f', 'g', 'h', 'j', 'k'}\n",
    "            print(A - B)"
   ]
  },
  {
   "cell_type": "code",
   "execution_count": 124,
   "metadata": {},
   "outputs": [
    {
     "name": "stdout",
     "output_type": "stream",
     "text": [
      "{'a', 's', 'k', 'd', 'j', 'h'}\n"
     ]
    }
   ],
   "source": [
    "            # Symmetric Difference\n",
    "            # Display all elemts of both sents except those which are common\n",
    "            A = {'a', 's', 'd', 'f','g' }\n",
    "            B = {'f', 'g', 'h', 'j', 'k'}\n",
    "            print(A ^ B)"
   ]
  },
  {
   "cell_type": "markdown",
   "metadata": {},
   "source": [
    "## <font color=indigo>3. Comparision Operators</font>\n"
   ]
  },
  {
   "cell_type": "markdown",
   "metadata": {},
   "source": [
    "* Comparision operators are basically relational operators, they decide relation  between values\n",
    "* Comparision operators are used for strings and numbers\n",
    "* In string it checks the size of string and capital/small alphabets also matters in comparision (ASCII values of character are used for comparision)\n",
    "* It returns true or false in output\n",
    "* Comparision operators are mostly used in If--Else and loops\n",
    "<img src=\"image.png\">"
   ]
  },
  {
   "cell_type": "code",
   "execution_count": 3,
   "metadata": {},
   "outputs": [
    {
     "data": {
      "text/plain": [
       "False"
      ]
     },
     "execution_count": 3,
     "metadata": {},
     "output_type": "execute_result"
    }
   ],
   "source": [
    "                2>3\n",
    "                "
   ]
  },
  {
   "cell_type": "code",
   "execution_count": 4,
   "metadata": {},
   "outputs": [
    {
     "data": {
      "text/plain": [
       "True"
      ]
     },
     "execution_count": 4,
     "metadata": {},
     "output_type": "execute_result"
    }
   ],
   "source": [
    "                23 < 43"
   ]
  },
  {
   "cell_type": "code",
   "execution_count": 7,
   "metadata": {},
   "outputs": [
    {
     "data": {
      "text/plain": [
       "True"
      ]
     },
     "execution_count": 7,
     "metadata": {},
     "output_type": "execute_result"
    }
   ],
   "source": [
    "                23!=32"
   ]
  },
  {
   "cell_type": "code",
   "execution_count": 10,
   "metadata": {},
   "outputs": [
    {
     "data": {
      "text/plain": [
       "False"
      ]
     },
     "execution_count": 10,
     "metadata": {},
     "output_type": "execute_result"
    }
   ],
   "source": [
    "                33 == 34"
   ]
  },
  {
   "cell_type": "code",
   "execution_count": 12,
   "metadata": {},
   "outputs": [
    {
     "data": {
      "text/plain": [
       "True"
      ]
     },
     "execution_count": 12,
     "metadata": {},
     "output_type": "execute_result"
    }
   ],
   "source": [
    "                33<=33"
   ]
  },
  {
   "cell_type": "code",
   "execution_count": 15,
   "metadata": {},
   "outputs": [
    {
     "data": {
      "text/plain": [
       "True"
      ]
     },
     "execution_count": 15,
     "metadata": {},
     "output_type": "execute_result"
    }
   ],
   "source": [
    "                45>=43"
   ]
  },
  {
   "cell_type": "code",
   "execution_count": 17,
   "metadata": {},
   "outputs": [
    {
     "data": {
      "text/plain": [
       "False"
      ]
     },
     "execution_count": 17,
     "metadata": {},
     "output_type": "execute_result"
    }
   ],
   "source": [
    "                'Turkey' == 'Istambol'"
   ]
  },
  {
   "cell_type": "code",
   "execution_count": 23,
   "metadata": {},
   "outputs": [
    {
     "data": {
      "text/plain": [
       "True"
      ]
     },
     "execution_count": 23,
     "metadata": {},
     "output_type": "execute_result"
    }
   ],
   "source": [
    "                'Turkey' <= 'turk'"
   ]
  },
  {
   "cell_type": "code",
   "execution_count": 26,
   "metadata": {},
   "outputs": [
    {
     "data": {
      "text/plain": [
       "True"
      ]
     },
     "execution_count": 26,
     "metadata": {},
     "output_type": "execute_result"
    }
   ],
   "source": [
    "                'Turkey' >= 'Turk'"
   ]
  },
  {
   "cell_type": "code",
   "execution_count": 29,
   "metadata": {},
   "outputs": [
    {
     "data": {
      "text/plain": [
       "False"
      ]
     },
     "execution_count": 29,
     "metadata": {},
     "output_type": "execute_result"
    }
   ],
   "source": [
    "                'Turkey' >= 'turk'"
   ]
  },
  {
   "cell_type": "markdown",
   "metadata": {},
   "source": [
    "##  <font color=indigo>4. IF-Else Statements</font>\n"
   ]
  },
  {
   "cell_type": "markdown",
   "metadata": {},
   "source": [
    "* IF-Else is used for dicision making\n",
    "* It is used in code when we want to run particular part of code instead of running whole code\n",
    "* Only that part  of IF-Else executes whose ccondition become fullfiled\n",
    "* elif is used for else if\n",
    "\n",
    "<img src=\"image1.png\">\n",
    "<img src=\"image2.png\">\n",
    "<img src=\"image3.png\">"
   ]
  },
  {
   "cell_type": "code",
   "execution_count": 86,
   "metadata": {},
   "outputs": [
    {
     "name": "stdout",
     "output_type": "stream",
     "text": [
      "greater\n"
     ]
    }
   ],
   "source": [
    "                num = 2\n",
    "                if num > 1:\n",
    "                    print(\"greater\")\n",
    "                elif num < 1: \n",
    "                    print(\"Lesser\")\n",
    "                else :\n",
    "                    print(\"nothing\")"
   ]
  },
  {
   "cell_type": "code",
   "execution_count": 87,
   "metadata": {},
   "outputs": [
    {
     "name": "stdout",
     "output_type": "stream",
     "text": [
      "NEGATIVE NUMBER\n"
     ]
    }
   ],
   "source": [
    "                num = -3312\n",
    "                if num > 0:\n",
    "                    print(\"positive NUMBER\")\n",
    "                else:\n",
    "                    print(\"NEGATIVE NUMBER\")"
   ]
  },
  {
   "cell_type": "code",
   "execution_count": 68,
   "metadata": {},
   "outputs": [
    {
     "name": "stdout",
     "output_type": "stream",
     "text": [
      "ODD\n"
     ]
    }
   ],
   "source": [
    "                if (2623 % 2) == 0 :\n",
    "                    print(\"EVEN\")\n",
    "                else:\n",
    "                    print(\"ODD\")"
   ]
  },
  {
   "cell_type": "markdown",
   "metadata": {},
   "source": [
    "## <font color=indigo> 5.For And While Loop</font>\n"
   ]
  },
  {
   "cell_type": "markdown",
   "metadata": {},
   "source": [
    "* When we want to perform iterations , we uses loops\n",
    "* Three types of loops for, while and do-while\n",
    "* For example when we want to take inputs many times etc\n",
    "* For loops is used when particular number of iterations needs to perform\n",
    "* While loop is used when we dont know , how many times iteratuons would be performed\n",
    "* nested loops can also be used for example we can use for , while or do-while loop in between for , while or do while loop\n",
    "* Normally code executes sequentially but there are some circumstancse when we need to run a patch of code several times so we use loop\n",
    "* We can use range function to limit the iterations\n",
    "\n",
    "<img src=\"image5.png\">\n",
    "<img src=\"image6.png\">\n"
   ]
  },
  {
   "cell_type": "code",
   "execution_count": 66,
   "metadata": {},
   "outputs": [
    {
     "name": "stdout",
     "output_type": "stream",
     "text": [
      "120\n"
     ]
    }
   ],
   "source": [
    "fact = 1 \n",
    "N = 5 \n",
    "for i in range (1,N+1):\n",
    "    fact*=i  \n",
    "\n",
    "print (fact) "
   ]
  },
  {
   "cell_type": "code",
   "execution_count": 67,
   "metadata": {},
   "outputs": [
    {
     "name": "stdout",
     "output_type": "stream",
     "text": [
      "Sum =  96\n"
     ]
    }
   ],
   "source": [
    "numbers = [41, 1, 18, 4, 32]\n",
    "sum = 0\n",
    "\n",
    "for val in numbers:\n",
    "    sum = sum+val\n",
    "\n",
    "print(\"Sum = \", sum)"
   ]
  },
  {
   "cell_type": "code",
   "execution_count": 77,
   "metadata": {},
   "outputs": [
    {
     "name": "stdout",
     "output_type": "stream",
     "text": [
      "Lahore\n",
      "karachi\n",
      "Islamabad\n",
      "Peshawer\n",
      "\n"
     ]
    }
   ],
   "source": [
    "list = ['Lahore', 'karachi', 'Islamabad','Peshawer','']\n",
    "\n",
    "for i in range(len(list)):\n",
    "    print( list[i])"
   ]
  },
  {
   "cell_type": "code",
   "execution_count": 79,
   "metadata": {},
   "outputs": [
    {
     "name": "stdout",
     "output_type": "stream",
     "text": [
      "120\n"
     ]
    }
   ],
   "source": [
    "n = 5\n",
    "fact = 1\n",
    "\n",
    "i = 1\n",
    "while i <=n :\n",
    "    fact*=i\n",
    "    i=i+1\n",
    "    \n",
    "    \n",
    "print(fact)"
   ]
  },
  {
   "cell_type": "markdown",
   "metadata": {},
   "source": [
    "###  <font color=teal>Loop Control Statements</font>\n"
   ]
  },
  {
   "cell_type": "markdown",
   "metadata": {},
   "source": [
    "* **break** terminates loop and move forward toward the immediate following loop\n",
    "* **Continue** it skips the value of the current iteration based on condition and then other iteration will go on normally\n",
    "<img src=\"image8.png\">\n",
    "<img src=\"image9.png\">\n",
    " "
   ]
  },
  {
   "cell_type": "code",
   "execution_count": 83,
   "metadata": {},
   "outputs": [
    {
     "name": "stdout",
     "output_type": "stream",
     "text": [
      "p\n",
      "a\n",
      "k\n",
      "i\n",
      "s\n",
      "t\n",
      "a\n",
      "n\n"
     ]
    }
   ],
   "source": [
    "for val in \"pakistano\":\n",
    "    if val == \"o\":\n",
    "        break\n",
    "    print(val)\n"
   ]
  },
  {
   "cell_type": "code",
   "execution_count": 6,
   "metadata": {},
   "outputs": [
    {
     "name": "stdout",
     "output_type": "stream",
     "text": [
      "p\n",
      "a\n",
      "k\n",
      "i\n",
      "s\n",
      "t\n",
      "a\n",
      "n\n"
     ]
    }
   ],
   "source": [
    "for val in \"pakisltan\":\n",
    "    if val == \"l\":\n",
    "        continue\n",
    "    print(val)\n"
   ]
  },
  {
   "cell_type": "markdown",
   "metadata": {},
   "source": [
    "##  <font color=indigo>6. Functions </font>\n"
   ]
  },
  {
   "cell_type": "markdown",
   "metadata": {},
   "source": [
    "* Function is used to perform specific task. \n",
    "* Functions is reuseable, once it is crreated then i can be used anywhere\n",
    "* It can also reduce length of code\n",
    "* Functions can be defined as **def functionName(Parameters): **\n",
    "* Functions is used to make program manageable\n",
    "* Keyword **def** marks the start of function header \n",
    "* we can pass value through **parameters**. They are optional\n",
    "* **colon (:)** used to mark the end of function header\n",
    "* Optional documentation string **(docstring)** to describe what the function does\n",
    "* An optional **return statement** to return a value from the function.It is also optional\n",
    "* Tuple / List etc can be passed as parameter in function\n",
    "* a Function can be declared which will call another function again and again untill condition satisfied , this is called as **recursive function**\n",
    "* There are many **built in** functions in Python\n",
    "\n",
    "                            def functionname( parameters ):\n",
    "                            \"function_docstring\"\n",
    "                            function_suite\n",
    "                            return [expression]\n",
    "                            \n",
    " <img src=\"image10.png\">\n"
   ]
  },
  {
   "cell_type": "code",
   "execution_count": 7,
   "metadata": {},
   "outputs": [
    {
     "name": "stdout",
     "output_type": "stream",
     "text": [
      "I am Hamza\n"
     ]
    }
   ],
   "source": [
    "                def printme( str ):\n",
    "                        print (str)   \n",
    "                        return; \n",
    "                printme(\"I am Hamza\") "
   ]
  },
  {
   "cell_type": "code",
   "execution_count": 11,
   "metadata": {},
   "outputs": [
    {
     "name": "stdout",
     "output_type": "stream",
     "text": [
      "32\n",
      "24\n"
     ]
    }
   ],
   "source": [
    "                def abslt(num):\n",
    "\n",
    "                    if num >= 0:\n",
    "                        return num\n",
    "                    else:\n",
    "                        return -num\n",
    "\n",
    "                print(abslt(32))\n",
    "                print(abslt(-24))"
   ]
  },
  {
   "cell_type": "code",
   "execution_count": 13,
   "metadata": {},
   "outputs": [
    {
     "name": "stdout",
     "output_type": "stream",
     "text": [
      "55\n",
      "30\n"
     ]
    }
   ],
   "source": [
    "                def add(num1,num2):\n",
    "                    num1+num2\n",
    "                    \n",
    "                print(abslt(32+23))\n",
    "                print(abslt(-24+54))"
   ]
  },
  {
   "cell_type": "code",
   "execution_count": 30,
   "metadata": {},
   "outputs": [
    {
     "name": "stdout",
     "output_type": "stream",
     "text": [
      "['Muhammad', 'Ali', 'Manan', 'Nabeel']\n"
     ]
    }
   ],
   "source": [
    "#Tuple is passesd as parameter\n",
    "def greet(*names):\n",
    "    \n",
    "    for name in names:\n",
    "       print(name)\n",
    "\n",
    "names = [\"Muhammad\",\"Ali\",\"Manan\",\"Nabeel\"]\n",
    "\n",
    "greet(names)"
   ]
  },
  {
   "cell_type": "code",
   "execution_count": 29,
   "metadata": {},
   "outputs": [
    {
     "name": "stdout",
     "output_type": "stream",
     "text": [
      "Factorial =  24\n"
     ]
    }
   ],
   "source": [
    "# Recursive Function for factorial\n",
    "def factorial(x):\n",
    "\n",
    "    if x == 1:\n",
    "        return 1\n",
    "    else:\n",
    "        return (x * factorial(x-1))\n",
    "\n",
    "num = 4\n",
    "print(\"Factorial = \",factorial(num))"
   ]
  },
  {
   "cell_type": "markdown",
   "metadata": {},
   "source": [
    "###  <font color=teal>Built-In Functions </font>\n"
   ]
  },
  {
   "cell_type": "markdown",
   "metadata": {},
   "source": [
    "**There are some built-in functions in Python, which are already defined in python**\n",
    "\n",
    "* **abs()**\t             returns absolute value of a number\n",
    "* **all()**\t             returns true when all elements in iterable is true\n",
    "* **any()**\t             Checks if any Element of an Iterable is True\n",
    "* **ascii()**            Returns String Containing Printable Representation\n",
    "* **bin()**\t             converts integer to binary string\n",
    "* **bool()**\t         Converts a Value to Boolean\n",
    "* **bytearray()**\t     returns array of given byte size\n",
    "* **bytes()**\t         returns immutable bytes object\n",
    "* **callable()**\t     Checks if the Object is Callable\n",
    "* **chr()**\t             Returns a Character (a string) from an Integer\n",
    "* **classmethod()**\t     returns class method for given function\n",
    "* **compile()**\t         Returns a Python code object\n",
    "* **complex()**\t         Creates a Complex Number\n",
    "* **delattr()**\t         Deletes Attribute From the Object\n",
    "* **dict()**\t         Creates a Dictionary\n",
    "* **dir()**\t             Tries to Return Attributes of Object\n",
    "* **divmod()**\t         Returns a Tuple of Quotient and Remainder\n",
    "* **enumerate()**\t     Returns an Enumerate Object\n",
    "* **eval()**\t         Runs Python Code Within Program\n",
    "* **exec()**\t         Executes Dynamically Created Program\n",
    "* **filter()**\t         constructs iterator from elements which are true\n",
    "* **float()**\t         returns floating point number from number, string\n",
    "* **format()**\t         returns formatted representation of a value\n",
    "* **frozenset()**\t     returns immutable frozenset object\n",
    "* **getattr()**\t         returns value of named attribute of an object\n",
    "* **globals()**\t         returns dictionary of current global symbol table\n",
    "* **hasattr()**\t         returns whether object has named attribute\n",
    "* **hash()**\t         returns hash value of an object\n",
    "* **help()**\t         Invokes the built-in Help System\n",
    "* **hex()**\t             Converts to Integer to Hexadecimal\n",
    "* **id()**\t             Returns Identify of an Object\n",
    "* **input()**\t         reads and returns a line of string\n",
    "* **int()**\t             returns integer from a number or string\n",
    "* **isinstance()**\t     Checks if a Object is an Instance of Class\n",
    "* **issubclass()**\t     Checks if a Object is Subclass of a Class\n",
    "* **iter()**\t         returns iterator for an object\n",
    "* **len()**\t             Returns Length of an Object\n",
    "* **list()** Function\t creates list in Python\n",
    "* **locals()**\t         Returns dictionary of a current local symbol table\n",
    "* **map()**\t             Applies Function and Returns a List\n",
    "* **max()**\t             returns largest element\n",
    "* **memoryview()**\t     returns memory view of an argument\n",
    "* **min()**\t             returns smallest element\n",
    "* **next()**\t         Retrieves Next Element from Iterator\n",
    "* **object()**\t         Creates a Featureless Object\n",
    "* **oct()**\t             converts integer to octal\n",
    "* **open()**\t         Returns a File object\n",
    "* **ord()**\t             returns Unicode code point for Unicode character\n",
    "* **pow()**\t             returns x to the power of y\n",
    "* **print()**\t         Prints the Given Object\n",
    "* **property()**\t     returns a property attribute\n",
    "* **range()**\t         return sequence of integers between start and stop\n",
    "* **repr()**\t         returns printable representation of an object\n",
    "* **reversed()**         returns reversed iterator of a sequence\n",
    "* **round()**\t         rounds a floating point number to ndigits places.\n",
    "* **set()**\t             returns a Python set\n",
    "* **setattr()**\t         sets value of an attribute of object\n",
    "* **slice()**            creates a slice object specified by range()\n",
    "* **sorted()**           returns sorted list from a given iterable\n",
    "* **staticmethod()**\t creates static method from a function\n",
    "* **str()**\t             returns informal representation of an object\n",
    "* **sum()**\t             Add items of an Iterable\n",
    "* **super()**\t         Allow you to Refer Parent Class by super\n",
    "* **tuple()**            Function\tCreates a Tuple\n",
    "* **type()**\t         Returns Type of an Object\n",
    "* **vars()**             Returns __dict__ attribute of a class\n",
    "* **zip()**\t             Returns an Iterator of Tuples\n",
    "*  __**import**__()\t     Advanced Function Called by import"
   ]
  },
  {
   "cell_type": "markdown",
   "metadata": {},
   "source": [
    "## <font color=indigo> 7. Lambda Function </font>\n"
   ]
  },
  {
   "cell_type": "markdown",
   "metadata": {},
   "source": [
    "* In Python, anonymous function is a function that is defined without a name.\n",
    "* While normal functions are defined using the **def** keyword, in Python anonymous functions are defined using the **lambda** keyword.\n",
    "* Anonymous functions are also called lambda functions.\n",
    "* It has following syntax\n",
    "                **lambda arguments: expression**\n",
    "* Lambda functions can have any number of arguments but only one expression. The expression is evaluated and returned.\n",
    "* Lambda functions can be used wherever function objects are required.\n",
    "* "
   ]
  },
  {
   "cell_type": "code",
   "execution_count": 32,
   "metadata": {},
   "outputs": [
    {
     "data": {
      "text/plain": [
       "30"
      ]
     },
     "execution_count": 32,
     "metadata": {},
     "output_type": "execute_result"
    }
   ],
   "source": [
    "        times3 = lambda var:var*3 \n",
    "        times3(10)"
   ]
  },
  {
   "cell_type": "code",
   "execution_count": 33,
   "metadata": {},
   "outputs": [
    {
     "name": "stdout",
     "output_type": "stream",
     "text": [
      "15\n"
     ]
    }
   ],
   "source": [
    "        x = lambda a : a + 10\n",
    "        print(x(5))"
   ]
  },
  {
   "cell_type": "code",
   "execution_count": 41,
   "metadata": {},
   "outputs": [
    {
     "name": "stdout",
     "output_type": "stream",
     "text": [
      "30\n"
     ]
    }
   ],
   "source": [
    "        x = lambda a, b : a * b\n",
    "        print(x(5, 6))"
   ]
  },
  {
   "cell_type": "code",
   "execution_count": 45,
   "metadata": {},
   "outputs": [
    {
     "name": "stdout",
     "output_type": "stream",
     "text": [
      "3125\n"
     ]
    }
   ],
   "source": [
    "        x = lambda a, b : a**b\n",
    "\n",
    "    print(x(5, 5))"
   ]
  },
  {
   "cell_type": "markdown",
   "metadata": {},
   "source": [
    "### <font color=skyblue>7.1 map()  </font>\n"
   ]
  },
  {
   "cell_type": "markdown",
   "metadata": {},
   "source": [
    "* Map() function is used with two arguments. Its syntax is as follow \n",
    "                         r = map(func, seq)\n",
    "* The first argument func is the name of a function and \n",
    "* the second a sequence (e.g. a list,tumple,set). seq. map() applies the function func to all the elements of the sequence .\n",
    "* And returns a modified sequence changed by func.\n"
   ]
  },
  {
   "cell_type": "code",
   "execution_count": 77,
   "metadata": {},
   "outputs": [
    {
     "name": "stdout",
     "output_type": "stream",
     "text": [
      "['It', 'is', 'raining', 'cats', 'and', 'dogs']\n",
      "(2, 2, 7, 4, 3, 4)\n"
     ]
    }
   ],
   "source": [
    "                sentence = 'It is raining cats and dogs' \n",
    "                words = sentence.split() \n",
    "                print (words)\n",
    "                lengths = map(lambda word: len(word), words) \n",
    "                print(tuple(lengths))\n",
    "                "
   ]
  },
  {
   "cell_type": "code",
   "execution_count": 78,
   "metadata": {},
   "outputs": [
    {
     "name": "stdout",
     "output_type": "stream",
     "text": [
      "(1, 4, 9, 16, 529, 25)\n"
     ]
    }
   ],
   "source": [
    "                def calculateSquare(n):\n",
    "                  return n*n\n",
    "\n",
    "                numbers = (1, 2, 3, 4,23,5)\n",
    "                result = map(calculateSquare, numbers)\n",
    "                print(tuple(result))"
   ]
  },
  {
   "cell_type": "code",
   "execution_count": 76,
   "metadata": {},
   "outputs": [
    {
     "name": "stdout",
     "output_type": "stream",
     "text": [
      "{11, 4, 7}\n"
     ]
    }
   ],
   "source": [
    "                num1 = [7,5,3]\n",
    "                num2 = [4,2,1]\n",
    "\n",
    "                result = map(lambda n1, n2: n1+n2, num1, num2)\n",
    "                print(tuple(result))"
   ]
  },
  {
   "cell_type": "code",
   "execution_count": 83,
   "metadata": {},
   "outputs": [
    {
     "name": "stdout",
     "output_type": "stream",
     "text": [
      "('shocked', 'Knocked', 'Rocked', 'Crowded')\n"
     ]
    }
   ],
   "source": [
    "                strg = ['shock','Knock','Rock','Crowd']\n",
    "                result = map(lambda x: x+'ed', strg)\n",
    "                print(tuple(result))"
   ]
  },
  {
   "cell_type": "markdown",
   "metadata": {},
   "source": [
    "### <font color=skyblue>7.2 filter()  </font>\n"
   ]
  },
  {
   "cell_type": "markdown",
   "metadata": {},
   "source": [
    "* The filter() method constructs an iterator from elements of an iterable for which a function returns true\n",
    "* The syntax  is as follow\n",
    "                     filter(function, iterable)\n",
    "* The function filter(f,l) needs a function f as its first argument. f returns a Boolean value, i.e. either True or False. \n",
    "* This function will be applied to every element of the ITERABLE . \n",
    " "
   ]
  },
  {
   "cell_type": "code",
   "execution_count": 99,
   "metadata": {},
   "outputs": [
    {
     "name": "stdout",
     "output_type": "stream",
     "text": [
      "(3,)\n"
     ]
    }
   ],
   "source": [
    "list = [1, 5, 4, 6, 8, 11, 3, 12]\n",
    "\n",
    "print( tuple(filter(lambda x: (x+3 == 6) , my_list)))\n"
   ]
  },
  {
   "cell_type": "code",
   "execution_count": 93,
   "metadata": {},
   "outputs": [
    {
     "data": {
      "text/plain": [
       "(1, 1, 3, 5, 13, 21, 55)"
      ]
     },
     "execution_count": 93,
     "metadata": {},
     "output_type": "execute_result"
    }
   ],
   "source": [
    "fib = [0,1,1,2,3,5,8,13,21,34,55] \n",
    "result1 = filter(lambda x: x % 2, fib) \n",
    "tuple(result1) "
   ]
  },
  {
   "cell_type": "code",
   "execution_count": 101,
   "metadata": {},
   "outputs": [
    {
     "data": {
      "text/plain": [
       "(0, 2, 8, 34)"
      ]
     },
     "execution_count": 101,
     "metadata": {},
     "output_type": "execute_result"
    }
   ],
   "source": [
    "fib = [0,1,1,2,3,5,8,13,21,34,55] \n",
    "result2 = filter(lambda x: x % 2 == 0, fib) \n",
    "tuple(result2) \n",
    "    "
   ]
  },
  {
   "cell_type": "code",
   "execution_count": 105,
   "metadata": {},
   "outputs": [
    {
     "name": "stdout",
     "output_type": "stream",
     "text": [
      "('Rock',)\n"
     ]
    }
   ],
   "source": [
    "strg = ['shock','Knock','Rock','Crowd']\n",
    "print( tuple(filter(lambda x: x+'ed' =='Rocked', strg) ))"
   ]
  },
  {
   "cell_type": "markdown",
   "metadata": {},
   "source": [
    "## <font color=indigo> 8. File I/O </font>\n",
    " "
   ]
  },
  {
   "cell_type": "markdown",
   "metadata": {},
   "source": [
    "* We are going to discuss all basic functions of I/O\n",
    "* Python has several functions for creating, reading, updating, and deleting files."
   ]
  },
  {
   "cell_type": "markdown",
   "metadata": {},
   "source": [
    "### <font color=cyan>  Reading Input From Keyboard</font>\n",
    " "
   ]
  },
  {
   "cell_type": "markdown",
   "metadata": {},
   "source": [
    "* Python provides two built-in functions to read a line of text from standard input, which by default comes from the keyboard. **These functions are**\n",
    "\n",
    "            raw_input\n",
    "            input\n",
    "            \n",
    "* The raw_input([prompt]) function reads one line from standard input and returns it as a string (removing the trailing newline).\n",
    "* The input([prompt]) function is equivalent to raw_input, except that it assumes the input is a valid Python expression and returns the evaluated result to you."
   ]
  },
  {
   "cell_type": "code",
   "execution_count": 26,
   "metadata": {},
   "outputs": [
    {
     "name": "stdout",
     "output_type": "stream",
     "text": [
      "What is your name? Hamza\n"
     ]
    },
    {
     "data": {
      "text/plain": [
       "str"
      ]
     },
     "execution_count": 26,
     "metadata": {},
     "output_type": "execute_result"
    }
   ],
   "source": [
    "            #to check type of input\n",
    "            name = input(\"What is your name? \")\n",
    "            type(name)"
   ]
  },
  {
   "cell_type": "code",
   "execution_count": 27,
   "metadata": {},
   "outputs": [
    {
     "name": "stdout",
     "output_type": "stream",
     "text": [
      "Enter your input: CUI\n",
      "you entered :  CUI\n"
     ]
    },
    {
     "data": {
      "text/plain": [
       "str"
      ]
     },
     "execution_count": 27,
     "metadata": {},
     "output_type": "execute_result"
    }
   ],
   "source": [
    "            #whatever you entered that will convertted to string\n",
    "            str = input(\"Enter your input: \");\n",
    "            print (\"you entered : \", str)\n",
    "            type(str)"
   ]
  },
  {
   "cell_type": "code",
   "execution_count": 28,
   "metadata": {},
   "outputs": [
    {
     "name": "stdout",
     "output_type": "stream",
     "text": [
      "Enter your input: 123\n",
      "you entered :  123\n"
     ]
    },
    {
     "data": {
      "text/plain": [
       "int"
      ]
     },
     "execution_count": 28,
     "metadata": {},
     "output_type": "execute_result"
    }
   ],
   "source": [
    "            #int input\n",
    "            i = int(input(\"Enter your input: \"));\n",
    "            print (\"you entered : \", i)\n",
    "            type(i)"
   ]
  },
  {
   "cell_type": "code",
   "execution_count": 29,
   "metadata": {},
   "outputs": [
    {
     "name": "stdout",
     "output_type": "stream",
     "text": [
      "Enter your input: 123.123\n",
      "you entered :  123.123\n"
     ]
    },
    {
     "data": {
      "text/plain": [
       "float"
      ]
     },
     "execution_count": 29,
     "metadata": {},
     "output_type": "execute_result"
    }
   ],
   "source": [
    "            #float input\n",
    "            f = float(input(\"Enter your input: \"));\n",
    "            print (\"you entered : \", f)\n",
    "            type(f)"
   ]
  },
  {
   "cell_type": "code",
   "execution_count": 2,
   "metadata": {},
   "outputs": [
    {
     "name": "stdout",
     "output_type": "stream",
     "text": [
      "Enter your input: 12+2j\n",
      "you entered :  (12+2j)\n"
     ]
    },
    {
     "data": {
      "text/plain": [
       "complex"
      ]
     },
     "execution_count": 2,
     "metadata": {},
     "output_type": "execute_result"
    }
   ],
   "source": [
    "            #float input\n",
    "            f = complex(input(\"Enter your input: \"));\n",
    "            print (\"you entered : \", f)\n",
    "            type(f)"
   ]
  },
  {
   "cell_type": "markdown",
   "metadata": {},
   "source": [
    "###  <font color=orange> I/O from or to Text File </font>\n",
    " "
   ]
  },
  {
   "cell_type": "markdown",
   "metadata": {},
   "source": [
    "* **\"r\"** - Read - Default value. Opens a file for reading, error if the file does not exist\n",
    "* **\"r+\"**- Read/Write - opens a file read and write mode. \n",
    "* **\"a\"** - Append - Opens a file for appending, creates the file if it does not exist\n",
    "* **a+** -  Append and Read - opens a file in append and read mode.\n",
    "* **\"w\"** - Write - Opens a file for writing, creates the file if it does not exist\n",
    "* **\"x\"** - Create - Creates the specified file, returns an error if the file exists\n",
    "\n",
    "**In addition you can specify if the file should be handled as binary or text mode**\n",
    "* **\"t\"** - Text - Default value. Text mode\n",
    "* **\"b\"** - Binary - Binary mode (e.g. images)\n",
    "\n",
    "**The Syntax is as follow**\n",
    "            \n",
    "            f = open(\"demofile.txt\", \"rt\")\n",
    "            f = open(\"demofile.txt\")"
   ]
  },
  {
   "cell_type": "code",
   "execution_count": 98,
   "metadata": {},
   "outputs": [
    {
     "name": "stdout",
     "output_type": "stream",
     "text": [
      "Hamza\n"
     ]
    }
   ],
   "source": [
    "            fileOpen = open(\"ML.txt\", \"w\") \n",
    "            str = fileOpen.write(\"Hamza\"); \n",
    "            fileOpen.close() \n",
    "\n",
    "            fileOpen = open(\"ML.txt\", \"r+\") \n",
    "            str = fileOpen.read(); \n",
    "            print(str)\n",
    "            fileOpen.close() \n"
   ]
  },
  {
   "cell_type": "code",
   "execution_count": 66,
   "metadata": {},
   "outputs": [
    {
     "name": "stdout",
     "output_type": "stream",
     "text": [
      "Hamza\n",
      "CUI Lahore\n"
     ]
    }
   ],
   "source": [
    "            fileOpen = open(\"ML.txt\", \"a+\") \n",
    "            fileOpen.write(\"\\nCUI Lahore\");  \n",
    "            fileOpen.close() \n",
    "\n",
    "            fileOpen = open(\"ML.txt\", \"r+\") \n",
    "            string = fileOpen.read(); \n",
    "            print (string) \n",
    "            fileOpen.close() "
   ]
  },
  {
   "cell_type": "code",
   "execution_count": 60,
   "metadata": {},
   "outputs": [
    {
     "name": "stdout",
     "output_type": "stream",
     "text": [
      "Name of the file:  ML.txt\n"
     ]
    }
   ],
   "source": [
    "\n",
    "            ML = open(\"ML.txt\", \"wb\")\n",
    "            print (\"Name of the file: \", ML.name)\n",
    "\n",
    "            ML.close()"
   ]
  },
  {
   "cell_type": "code",
   "execution_count": 70,
   "metadata": {},
   "outputs": [
    {
     "name": "stdout",
     "output_type": "stream",
     "text": [
      "Hamza\n",
      "C\n"
     ]
    }
   ],
   "source": [
    "            # Read Limited length of file\n",
    "            fileOpen = open(\"ML.txt\", \"r\") \n",
    "            str = fileOpen.read(7)\n",
    "            print(str)\n",
    "            fileOpen.close() \n"
   ]
  },
  {
   "cell_type": "code",
   "execution_count": 68,
   "metadata": {},
   "outputs": [
    {
     "name": "stdout",
     "output_type": "stream",
     "text": [
      "Closed of not  False\n",
      "Closed of not  True\n"
     ]
    }
   ],
   "source": [
    "            ML = open(\"ML.txt\", \"rb\")\n",
    "            print (\"Closed of not \", ML.closed)\n",
    "\n",
    "            ML.close()\n",
    "            print (\"Closed of not \", ML.closed)\n"
   ]
  },
  {
   "cell_type": "markdown",
   "metadata": {},
   "source": [
    "###  <font color=yellow>File Position </font>\n",
    " "
   ]
  },
  {
   "cell_type": "markdown",
   "metadata": {},
   "source": [
    "For findind file position we use **seek()** and **tell()**\n",
    "* The method tell() returns the current position of the file read/write pointer within the file.\n",
    "* The method seek() sets the file's current position at the offset. The whence argument is optional and defaults to 0, which means absolute file positioning, other values are 1 which means seek relative to the current position and 2 means seek relative to the file's end."
   ]
  },
  {
   "cell_type": "code",
   "execution_count": 81,
   "metadata": {},
   "outputs": [
    {
     "name": "stdout",
     "output_type": "stream",
     "text": [
      "Hamza\n",
      "C\n",
      "Position is  8\n"
     ]
    }
   ],
   "source": [
    "            # Read Limited length of file\n",
    "            fileOpen = open(\"ML.txt\", \"r\") \n",
    "            str = fileOpen.read(7)\n",
    "            print(str)\n",
    "            print(\"Position is \",fileOpen.tell())\n",
    "            fileOpen.close() \n"
   ]
  },
  {
   "cell_type": "code",
   "execution_count": 80,
   "metadata": {},
   "outputs": [
    {
     "name": "stdout",
     "output_type": "stream",
     "text": [
      "Hamz\n",
      "Position is  4\n"
     ]
    }
   ],
   "source": [
    "            # Read Limited length of file\n",
    "            fileOpen = open(\"ML.txt\", \"r\") \n",
    "            str = fileOpen.read(4)\n",
    "            print(str)\n",
    "            print(\"Position is \",fileOpen.tell())\n",
    "            fileOpen.close() \n"
   ]
  },
  {
   "cell_type": "code",
   "execution_count": 82,
   "metadata": {},
   "outputs": [
    {
     "name": "stdout",
     "output_type": "stream",
     "text": [
      "Hamza\n",
      "CUI Lahore\n",
      "Position is  17\n"
     ]
    }
   ],
   "source": [
    "            # Read Limited length of file\n",
    "            fileOpen = open(\"ML.txt\", \"r\") \n",
    "            str = fileOpen.read()\n",
    "            print(str)\n",
    "            print(\"Position is \",fileOpen.tell())\n",
    "            fileOpen.close() \n"
   ]
  },
  {
   "cell_type": "code",
   "execution_count": 83,
   "metadata": {},
   "outputs": [
    {
     "name": "stdout",
     "output_type": "stream",
     "text": [
      "Hamza\n",
      "C\n",
      "New Position is  2\n",
      "mza\n",
      "CUI Laho\n"
     ]
    }
   ],
   "source": [
    "            # Read Limited length of file\n",
    "            fileOpen = open(\"ML.txt\", \"r\") \n",
    "            str = fileOpen.read(7)\n",
    "            print(str)\n",
    "\n",
    "            # setting position of pointer at 2 \n",
    "            print(\"New Position is \",fileOpen.seek(2)) \n",
    "            str = fileOpen.read(12)\n",
    "            print(str)\n",
    "            fileOpen.close()"
   ]
  },
  {
   "cell_type": "code",
   "execution_count": 87,
   "metadata": {},
   "outputs": [
    {
     "name": "stdout",
     "output_type": "stream",
     "text": [
      "New Position is  6\n",
      "\n",
      "CUI Lahore\n"
     ]
    }
   ],
   "source": [
    "            # Read Limited length of file\n",
    "            fileOpen = open(\"ML.txt\", \"r\")\n",
    "            # setting position of pointer at 6 \n",
    "            print(\"New Position is \",fileOpen.seek(6)) \n",
    "            str = fileOpen.read(12)\n",
    "            print(str)\n",
    "            fileOpen.close()"
   ]
  },
  {
   "cell_type": "code",
   "execution_count": 99,
   "metadata": {},
   "outputs": [
    {
     "name": "stdout",
     "output_type": "stream",
     "text": [
      "File name is   LM.txt\n"
     ]
    }
   ],
   "source": [
    "            import os \n",
    "            os.rename(\"ML.txt\", \"LM.txt\") \n",
    "            ML = open(\"LM.txt\", \"rb\")\n",
    "            print (\"File name is  \", ML.name)\n",
    "            ML.close()\n"
   ]
  },
  {
   "cell_type": "code",
   "execution_count": 100,
   "metadata": {},
   "outputs": [],
   "source": [
    "            os.remove(\"LM.txt\") "
   ]
  },
  {
   "cell_type": "markdown",
   "metadata": {},
   "source": [
    "#  <font color=green>-------------------9. Panda's introduction-------------------</font>"
   ]
  },
  {
   "cell_type": "markdown",
   "metadata": {},
   "source": [
    "* Pandas is an open-source Python Library \n",
    "* Providing high performance data manipulation and analysis tool using its powerful data structures.\n",
    "* The name Pandas is derived from the word Panel Data \n",
    "\n",
    "* Developer **Wes McKinney In 2008**, started developing pandas when in need of high performance, flexible tool for analysis of data.\n",
    "* Prior to Pandas Python was majorly used for data munging and preparation. \n",
    "* It had very little contribution towards data analysis. Pandas solved this problem. Using Pandas.\n",
    "* we can accomplish five typical steps in the processing and analysis of data, regardless of the origin of data \n",
    "                        \n",
    "                        load\n",
    "                        prepare\n",
    "                        manipulate\n",
    "                        model\n",
    "                        analyze.\n",
    "\n",
    "* Python with Pandas is used in a wide range of fields including academic and commercial domains including \n",
    "            \n",
    "                       finance\n",
    "                       economics\n",
    "                       Statistics\n",
    "                       analytics  etc\n",
    "\n",
    "**FEATURES**\n",
    "* Fast and efficient DataFrame object with default and customized indexing.\n",
    "* Tools for loading data into in-memory data objects from different file formats.\n",
    "* Data alignment and integrated handling of missing data.\n",
    "* Reshaping and pivoting of date sets.\n",
    "* Label-based slicing, indexing and subsetting of large data sets.\n",
    "* Columns from a data structure can be deleted or inserted.\n",
    "* Group by data for aggregation and transformations.\n",
    "* High performance merging and joining of data.\n",
    "* Time Series functionality.\n",
    "\n",
    "**The Data Structures provided by Pandas are of two distinct types**\n",
    "\n",
    "                    1- Pandas Series\n",
    "                    2- Pandas DataFrame    "
   ]
  },
  {
   "cell_type": "markdown",
   "metadata": {},
   "source": [
    "##  <font color=indigo>10. Series</font>\n",
    " "
   ]
  },
  {
   "cell_type": "markdown",
   "metadata": {},
   "source": [
    "* A Series is a one-dimensional object that can hold any data type such as integers, floats and strings\n",
    "* A series is very similar to NumPy array.\n",
    "* The difference between the NumPy array from a Series, is that a Series can have axis labels, meaning it can be indexed by a label, instead of just a number location \n",
    "* The axis labels are collectively referred to as the index\n",
    "\n",
    "**A pandas Series can be created using the following constructor**\n",
    "\n",
    "                        pandas.Series( data, index = index)\n",
    "                                    OR\n",
    "                        pandas.Series(data,index = index) \n",
    "                 \n",
    "    data  -  data takes various forms like ndarray, list, constants\n",
    "\n",
    "    Index -  Index values must be unique and hashable,same length as data.Default np.arrange(n) if no index is passed\t       \n",
    "    \n",
    "    dtype -  dtype is for data type. If None, data type will be inferred\n",
    "    \n",
    "    copy  -  Copy data. Default False\n",
    "                        \n",
    "**A series can be created using various inputs like**\n",
    "* ndArray\n",
    "* Dict\n",
    "* Scalar value or constant"
   ]
  },
  {
   "cell_type": "markdown",
   "metadata": {},
   "source": [
    "### 10.1 From ndArray"
   ]
  },
  {
   "cell_type": "markdown",
   "metadata": {},
   "source": [
    "* If data is an ndarray, index must be the same length as data.\n",
    "* If no index is passed, one will be created having values [0, ..., len(data) - 1].\n"
   ]
  },
  {
   "cell_type": "code",
   "execution_count": 3,
   "metadata": {},
   "outputs": [
    {
     "data": {
      "text/plain": [
       "a    0.755784\n",
       "b   -0.379226\n",
       "c   -1.665673\n",
       "d    0.262326\n",
       "e    0.655381\n",
       "dtype: float64"
      ]
     },
     "execution_count": 3,
     "metadata": {},
     "output_type": "execute_result"
    }
   ],
   "source": [
    "            import pandas as pd\n",
    "            import numpy as np\n",
    "            import matplotlib.pyplot as plt \n",
    "\n",
    "            s = pd.Series(np.random.randn(5), index=['a', 'b', 'c', 'd', 'e'])\n",
    "            s"
   ]
  },
  {
   "cell_type": "code",
   "execution_count": 6,
   "metadata": {},
   "outputs": [
    {
     "data": {
      "text/plain": [
       "100    a\n",
       "101    b\n",
       "102    c\n",
       "103    d\n",
       "dtype: object"
      ]
     },
     "execution_count": 6,
     "metadata": {},
     "output_type": "execute_result"
    }
   ],
   "source": [
    "            import pandas as pd\n",
    "            import numpy as np\n",
    "\n",
    "            data = np.array(['a','b','c','d'])\n",
    "            s = pd.Series(data,index=[100,101,102,103])\n",
    "            s"
   ]
  },
  {
   "cell_type": "code",
   "execution_count": 8,
   "metadata": {},
   "outputs": [
    {
     "data": {
      "text/plain": [
       "0    a\n",
       "1    b\n",
       "2    c\n",
       "3    d\n",
       "dtype: object"
      ]
     },
     "execution_count": 8,
     "metadata": {},
     "output_type": "execute_result"
    }
   ],
   "source": [
    "            import pandas as pd\n",
    "            import numpy as np\n",
    "\n",
    "            data = np.array(['a','b','c','d'])\n",
    "            s = pd.Series(data)\n",
    "            s"
   ]
  },
  {
   "cell_type": "code",
   "execution_count": 10,
   "metadata": {},
   "outputs": [
    {
     "name": "stdout",
     "output_type": "stream",
     "text": [
      "2    e\n",
      "3    k\n",
      "4    s\n",
      "5    f\n",
      "6    o\n",
      "dtype: object\n"
     ]
    }
   ],
   "source": [
    "            import pandas as pd\n",
    "            import numpy as np\n",
    "\n",
    "            data = np.array(['g','e','e','k','s','f', 'o','r','g','e','e','k','s'])\n",
    "            ser = pd.Series(data)\n",
    "\n",
    "            print(ser[2:7])"
   ]
  },
  {
   "cell_type": "code",
   "execution_count": 14,
   "metadata": {},
   "outputs": [
    {
     "name": "stdout",
     "output_type": "stream",
     "text": [
      "5    e\n",
      "6    e\n",
      "7    k\n",
      "8    s\n",
      "dtype: object\n"
     ]
    }
   ],
   "source": [
    "            import pandas as pd\n",
    "            import numpy as np\n",
    "\n",
    "            data = np.array(['g','e','e','k','g','e','e','k','s'])\n",
    "            ser = pd.Series(data)\n",
    "\n",
    "            print(ser[5:])"
   ]
  },
  {
   "cell_type": "markdown",
   "metadata": {},
   "source": [
    "### 10.2 From Dict"
   ]
  },
  {
   "cell_type": "markdown",
   "metadata": {},
   "source": [
    "* If data is a dict, if index is passed the values in data corresponding to the labels in the index will be pulled out.\n",
    "* If index is not passed then it will be constructed from the sorted keys of the dict, if possible.\n"
   ]
  },
  {
   "cell_type": "code",
   "execution_count": 18,
   "metadata": {},
   "outputs": [
    {
     "name": "stdout",
     "output_type": "stream",
     "text": [
      "D    10\n",
      "B    20\n",
      "C    30\n",
      "dtype: int64\n"
     ]
    }
   ],
   "source": [
    "            import pandas as pd \n",
    "\n",
    "            dictionary = {'D' : 10, 'B' : 20, 'C' : 30} \n",
    "            series = pd.Series(dictionary) \n",
    "\n",
    "            print(series) "
   ]
  },
  {
   "cell_type": "code",
   "execution_count": 22,
   "metadata": {},
   "outputs": [
    {
     "name": "stdout",
     "output_type": "stream",
     "text": [
      "name                hamza\n",
      "Reg#         FA16-BCS-259\n",
      "Institute             CUI\n",
      "dtype: object\n"
     ]
    }
   ],
   "source": [
    "            import pandas as pd \n",
    "\n",
    "            dictionary = {'name' : 'hamza', 'Reg#' : 'FA16-BCS-259', 'Institute' : 'CUI'} \n",
    "            series = pd.Series(dictionary) \n",
    "\n",
    "            print(series) "
   ]
  },
  {
   "cell_type": "code",
   "execution_count": 6,
   "metadata": {},
   "outputs": [
    {
     "name": "stdout",
     "output_type": "stream",
     "text": [
      "name                hamza\n",
      "age                   NaN\n",
      "Reg#         FA16-BCS-259\n",
      "Institute             CUI\n",
      "City                  NaN\n",
      "dtype: object\n"
     ]
    }
   ],
   "source": [
    "            import pandas as pd \n",
    "\n",
    "            dictionary = {'name' : 'hamza', 'Reg#' : 'FA16-BCS-259', 'Institute' : 'CUI'} \n",
    "            series = pd.Series(dictionary,index=['name','age','Reg#','Institute','City']) \n",
    "\n",
    "            print(series) "
   ]
  },
  {
   "cell_type": "markdown",
   "metadata": {},
   "source": [
    "### 10.3 From Scaler Value"
   ]
  },
  {
   "cell_type": "markdown",
   "metadata": {},
   "source": [
    "* If data is a scalar value, an index must be provided. The value will be repeated to match the length of index\n"
   ]
  },
  {
   "cell_type": "code",
   "execution_count": 55,
   "metadata": {},
   "outputs": [
    {
     "name": "stdout",
     "output_type": "stream",
     "text": [
      "name         12\n",
      "age          12\n",
      "Reg#         12\n",
      "Institute    12\n",
      "City         12\n",
      "dtype: int64\n"
     ]
    }
   ],
   "source": [
    "            import pandas as pd \n",
    "            series = pd.Series(12,index=['name','age','Reg#','Institute','City']) \n",
    "\n",
    "            print(series)"
   ]
  },
  {
   "cell_type": "code",
   "execution_count": 38,
   "metadata": {},
   "outputs": [
    {
     "name": "stdout",
     "output_type": "stream",
     "text": [
      "z    12\n",
      "a    12\n",
      "b    12\n",
      "c    12\n",
      "d    12\n",
      "dtype: int64\n"
     ]
    }
   ],
   "source": [
    "            import pandas as pd \n",
    "            series = pd.Series(12,index=['z','a','b','c','d']) \n",
    "\n",
    "            print(series)"
   ]
  },
  {
   "cell_type": "code",
   "execution_count": 37,
   "metadata": {},
   "outputs": [
    {
     "name": "stdout",
     "output_type": "stream",
     "text": [
      "1    12\n",
      "2    12\n",
      "3    12\n",
      "4    12\n",
      "dtype: int64\n"
     ]
    }
   ],
   "source": [
    "            import pandas as pd \n",
    "            series = pd.Series(12,index=[1,2,3,4]) \n",
    "\n",
    "            print(series)"
   ]
  },
  {
   "cell_type": "markdown",
   "metadata": {},
   "source": [
    "### 10.4 Series is ndArray -like"
   ]
  },
  {
   "cell_type": "markdown",
   "metadata": {},
   "source": [
    "* It acts very similarly to a ndarray. It is a valid argument to most NumPy functions. \n",
    "* However, things like slicing also slice the index.\n"
   ]
  },
  {
   "cell_type": "code",
   "execution_count": 47,
   "metadata": {},
   "outputs": [
    {
     "data": {
      "text/plain": [
       "0     1\n",
       "4    23\n",
       "6     3\n",
       "dtype: int32"
      ]
     },
     "execution_count": 47,
     "metadata": {},
     "output_type": "execute_result"
    }
   ],
   "source": [
    "            import pandas as pd \n",
    "            data = np.array([1,42,34,62,23,52,3]) \n",
    "            series = pd.Series(data) \n",
    "            series[series < series.median()]"
   ]
  },
  {
   "cell_type": "code",
   "execution_count": 49,
   "metadata": {},
   "outputs": [
    {
     "data": {
      "text/plain": [
       "0     1\n",
       "1    42\n",
       "2    34\n",
       "4    23\n",
       "6     3\n",
       "dtype: int32"
      ]
     },
     "execution_count": 49,
     "metadata": {},
     "output_type": "execute_result"
    }
   ],
   "source": [
    "            import pandas as pd \n",
    "            data = np.array([1,42,34,62,23,52,3]) \n",
    "            series = pd.Series(data) \n",
    "            series[series < 50]"
   ]
  },
  {
   "cell_type": "code",
   "execution_count": 60,
   "metadata": {},
   "outputs": [
    {
     "data": {
      "text/plain": [
       "0    1\n",
       "1    1\n",
       "3    1\n",
       "5    1\n",
       "dtype: int32"
      ]
     },
     "execution_count": 60,
     "metadata": {},
     "output_type": "execute_result"
    }
   ],
   "source": [
    "            import pandas as pd \n",
    "            data = np.array([1,1,2,1,4,1,4,2,3]) \n",
    "            series = pd.Series(data) \n",
    "            series[series == 1 ]"
   ]
  },
  {
   "cell_type": "code",
   "execution_count": 65,
   "metadata": {},
   "outputs": [
    {
     "data": {
      "text/plain": [
       "Reg#    FA16-BCS-259\n",
       "dtype: object"
      ]
     },
     "execution_count": 65,
     "metadata": {},
     "output_type": "execute_result"
    }
   ],
   "source": [
    "            import pandas as pd \n",
    "\n",
    "            dictionary = {'name' : 'hamza', 'Reg#' : 'FA16-BCS-259', 'Institute' : 'CUI'} \n",
    "            series = pd.Series(dictionary,index=['1','age','Reg#','Institute','City']) \n",
    "\n",
    "            series[2:3]"
   ]
  },
  {
   "cell_type": "markdown",
   "metadata": {},
   "source": [
    "### 10.6  Vectorized operations and label alignment with Series "
   ]
  },
  {
   "cell_type": "markdown",
   "metadata": {},
   "source": [
    "* When doing data analysis, as with raw NumPy arrays looping through Series value-by-value is usually not necessary.\n",
    "* Series can  also be passed into most NumPy methods expecting an ndarray.\n"
   ]
  },
  {
   "cell_type": "code",
   "execution_count": 67,
   "metadata": {},
   "outputs": [
    {
     "data": {
      "text/plain": [
       "0    2\n",
       "1    2\n",
       "2    4\n",
       "3    2\n",
       "4    8\n",
       "5    2\n",
       "6    8\n",
       "7    4\n",
       "8    6\n",
       "dtype: int32"
      ]
     },
     "execution_count": 67,
     "metadata": {},
     "output_type": "execute_result"
    }
   ],
   "source": [
    "            import pandas as pd \n",
    "            data = np.array([1,1,2,1,4,1,4,2,3]) \n",
    "            series = pd.Series(data) \n",
    "            series+series"
   ]
  },
  {
   "cell_type": "code",
   "execution_count": 69,
   "metadata": {},
   "outputs": [
    {
     "data": {
      "text/plain": [
       "0     1\n",
       "1     1\n",
       "2     4\n",
       "3     1\n",
       "4    16\n",
       "5     1\n",
       "6    16\n",
       "7     4\n",
       "8     9\n",
       "dtype: int32"
      ]
     },
     "execution_count": 69,
     "metadata": {},
     "output_type": "execute_result"
    }
   ],
   "source": [
    "            import pandas as pd \n",
    "            data = np.array([1,1,2,1,4,1,4,2,3]) \n",
    "            series = pd.Series(data) \n",
    "            series*series"
   ]
  },
  {
   "cell_type": "code",
   "execution_count": 71,
   "metadata": {},
   "outputs": [
    {
     "data": {
      "text/plain": [
       "0          1\n",
       "1      12167\n",
       "2    1860867\n",
       "3       2744\n",
       "4          1\n",
       "5         64\n",
       "6          8\n",
       "7         27\n",
       "dtype: int32"
      ]
     },
     "execution_count": 71,
     "metadata": {},
     "output_type": "execute_result"
    }
   ],
   "source": [
    "            import pandas as pd \n",
    "            data = np.array([1,23,123,14,1,4,2,3]) \n",
    "            series = pd.Series(data) \n",
    "            series**3"
   ]
  },
  {
   "cell_type": "code",
   "execution_count": 74,
   "metadata": {},
   "outputs": [
    {
     "data": {
      "text/plain": [
       "0    blocked\n",
       "1    smashed\n",
       "2     Rocked\n",
       "3    smooked\n",
       "dtype: object"
      ]
     },
     "execution_count": 74,
     "metadata": {},
     "output_type": "execute_result"
    }
   ],
   "source": [
    "            import pandas as pd \n",
    "            data = np.array(['block','smash','Rock','smook']) \n",
    "            series = pd.Series(data) \n",
    "            series+'ed'"
   ]
  },
  {
   "cell_type": "code",
   "execution_count": 2,
   "metadata": {},
   "outputs": [
    {
     "data": {
      "text/plain": [
       "'block'"
      ]
     },
     "execution_count": 2,
     "metadata": {},
     "output_type": "execute_result"
    }
   ],
   "source": [
    "            import pandas as pd\n",
    "            import numpy as np\n",
    "            import matplotlib.pyplot as plt \n",
    "            data = np.array(['block','smash','Rock','smook'])\n",
    "            s = pd.Series(data, index=['a', 'b', 'c', 'd'])\n",
    "\n",
    "            s['a']"
   ]
  },
  {
   "cell_type": "markdown",
   "metadata": {},
   "source": [
    "##  <font color=indigo>11. Data Frames</font>\n",
    " "
   ]
  },
  {
   "cell_type": "markdown",
   "metadata": {},
   "source": [
    "* A Data frame is a two-dimensional data structure, i.e., data is aligned in a tabular fashion in rows and columns.\n",
    "**Features of DataFrame**\n",
    "\n",
    "       a. Potentially columns are of different types\n",
    "       b. Size – Mutable\n",
    "       c. Labeled axes (rows and columns)\n",
    "       d. Can Perform Arithmetic operations on rows and columns\n",
    "\n",
    "\n",
    "\n",
    "* DataFrames are the workhorse of pandas and are directly inspired by the R programming language.\n",
    "* Like Series, DataFrame accepts many different kinds of input\n",
    "             \n",
    "        1.Dict of 1D ndarrays, lists, dicts, or Series\n",
    "        2.2-D numpy.ndarray\n",
    "        3.Structured or record ndarray\n",
    "        4.A Series\n",
    "        5.Another DataFrame \n",
    "\n",
    "\n",
    "**A pandas DataFrame can be created using the following constructor**\n",
    "\n",
    "        pandas.DataFrame( data, index, columns, dtype)       \n",
    "* Along with the data, you can optionally pass index (row labels) and columns (column labels) arguments.\n",
    "* If you pass an index and / or columns, you are guaranteeing the index and / or columns of the resulting DataFrame.\n",
    "* Thus, a dict of Series plus a specific index will discard all data not matching up to the passed index. \n",
    "* If axis labels are not passed, they will be constructed from the input data based on common sense rules\n"
   ]
  },
  {
   "cell_type": "markdown",
   "metadata": {},
   "source": [
    "### 11.1 From dict of Series or dict "
   ]
  },
  {
   "cell_type": "markdown",
   "metadata": {},
   "source": [
    "* The result index will be the union of the indexes of the various Series. \n",
    "* If there are any nested dicts, these will be first converted to Series.\n",
    "* If no columns are passed, the columns will be the sorted list of dict keys.\n"
   ]
  },
  {
   "cell_type": "code",
   "execution_count": 3,
   "metadata": {},
   "outputs": [
    {
     "data": {
      "text/html": [
       "<div>\n",
       "<style scoped>\n",
       "    .dataframe tbody tr th:only-of-type {\n",
       "        vertical-align: middle;\n",
       "    }\n",
       "\n",
       "    .dataframe tbody tr th {\n",
       "        vertical-align: top;\n",
       "    }\n",
       "\n",
       "    .dataframe thead th {\n",
       "        text-align: right;\n",
       "    }\n",
       "</style>\n",
       "<table border=\"1\" class=\"dataframe\">\n",
       "  <thead>\n",
       "    <tr style=\"text-align: right;\">\n",
       "      <th></th>\n",
       "      <th>one</th>\n",
       "      <th>two</th>\n",
       "    </tr>\n",
       "  </thead>\n",
       "  <tbody>\n",
       "    <tr>\n",
       "      <th>a</th>\n",
       "      <td>1.0</td>\n",
       "      <td>1.0</td>\n",
       "    </tr>\n",
       "    <tr>\n",
       "      <th>b</th>\n",
       "      <td>2.0</td>\n",
       "      <td>2.0</td>\n",
       "    </tr>\n",
       "    <tr>\n",
       "      <th>c</th>\n",
       "      <td>3.0</td>\n",
       "      <td>3.0</td>\n",
       "    </tr>\n",
       "    <tr>\n",
       "      <th>d</th>\n",
       "      <td>NaN</td>\n",
       "      <td>4.0</td>\n",
       "    </tr>\n",
       "  </tbody>\n",
       "</table>\n",
       "</div>"
      ],
      "text/plain": [
       "   one  two\n",
       "a  1.0  1.0\n",
       "b  2.0  2.0\n",
       "c  3.0  3.0\n",
       "d  NaN  4.0"
      ]
     },
     "execution_count": 3,
     "metadata": {},
     "output_type": "execute_result"
    }
   ],
   "source": [
    "            import pandas as pd\n",
    "            import numpy as np\n",
    "            import matplotlib.pyplot as plt\n",
    "\n",
    "            d = {\n",
    "                'one' : pd.Series([1., 2., 3.], index=['a', 'b', 'c']),    \n",
    "                'two' : pd.Series([1., 2., 3., 4.], index=['a', 'b', 'c', 'd'])    \n",
    "            } \n",
    "\n",
    "            df = pd.DataFrame(d) \n",
    "            df"
   ]
  },
  {
   "cell_type": "code",
   "execution_count": 4,
   "metadata": {},
   "outputs": [
    {
     "data": {
      "text/html": [
       "<div>\n",
       "<style scoped>\n",
       "    .dataframe tbody tr th:only-of-type {\n",
       "        vertical-align: middle;\n",
       "    }\n",
       "\n",
       "    .dataframe tbody tr th {\n",
       "        vertical-align: top;\n",
       "    }\n",
       "\n",
       "    .dataframe thead th {\n",
       "        text-align: right;\n",
       "    }\n",
       "</style>\n",
       "<table border=\"1\" class=\"dataframe\">\n",
       "  <thead>\n",
       "    <tr style=\"text-align: right;\">\n",
       "      <th></th>\n",
       "      <th>Country</th>\n",
       "      <th>Population</th>\n",
       "    </tr>\n",
       "  </thead>\n",
       "  <tbody>\n",
       "    <tr>\n",
       "      <th>1</th>\n",
       "      <td>Pakistan</td>\n",
       "      <td>2.200000e+08</td>\n",
       "    </tr>\n",
       "    <tr>\n",
       "      <th>2</th>\n",
       "      <td>Afghanistan</td>\n",
       "      <td>3.000000e+08</td>\n",
       "    </tr>\n",
       "    <tr>\n",
       "      <th>3</th>\n",
       "      <td>Iran</td>\n",
       "      <td>2.300000e+08</td>\n",
       "    </tr>\n",
       "    <tr>\n",
       "      <th>4</th>\n",
       "      <td>Saudia</td>\n",
       "      <td>1.120000e+09</td>\n",
       "    </tr>\n",
       "    <tr>\n",
       "      <th>5</th>\n",
       "      <td>Turkey</td>\n",
       "      <td>NaN</td>\n",
       "    </tr>\n",
       "  </tbody>\n",
       "</table>\n",
       "</div>"
      ],
      "text/plain": [
       "       Country    Population\n",
       "1     Pakistan  2.200000e+08\n",
       "2  Afghanistan  3.000000e+08\n",
       "3         Iran  2.300000e+08\n",
       "4       Saudia  1.120000e+09\n",
       "5       Turkey           NaN"
      ]
     },
     "execution_count": 4,
     "metadata": {},
     "output_type": "execute_result"
    }
   ],
   "source": [
    "            d = {\n",
    "                'Country' : pd.Series(['Pakistan','Afghanistan','Iran','Saudia','Turkey'], index=[1,2,3,4,5]),    \n",
    "                'Population' : pd.Series([220000000,300000000,230000000,1120000000], index=[1,2,3,4])    \n",
    "            } \n",
    "\n",
    "            df = pd.DataFrame(d) \n",
    "            df"
   ]
  },
  {
   "cell_type": "code",
   "execution_count": 5,
   "metadata": {},
   "outputs": [
    {
     "data": {
      "text/html": [
       "<div>\n",
       "<style scoped>\n",
       "    .dataframe tbody tr th:only-of-type {\n",
       "        vertical-align: middle;\n",
       "    }\n",
       "\n",
       "    .dataframe tbody tr th {\n",
       "        vertical-align: top;\n",
       "    }\n",
       "\n",
       "    .dataframe thead th {\n",
       "        text-align: right;\n",
       "    }\n",
       "</style>\n",
       "<table border=\"1\" class=\"dataframe\">\n",
       "  <thead>\n",
       "    <tr style=\"text-align: right;\">\n",
       "      <th></th>\n",
       "      <th>Country</th>\n",
       "      <th>Population</th>\n",
       "    </tr>\n",
       "  </thead>\n",
       "  <tbody>\n",
       "    <tr>\n",
       "      <th>1</th>\n",
       "      <td>Pakistan</td>\n",
       "      <td>2.200000e+08</td>\n",
       "    </tr>\n",
       "    <tr>\n",
       "      <th>3</th>\n",
       "      <td>Iran</td>\n",
       "      <td>2.300000e+08</td>\n",
       "    </tr>\n",
       "    <tr>\n",
       "      <th>4</th>\n",
       "      <td>Saudia</td>\n",
       "      <td>1.120000e+09</td>\n",
       "    </tr>\n",
       "    <tr>\n",
       "      <th>5</th>\n",
       "      <td>Turkey</td>\n",
       "      <td>NaN</td>\n",
       "    </tr>\n",
       "  </tbody>\n",
       "</table>\n",
       "</div>"
      ],
      "text/plain": [
       "    Country    Population\n",
       "1  Pakistan  2.200000e+08\n",
       "3      Iran  2.300000e+08\n",
       "4    Saudia  1.120000e+09\n",
       "5    Turkey           NaN"
      ]
     },
     "execution_count": 5,
     "metadata": {},
     "output_type": "execute_result"
    }
   ],
   "source": [
    "            # a data frame will be constructed for given row labels\n",
    "            pd.DataFrame(d, index=[1,3,4,5])"
   ]
  },
  {
   "cell_type": "code",
   "execution_count": 6,
   "metadata": {},
   "outputs": [
    {
     "data": {
      "text/html": [
       "<div>\n",
       "<style scoped>\n",
       "    .dataframe tbody tr th:only-of-type {\n",
       "        vertical-align: middle;\n",
       "    }\n",
       "\n",
       "    .dataframe tbody tr th {\n",
       "        vertical-align: top;\n",
       "    }\n",
       "\n",
       "    .dataframe thead th {\n",
       "        text-align: right;\n",
       "    }\n",
       "</style>\n",
       "<table border=\"1\" class=\"dataframe\">\n",
       "  <thead>\n",
       "    <tr style=\"text-align: right;\">\n",
       "      <th></th>\n",
       "      <th>Country</th>\n",
       "      <th>Population</th>\n",
       "    </tr>\n",
       "  </thead>\n",
       "  <tbody>\n",
       "    <tr>\n",
       "      <th>1</th>\n",
       "      <td>Pakistan</td>\n",
       "      <td>220000000</td>\n",
       "    </tr>\n",
       "    <tr>\n",
       "      <th>2</th>\n",
       "      <td>Afghanistan</td>\n",
       "      <td>300000000</td>\n",
       "    </tr>\n",
       "    <tr>\n",
       "      <th>4</th>\n",
       "      <td>Saudia</td>\n",
       "      <td>1120000000</td>\n",
       "    </tr>\n",
       "  </tbody>\n",
       "</table>\n",
       "</div>"
      ],
      "text/plain": [
       "       Country  Population\n",
       "1     Pakistan   220000000\n",
       "2  Afghanistan   300000000\n",
       "4       Saudia  1120000000"
      ]
     },
     "execution_count": 6,
     "metadata": {},
     "output_type": "execute_result"
    }
   ],
   "source": [
    "            # following example shows a data frame when we give coloumn labels \n",
    "            pd.DataFrame(d, index=[1,2,4], columns=['Country', 'Population']) "
   ]
  },
  {
   "cell_type": "code",
   "execution_count": 7,
   "metadata": {},
   "outputs": [
    {
     "data": {
      "text/html": [
       "<div>\n",
       "<style scoped>\n",
       "    .dataframe tbody tr th:only-of-type {\n",
       "        vertical-align: middle;\n",
       "    }\n",
       "\n",
       "    .dataframe tbody tr th {\n",
       "        vertical-align: top;\n",
       "    }\n",
       "\n",
       "    .dataframe thead th {\n",
       "        text-align: right;\n",
       "    }\n",
       "</style>\n",
       "<table border=\"1\" class=\"dataframe\">\n",
       "  <thead>\n",
       "    <tr style=\"text-align: right;\">\n",
       "      <th></th>\n",
       "      <th>Country</th>\n",
       "    </tr>\n",
       "  </thead>\n",
       "  <tbody>\n",
       "    <tr>\n",
       "      <th>1</th>\n",
       "      <td>Pakistan</td>\n",
       "    </tr>\n",
       "    <tr>\n",
       "      <th>2</th>\n",
       "      <td>Afghanistan</td>\n",
       "    </tr>\n",
       "    <tr>\n",
       "      <th>4</th>\n",
       "      <td>Saudia</td>\n",
       "    </tr>\n",
       "  </tbody>\n",
       "</table>\n",
       "</div>"
      ],
      "text/plain": [
       "       Country\n",
       "1     Pakistan\n",
       "2  Afghanistan\n",
       "4       Saudia"
      ]
     },
     "execution_count": 7,
     "metadata": {},
     "output_type": "execute_result"
    }
   ],
   "source": [
    "            # following example shows a data frame when we give coloumn labels \n",
    "            pd.DataFrame(d, index=[1,2,4], columns=['Country'])"
   ]
  },
  {
   "cell_type": "code",
   "execution_count": 13,
   "metadata": {},
   "outputs": [
    {
     "data": {
      "text/plain": [
       "Index(['Country', 'Population'], dtype='object')"
      ]
     },
     "execution_count": 13,
     "metadata": {},
     "output_type": "execute_result"
    }
   ],
   "source": [
    "            df.columns"
   ]
  },
  {
   "cell_type": "code",
   "execution_count": 9,
   "metadata": {
    "scrolled": true
   },
   "outputs": [
    {
     "data": {
      "text/plain": [
       "1    2.200000e+08\n",
       "2    3.000000e+08\n",
       "3    2.300000e+08\n",
       "4    1.120000e+09\n",
       "5             NaN\n",
       "Name: Population, dtype: float64"
      ]
     },
     "execution_count": 9,
     "metadata": {},
     "output_type": "execute_result"
    }
   ],
   "source": [
    "            #Column Selection    \n",
    "            df['Population']"
   ]
  },
  {
   "cell_type": "markdown",
   "metadata": {},
   "source": [
    "### 11.2 From dict of ndArrays / Lists"
   ]
  },
  {
   "cell_type": "markdown",
   "metadata": {},
   "source": [
    "* The ndarrays must all be the same length. \n",
    "* If an index is passed, it must clearly also be the same length as the arrays. \n",
    "* If no index is passed, the result will be range(n), where n is the array length"
   ]
  },
  {
   "cell_type": "code",
   "execution_count": 20,
   "metadata": {},
   "outputs": [
    {
     "data": {
      "text/html": [
       "<div>\n",
       "<style scoped>\n",
       "    .dataframe tbody tr th:only-of-type {\n",
       "        vertical-align: middle;\n",
       "    }\n",
       "\n",
       "    .dataframe tbody tr th {\n",
       "        vertical-align: top;\n",
       "    }\n",
       "\n",
       "    .dataframe thead th {\n",
       "        text-align: right;\n",
       "    }\n",
       "</style>\n",
       "<table border=\"1\" class=\"dataframe\">\n",
       "  <thead>\n",
       "    <tr style=\"text-align: right;\">\n",
       "      <th></th>\n",
       "      <th>Name</th>\n",
       "      <th>Age</th>\n",
       "      <th>Height</th>\n",
       "    </tr>\n",
       "  </thead>\n",
       "  <tbody>\n",
       "    <tr>\n",
       "      <th>0</th>\n",
       "      <td>Tom</td>\n",
       "      <td>28</td>\n",
       "      <td>166</td>\n",
       "    </tr>\n",
       "    <tr>\n",
       "      <th>1</th>\n",
       "      <td>Jack</td>\n",
       "      <td>34</td>\n",
       "      <td>156</td>\n",
       "    </tr>\n",
       "    <tr>\n",
       "      <th>2</th>\n",
       "      <td>Steve</td>\n",
       "      <td>29</td>\n",
       "      <td>177</td>\n",
       "    </tr>\n",
       "    <tr>\n",
       "      <th>3</th>\n",
       "      <td>Ricky</td>\n",
       "      <td>42</td>\n",
       "      <td>173</td>\n",
       "    </tr>\n",
       "  </tbody>\n",
       "</table>\n",
       "</div>"
      ],
      "text/plain": [
       "    Name  Age  Height\n",
       "0    Tom   28     166\n",
       "1   Jack   34     156\n",
       "2  Steve   29     177\n",
       "3  Ricky   42     173"
      ]
     },
     "execution_count": 20,
     "metadata": {},
     "output_type": "execute_result"
    }
   ],
   "source": [
    "                import pandas as pd\n",
    "                data = {\n",
    "                        'Name':['Tom', 'Jack', 'Steve', 'Ricky'],\n",
    "                        'Age':[28,34,29,42],\n",
    "                        'Height':[166,156,177,173]\n",
    "                }\n",
    "                df = pd.DataFrame(data)\n",
    "                df"
   ]
  },
  {
   "cell_type": "code",
   "execution_count": 25,
   "metadata": {},
   "outputs": [
    {
     "data": {
      "text/html": [
       "<div>\n",
       "<style scoped>\n",
       "    .dataframe tbody tr th:only-of-type {\n",
       "        vertical-align: middle;\n",
       "    }\n",
       "\n",
       "    .dataframe tbody tr th {\n",
       "        vertical-align: top;\n",
       "    }\n",
       "\n",
       "    .dataframe thead th {\n",
       "        text-align: right;\n",
       "    }\n",
       "</style>\n",
       "<table border=\"1\" class=\"dataframe\">\n",
       "  <thead>\n",
       "    <tr style=\"text-align: right;\">\n",
       "      <th></th>\n",
       "      <th>account</th>\n",
       "      <th>Jan</th>\n",
       "      <th>Feb</th>\n",
       "      <th>Mar</th>\n",
       "    </tr>\n",
       "  </thead>\n",
       "  <tbody>\n",
       "    <tr>\n",
       "      <th>0</th>\n",
       "      <td>Jones LLC</td>\n",
       "      <td>150</td>\n",
       "      <td>200</td>\n",
       "      <td>140</td>\n",
       "    </tr>\n",
       "    <tr>\n",
       "      <th>1</th>\n",
       "      <td>Alpha Co</td>\n",
       "      <td>200</td>\n",
       "      <td>210</td>\n",
       "      <td>215</td>\n",
       "    </tr>\n",
       "    <tr>\n",
       "      <th>2</th>\n",
       "      <td>Blue Inc</td>\n",
       "      <td>50</td>\n",
       "      <td>90</td>\n",
       "      <td>95</td>\n",
       "    </tr>\n",
       "  </tbody>\n",
       "</table>\n",
       "</div>"
      ],
      "text/plain": [
       "     account  Jan  Feb  Mar\n",
       "0  Jones LLC  150  200  140\n",
       "1   Alpha Co  200  210  215\n",
       "2   Blue Inc   50   90   95"
      ]
     },
     "execution_count": 25,
     "metadata": {},
     "output_type": "execute_result"
    }
   ],
   "source": [
    "            #we can also creat dict from OrderDict\n",
    "            sales ={   'account': ['Jones LLC', 'Alpha Co', 'Blue Inc'],\n",
    "                      'Jan': [150, 200, 50],\n",
    "                      'Feb':  [200, 210, 90],\n",
    "                      'Mar': [140, 215, 95]  \n",
    "                    }\n",
    "            df = pd.DataFrame.from_dict(sales)\n",
    "            df"
   ]
  },
  {
   "cell_type": "code",
   "execution_count": 27,
   "metadata": {},
   "outputs": [
    {
     "data": {
      "text/html": [
       "<div>\n",
       "<style scoped>\n",
       "    .dataframe tbody tr th:only-of-type {\n",
       "        vertical-align: middle;\n",
       "    }\n",
       "\n",
       "    .dataframe tbody tr th {\n",
       "        vertical-align: top;\n",
       "    }\n",
       "\n",
       "    .dataframe thead th {\n",
       "        text-align: right;\n",
       "    }\n",
       "</style>\n",
       "<table border=\"1\" class=\"dataframe\">\n",
       "  <thead>\n",
       "    <tr style=\"text-align: right;\">\n",
       "      <th></th>\n",
       "      <th>Name</th>\n",
       "      <th>Age</th>\n",
       "      <th>Height</th>\n",
       "    </tr>\n",
       "  </thead>\n",
       "  <tbody>\n",
       "    <tr>\n",
       "      <th>1</th>\n",
       "      <td>Tom</td>\n",
       "      <td>28</td>\n",
       "      <td>166</td>\n",
       "    </tr>\n",
       "    <tr>\n",
       "      <th>2</th>\n",
       "      <td>Jack</td>\n",
       "      <td>34</td>\n",
       "      <td>156</td>\n",
       "    </tr>\n",
       "    <tr>\n",
       "      <th>3</th>\n",
       "      <td>Steve</td>\n",
       "      <td>29</td>\n",
       "      <td>177</td>\n",
       "    </tr>\n",
       "    <tr>\n",
       "      <th>4</th>\n",
       "      <td>Ricky</td>\n",
       "      <td>42</td>\n",
       "      <td>173</td>\n",
       "    </tr>\n",
       "  </tbody>\n",
       "</table>\n",
       "</div>"
      ],
      "text/plain": [
       "    Name  Age  Height\n",
       "1    Tom   28     166\n",
       "2   Jack   34     156\n",
       "3  Steve   29     177\n",
       "4  Ricky   42     173"
      ]
     },
     "execution_count": 27,
     "metadata": {},
     "output_type": "execute_result"
    }
   ],
   "source": [
    "            import pandas as pd\n",
    "            data = {\n",
    "                    'Name':['Tom', 'Jack', 'Steve', 'Ricky'],\n",
    "                    'Age':[28,34,29,42],\n",
    "                    'Height':[166,156,177,173]\n",
    "            }\n",
    "            df = pd.DataFrame(data,index=[1,2,3,4])\n",
    "            df"
   ]
  },
  {
   "cell_type": "code",
   "execution_count": 28,
   "metadata": {},
   "outputs": [
    {
     "data": {
      "text/html": [
       "<div>\n",
       "<style scoped>\n",
       "    .dataframe tbody tr th:only-of-type {\n",
       "        vertical-align: middle;\n",
       "    }\n",
       "\n",
       "    .dataframe tbody tr th {\n",
       "        vertical-align: top;\n",
       "    }\n",
       "\n",
       "    .dataframe thead th {\n",
       "        text-align: right;\n",
       "    }\n",
       "</style>\n",
       "<table border=\"1\" class=\"dataframe\">\n",
       "  <thead>\n",
       "    <tr style=\"text-align: right;\">\n",
       "      <th></th>\n",
       "      <th>Country</th>\n",
       "      <th>Population</th>\n",
       "    </tr>\n",
       "  </thead>\n",
       "  <tbody>\n",
       "    <tr>\n",
       "      <th>a</th>\n",
       "      <td>NaN</td>\n",
       "      <td>NaN</td>\n",
       "    </tr>\n",
       "    <tr>\n",
       "      <th>b</th>\n",
       "      <td>NaN</td>\n",
       "      <td>NaN</td>\n",
       "    </tr>\n",
       "    <tr>\n",
       "      <th>c</th>\n",
       "      <td>NaN</td>\n",
       "      <td>NaN</td>\n",
       "    </tr>\n",
       "    <tr>\n",
       "      <th>d</th>\n",
       "      <td>NaN</td>\n",
       "      <td>NaN</td>\n",
       "    </tr>\n",
       "  </tbody>\n",
       "</table>\n",
       "</div>"
      ],
      "text/plain": [
       "  Country  Population\n",
       "a     NaN         NaN\n",
       "b     NaN         NaN\n",
       "c     NaN         NaN\n",
       "d     NaN         NaN"
      ]
     },
     "execution_count": 28,
     "metadata": {},
     "output_type": "execute_result"
    }
   ],
   "source": [
    "            # If indexs are given then it would be same length as arrays\n",
    "            pd.DataFrame(d, index=['a', 'b', 'c', 'd']) "
   ]
  },
  {
   "cell_type": "code",
   "execution_count": 29,
   "metadata": {},
   "outputs": [
    {
     "data": {
      "text/html": [
       "<div>\n",
       "<style scoped>\n",
       "    .dataframe tbody tr th:only-of-type {\n",
       "        vertical-align: middle;\n",
       "    }\n",
       "\n",
       "    .dataframe tbody tr th {\n",
       "        vertical-align: top;\n",
       "    }\n",
       "\n",
       "    .dataframe thead th {\n",
       "        text-align: right;\n",
       "    }\n",
       "</style>\n",
       "<table border=\"1\" class=\"dataframe\">\n",
       "  <thead>\n",
       "    <tr style=\"text-align: right;\">\n",
       "      <th></th>\n",
       "      <th>Name</th>\n",
       "      <th>Age</th>\n",
       "      <th>Height</th>\n",
       "    </tr>\n",
       "  </thead>\n",
       "  <tbody>\n",
       "    <tr>\n",
       "      <th>1</th>\n",
       "      <td>Tom</td>\n",
       "      <td>28</td>\n",
       "      <td>166</td>\n",
       "    </tr>\n",
       "    <tr>\n",
       "      <th>2</th>\n",
       "      <td>Jack</td>\n",
       "      <td>34</td>\n",
       "      <td>156</td>\n",
       "    </tr>\n",
       "    <tr>\n",
       "      <th>3</th>\n",
       "      <td>Steve</td>\n",
       "      <td>29</td>\n",
       "      <td>177</td>\n",
       "    </tr>\n",
       "    <tr>\n",
       "      <th>4</th>\n",
       "      <td>Ricky</td>\n",
       "      <td>42</td>\n",
       "      <td>173</td>\n",
       "    </tr>\n",
       "  </tbody>\n",
       "</table>\n",
       "</div>"
      ],
      "text/plain": [
       "    Name  Age  Height\n",
       "1    Tom   28     166\n",
       "2   Jack   34     156\n",
       "3  Steve   29     177\n",
       "4  Ricky   42     173"
      ]
     },
     "execution_count": 29,
     "metadata": {},
     "output_type": "execute_result"
    }
   ],
   "source": [
    "            # If indexs are given then it would be same length as arrays\n",
    "            pd.DataFrame(data, index=[1,2,3,4])"
   ]
  },
  {
   "cell_type": "markdown",
   "metadata": {},
   "source": [
    "### 11.3 From a list of dicts"
   ]
  },
  {
   "cell_type": "markdown",
   "metadata": {},
   "source": [
    "* List of Dictionaries can be passed as input data to create a DataFrame.\n",
    "* The dictionary keys are by default taken as column names.\n",
    "* If no index is passed, the result will be range(n), where n is the list length"
   ]
  },
  {
   "cell_type": "code",
   "execution_count": 28,
   "metadata": {},
   "outputs": [
    {
     "data": {
      "text/html": [
       "<div>\n",
       "<style scoped>\n",
       "    .dataframe tbody tr th:only-of-type {\n",
       "        vertical-align: middle;\n",
       "    }\n",
       "\n",
       "    .dataframe tbody tr th {\n",
       "        vertical-align: top;\n",
       "    }\n",
       "\n",
       "    .dataframe thead th {\n",
       "        text-align: right;\n",
       "    }\n",
       "</style>\n",
       "<table border=\"1\" class=\"dataframe\">\n",
       "  <thead>\n",
       "    <tr style=\"text-align: right;\">\n",
       "      <th></th>\n",
       "      <th>Feb</th>\n",
       "      <th>Jan</th>\n",
       "      <th>Mar</th>\n",
       "      <th>account</th>\n",
       "    </tr>\n",
       "  </thead>\n",
       "  <tbody>\n",
       "    <tr>\n",
       "      <th>1</th>\n",
       "      <td>200</td>\n",
       "      <td>150</td>\n",
       "      <td>140</td>\n",
       "      <td>Jones LLC</td>\n",
       "    </tr>\n",
       "    <tr>\n",
       "      <th>2</th>\n",
       "      <td>210</td>\n",
       "      <td>200</td>\n",
       "      <td>215</td>\n",
       "      <td>Alpha Co</td>\n",
       "    </tr>\n",
       "    <tr>\n",
       "      <th>3</th>\n",
       "      <td>90</td>\n",
       "      <td>50</td>\n",
       "      <td>95</td>\n",
       "      <td>Blue Inc</td>\n",
       "    </tr>\n",
       "  </tbody>\n",
       "</table>\n",
       "</div>"
      ],
      "text/plain": [
       "   Feb  Jan  Mar    account\n",
       "1  200  150  140  Jones LLC\n",
       "2  210  200  215   Alpha Co\n",
       "3   90   50   95   Blue Inc"
      ]
     },
     "execution_count": 28,
     "metadata": {},
     "output_type": "execute_result"
    }
   ],
   "source": [
    "            sales = [{'account': 'Jones LLC', 'Jan': 150, 'Feb': 200, 'Mar': 140},\n",
    "                     {'account': 'Alpha Co',  'Jan': 200, 'Feb': 210, 'Mar': 215},\n",
    "                     {'account': 'Blue Inc',  'Jan': 50,  'Feb': 90,  'Mar': 95 }]\n",
    "            df = pd.DataFrame(sales,index=[1,2,3])\n",
    "            df"
   ]
  },
  {
   "cell_type": "code",
   "execution_count": 31,
   "metadata": {},
   "outputs": [
    {
     "data": {
      "text/html": [
       "<div>\n",
       "<style scoped>\n",
       "    .dataframe tbody tr th:only-of-type {\n",
       "        vertical-align: middle;\n",
       "    }\n",
       "\n",
       "    .dataframe tbody tr th {\n",
       "        vertical-align: top;\n",
       "    }\n",
       "\n",
       "    .dataframe thead th {\n",
       "        text-align: right;\n",
       "    }\n",
       "</style>\n",
       "<table border=\"1\" class=\"dataframe\">\n",
       "  <thead>\n",
       "    <tr style=\"text-align: right;\">\n",
       "      <th></th>\n",
       "      <th>City</th>\n",
       "      <th>Reg#</th>\n",
       "      <th>name</th>\n",
       "    </tr>\n",
       "  </thead>\n",
       "  <tbody>\n",
       "    <tr>\n",
       "      <th>0</th>\n",
       "      <td>NaN</td>\n",
       "      <td>fa16-bcs-259</td>\n",
       "      <td>Ali</td>\n",
       "    </tr>\n",
       "    <tr>\n",
       "      <th>1</th>\n",
       "      <td>Lahore</td>\n",
       "      <td>fa16--bcs-123</td>\n",
       "      <td>Jamshed</td>\n",
       "    </tr>\n",
       "  </tbody>\n",
       "</table>\n",
       "</div>"
      ],
      "text/plain": [
       "     City           Reg#     name\n",
       "0     NaN   fa16-bcs-259      Ali\n",
       "1  Lahore  fa16--bcs-123  Jamshed"
      ]
     },
     "execution_count": 31,
     "metadata": {},
     "output_type": "execute_result"
    }
   ],
   "source": [
    "            data2 = [\n",
    "                        {'name': 'Ali', 'Reg#': 'fa16-bcs-259'}, {'name': 'Jamshed', 'Reg#': 'fa16--bcs-123', 'City': 'Lahore'}\n",
    "            ] \n",
    "            pd.DataFrame(data2) "
   ]
  },
  {
   "cell_type": "code",
   "execution_count": 33,
   "metadata": {},
   "outputs": [
    {
     "data": {
      "text/html": [
       "<div>\n",
       "<style scoped>\n",
       "    .dataframe tbody tr th:only-of-type {\n",
       "        vertical-align: middle;\n",
       "    }\n",
       "\n",
       "    .dataframe tbody tr th {\n",
       "        vertical-align: top;\n",
       "    }\n",
       "\n",
       "    .dataframe thead th {\n",
       "        text-align: right;\n",
       "    }\n",
       "</style>\n",
       "<table border=\"1\" class=\"dataframe\">\n",
       "  <thead>\n",
       "    <tr style=\"text-align: right;\">\n",
       "      <th></th>\n",
       "      <th>City</th>\n",
       "      <th>Reg#</th>\n",
       "      <th>name</th>\n",
       "    </tr>\n",
       "  </thead>\n",
       "  <tbody>\n",
       "    <tr>\n",
       "      <th>First</th>\n",
       "      <td>NaN</td>\n",
       "      <td>fa16-bcs-259</td>\n",
       "      <td>Ali</td>\n",
       "    </tr>\n",
       "    <tr>\n",
       "      <th>Second</th>\n",
       "      <td>Lahore</td>\n",
       "      <td>fa16--bcs-123</td>\n",
       "      <td>Jamshed</td>\n",
       "    </tr>\n",
       "  </tbody>\n",
       "</table>\n",
       "</div>"
      ],
      "text/plain": [
       "          City           Reg#     name\n",
       "First      NaN   fa16-bcs-259      Ali\n",
       "Second  Lahore  fa16--bcs-123  Jamshed"
      ]
     },
     "execution_count": 33,
     "metadata": {},
     "output_type": "execute_result"
    }
   ],
   "source": [
    "            data2 = [\n",
    "                        {'name': 'Ali', 'Reg#': 'fa16-bcs-259'}, {'name': 'Jamshed', 'Reg#': 'fa16--bcs-123', 'City': 'Lahore'}\n",
    "            ] \n",
    "            pd.DataFrame(data2,index=['First','Second']) \n"
   ]
  },
  {
   "cell_type": "code",
   "execution_count": 35,
   "metadata": {},
   "outputs": [
    {
     "data": {
      "text/html": [
       "<div>\n",
       "<style scoped>\n",
       "    .dataframe tbody tr th:only-of-type {\n",
       "        vertical-align: middle;\n",
       "    }\n",
       "\n",
       "    .dataframe tbody tr th {\n",
       "        vertical-align: top;\n",
       "    }\n",
       "\n",
       "    .dataframe thead th {\n",
       "        text-align: right;\n",
       "    }\n",
       "</style>\n",
       "<table border=\"1\" class=\"dataframe\">\n",
       "  <thead>\n",
       "    <tr style=\"text-align: right;\">\n",
       "      <th></th>\n",
       "      <th>name</th>\n",
       "      <th>b</th>\n",
       "    </tr>\n",
       "  </thead>\n",
       "  <tbody>\n",
       "    <tr>\n",
       "      <th>0</th>\n",
       "      <td>Ali</td>\n",
       "      <td>NaN</td>\n",
       "    </tr>\n",
       "    <tr>\n",
       "      <th>1</th>\n",
       "      <td>Jamshed</td>\n",
       "      <td>NaN</td>\n",
       "    </tr>\n",
       "  </tbody>\n",
       "</table>\n",
       "</div>"
      ],
      "text/plain": [
       "      name   b\n",
       "0      Ali NaN\n",
       "1  Jamshed NaN"
      ]
     },
     "execution_count": 35,
     "metadata": {},
     "output_type": "execute_result"
    }
   ],
   "source": [
    "            # passing list of dicts as data and columns (columns labels)\n",
    "            pd.DataFrame(data2, columns=['name', 'b']) "
   ]
  },
  {
   "cell_type": "code",
   "execution_count": 37,
   "metadata": {},
   "outputs": [
    {
     "data": {
      "text/html": [
       "<div>\n",
       "<style scoped>\n",
       "    .dataframe tbody tr th:only-of-type {\n",
       "        vertical-align: middle;\n",
       "    }\n",
       "\n",
       "    .dataframe tbody tr th {\n",
       "        vertical-align: top;\n",
       "    }\n",
       "\n",
       "    .dataframe thead th {\n",
       "        text-align: right;\n",
       "    }\n",
       "</style>\n",
       "<table border=\"1\" class=\"dataframe\">\n",
       "  <thead>\n",
       "    <tr style=\"text-align: right;\">\n",
       "      <th></th>\n",
       "      <th>name</th>\n",
       "      <th>City</th>\n",
       "    </tr>\n",
       "  </thead>\n",
       "  <tbody>\n",
       "    <tr>\n",
       "      <th>0</th>\n",
       "      <td>Ali</td>\n",
       "      <td>NaN</td>\n",
       "    </tr>\n",
       "    <tr>\n",
       "      <th>1</th>\n",
       "      <td>Jamshed</td>\n",
       "      <td>Lahore</td>\n",
       "    </tr>\n",
       "  </tbody>\n",
       "</table>\n",
       "</div>"
      ],
      "text/plain": [
       "      name    City\n",
       "0      Ali     NaN\n",
       "1  Jamshed  Lahore"
      ]
     },
     "execution_count": 37,
     "metadata": {},
     "output_type": "execute_result"
    }
   ],
   "source": [
    "            # passing list of dicts as data and columns (columns labels)\n",
    "            pd.DataFrame(data2, columns=['name', 'City']) "
   ]
  },
  {
   "cell_type": "code",
   "execution_count": 39,
   "metadata": {},
   "outputs": [
    {
     "data": {
      "text/html": [
       "<div>\n",
       "<style scoped>\n",
       "    .dataframe tbody tr th:only-of-type {\n",
       "        vertical-align: middle;\n",
       "    }\n",
       "\n",
       "    .dataframe tbody tr th {\n",
       "        vertical-align: top;\n",
       "    }\n",
       "\n",
       "    .dataframe thead th {\n",
       "        text-align: right;\n",
       "    }\n",
       "</style>\n",
       "<table border=\"1\" class=\"dataframe\">\n",
       "  <thead>\n",
       "    <tr style=\"text-align: right;\">\n",
       "      <th></th>\n",
       "      <th>City</th>\n",
       "      <th>Reg#</th>\n",
       "      <th>name</th>\n",
       "    </tr>\n",
       "  </thead>\n",
       "  <tbody>\n",
       "    <tr>\n",
       "      <th>a</th>\n",
       "      <td>NaN</td>\n",
       "      <td>fa16-bcs-259</td>\n",
       "      <td>Ali</td>\n",
       "    </tr>\n",
       "    <tr>\n",
       "      <th>b</th>\n",
       "      <td>Lahore</td>\n",
       "      <td>fa16--bcs-123</td>\n",
       "      <td>Jamshed</td>\n",
       "    </tr>\n",
       "  </tbody>\n",
       "</table>\n",
       "</div>"
      ],
      "text/plain": [
       "     City           Reg#     name\n",
       "a     NaN   fa16-bcs-259      Ali\n",
       "b  Lahore  fa16--bcs-123  Jamshed"
      ]
     },
     "execution_count": 39,
     "metadata": {},
     "output_type": "execute_result"
    }
   ],
   "source": [
    "            # passing list of dicts as data and columns (columns labels)\n",
    "            pd.DataFrame(data2, index=['a', 'b']) "
   ]
  },
  {
   "cell_type": "markdown",
   "metadata": {},
   "source": [
    "### 11.4. From dict of tuples"
   ]
  },
  {
   "cell_type": "markdown",
   "metadata": {},
   "source": [
    "* Multi indexed datafeames can be created using dict of tuples"
   ]
  },
  {
   "cell_type": "code",
   "execution_count": 49,
   "metadata": {},
   "outputs": [
    {
     "data": {
      "text/html": [
       "<div>\n",
       "<style scoped>\n",
       "    .dataframe tbody tr th:only-of-type {\n",
       "        vertical-align: middle;\n",
       "    }\n",
       "\n",
       "    .dataframe tbody tr th {\n",
       "        vertical-align: top;\n",
       "    }\n",
       "\n",
       "    .dataframe thead tr th {\n",
       "        text-align: left;\n",
       "    }\n",
       "</style>\n",
       "<table border=\"1\" class=\"dataframe\">\n",
       "  <thead>\n",
       "    <tr>\n",
       "      <th></th>\n",
       "      <th></th>\n",
       "      <th colspan=\"3\" halign=\"left\">a</th>\n",
       "      <th colspan=\"2\" halign=\"left\">b</th>\n",
       "    </tr>\n",
       "    <tr>\n",
       "      <th></th>\n",
       "      <th></th>\n",
       "      <th>b</th>\n",
       "      <th>a</th>\n",
       "      <th>c</th>\n",
       "      <th>a</th>\n",
       "      <th>b</th>\n",
       "    </tr>\n",
       "  </thead>\n",
       "  <tbody>\n",
       "    <tr>\n",
       "      <th rowspan=\"3\" valign=\"top\">A</th>\n",
       "      <th>B</th>\n",
       "      <td>1.0</td>\n",
       "      <td>4.0</td>\n",
       "      <td>5.0</td>\n",
       "      <td>8.0</td>\n",
       "      <td>10.0</td>\n",
       "    </tr>\n",
       "    <tr>\n",
       "      <th>C</th>\n",
       "      <td>2.0</td>\n",
       "      <td>3.0</td>\n",
       "      <td>6.0</td>\n",
       "      <td>7.0</td>\n",
       "      <td>NaN</td>\n",
       "    </tr>\n",
       "    <tr>\n",
       "      <th>D</th>\n",
       "      <td>NaN</td>\n",
       "      <td>NaN</td>\n",
       "      <td>NaN</td>\n",
       "      <td>NaN</td>\n",
       "      <td>9.0</td>\n",
       "    </tr>\n",
       "  </tbody>\n",
       "</table>\n",
       "</div>"
      ],
      "text/plain": [
       "       a              b      \n",
       "       b    a    c    a     b\n",
       "A B  1.0  4.0  5.0  8.0  10.0\n",
       "  C  2.0  3.0  6.0  7.0   NaN\n",
       "  D  NaN  NaN  NaN  NaN   9.0"
      ]
     },
     "execution_count": 49,
     "metadata": {},
     "output_type": "execute_result"
    }
   ],
   "source": [
    "            pd.DataFrame({('a', 'b'): {('A', 'B'): 1, ('A', 'C'): 2},   \n",
    "                          ('a', 'a'): {('A', 'C'): 3, ('A', 'B'): 4},         \n",
    "                          ('a', 'c'): {('A', 'B'): 5, ('A', 'C'): 6},            \n",
    "                          ('b', 'a'): {('A', 'C'): 7, ('A', 'B'): 8}, \n",
    "                          ('b', 'b'): {('A', 'D'): 9, ('A', 'B'): 10}\n",
    "                         }) \n"
   ]
  },
  {
   "cell_type": "code",
   "execution_count": 48,
   "metadata": {},
   "outputs": [
    {
     "data": {
      "text/html": [
       "<div>\n",
       "<style scoped>\n",
       "    .dataframe tbody tr th:only-of-type {\n",
       "        vertical-align: middle;\n",
       "    }\n",
       "\n",
       "    .dataframe tbody tr th {\n",
       "        vertical-align: top;\n",
       "    }\n",
       "\n",
       "    .dataframe thead tr th {\n",
       "        text-align: left;\n",
       "    }\n",
       "</style>\n",
       "<table border=\"1\" class=\"dataframe\">\n",
       "  <thead>\n",
       "    <tr>\n",
       "      <th></th>\n",
       "      <th></th>\n",
       "      <th colspan=\"3\" halign=\"left\">1</th>\n",
       "      <th colspan=\"3\" halign=\"left\">2</th>\n",
       "    </tr>\n",
       "    <tr>\n",
       "      <th></th>\n",
       "      <th></th>\n",
       "      <th>age</th>\n",
       "      <th>height</th>\n",
       "      <th>weight</th>\n",
       "      <th>age</th>\n",
       "      <th>height</th>\n",
       "      <th>weight</th>\n",
       "    </tr>\n",
       "  </thead>\n",
       "  <tbody>\n",
       "    <tr>\n",
       "      <th rowspan=\"2\" valign=\"top\">1</th>\n",
       "      <th>Adeel</th>\n",
       "      <td>40</td>\n",
       "      <td>167</td>\n",
       "      <td>80</td>\n",
       "      <td>40</td>\n",
       "      <td>167</td>\n",
       "      <td>80</td>\n",
       "    </tr>\n",
       "    <tr>\n",
       "      <th>Hamza</th>\n",
       "      <td>22</td>\n",
       "      <td>172</td>\n",
       "      <td>66</td>\n",
       "      <td>22</td>\n",
       "      <td>172</td>\n",
       "      <td>66</td>\n",
       "    </tr>\n",
       "  </tbody>\n",
       "</table>\n",
       "</div>"
      ],
      "text/plain": [
       "          1                 2              \n",
       "        age height weight age height weight\n",
       "1 Adeel  40    167     80  40    167     80\n",
       "  Hamza  22    172     66  22    172     66"
      ]
     },
     "execution_count": 48,
     "metadata": {},
     "output_type": "execute_result"
    }
   ],
   "source": [
    "            pd.DataFrame({('1', 'age'): {('1', 'Adeel'): 40, ('1', 'Hamza'):22},\n",
    "                          ('1', 'height'): {('1', 'Adeel'): 167, ('1', 'Hamza'): 172},\n",
    "                          ('1', 'weight'): {('1', 'Adeel'): 80, ('1', 'Hamza'): 66},\n",
    "                          ('2', 'age'):    {('1', 'Adeel'): 40, ('1', 'Hamza'):22},\n",
    "                          ('2', 'height'): {('1', 'Adeel'): 167, ('1', 'Hamza'): 172},\n",
    "                          ('2', 'weight'): {('1', 'Adeel'): 80, ('1', 'Hamza'): 66}\n",
    "                         }) \n"
   ]
  },
  {
   "cell_type": "code",
   "execution_count": 54,
   "metadata": {},
   "outputs": [
    {
     "data": {
      "text/html": [
       "<div>\n",
       "<style scoped>\n",
       "    .dataframe tbody tr th:only-of-type {\n",
       "        vertical-align: middle;\n",
       "    }\n",
       "\n",
       "    .dataframe tbody tr th {\n",
       "        vertical-align: top;\n",
       "    }\n",
       "\n",
       "    .dataframe thead tr th {\n",
       "        text-align: left;\n",
       "    }\n",
       "</style>\n",
       "<table border=\"1\" class=\"dataframe\">\n",
       "  <thead>\n",
       "    <tr>\n",
       "      <th></th>\n",
       "      <th colspan=\"3\" halign=\"left\">1</th>\n",
       "      <th colspan=\"3\" halign=\"left\">2</th>\n",
       "    </tr>\n",
       "    <tr>\n",
       "      <th></th>\n",
       "      <th>a</th>\n",
       "      <th>b</th>\n",
       "      <th>c</th>\n",
       "      <th>a</th>\n",
       "      <th>b</th>\n",
       "      <th>c</th>\n",
       "    </tr>\n",
       "  </thead>\n",
       "  <tbody>\n",
       "    <tr>\n",
       "      <th>1</th>\n",
       "      <td>410.0</td>\n",
       "      <td>410.0</td>\n",
       "      <td>NaN</td>\n",
       "      <td>40.0</td>\n",
       "      <td>167.0</td>\n",
       "      <td>NaN</td>\n",
       "    </tr>\n",
       "    <tr>\n",
       "      <th>2</th>\n",
       "      <td>32.0</td>\n",
       "      <td>32.0</td>\n",
       "      <td>NaN</td>\n",
       "      <td>NaN</td>\n",
       "      <td>410.0</td>\n",
       "      <td>NaN</td>\n",
       "    </tr>\n",
       "    <tr>\n",
       "      <th>3</th>\n",
       "      <td>14.0</td>\n",
       "      <td>14.0</td>\n",
       "      <td>33.0</td>\n",
       "      <td>NaN</td>\n",
       "      <td>14.0</td>\n",
       "      <td>NaN</td>\n",
       "    </tr>\n",
       "    <tr>\n",
       "      <th>4</th>\n",
       "      <td>NaN</td>\n",
       "      <td>23.0</td>\n",
       "      <td>NaN</td>\n",
       "      <td>NaN</td>\n",
       "      <td>NaN</td>\n",
       "      <td>830.0</td>\n",
       "    </tr>\n",
       "    <tr>\n",
       "      <th>5</th>\n",
       "      <td>23.0</td>\n",
       "      <td>NaN</td>\n",
       "      <td>NaN</td>\n",
       "      <td>NaN</td>\n",
       "      <td>23.0</td>\n",
       "      <td>NaN</td>\n",
       "    </tr>\n",
       "  </tbody>\n",
       "</table>\n",
       "</div>"
      ],
      "text/plain": [
       "       1                  2              \n",
       "       a      b     c     a      b      c\n",
       "1  410.0  410.0   NaN  40.0  167.0    NaN\n",
       "2   32.0   32.0   NaN   NaN  410.0    NaN\n",
       "3   14.0   14.0  33.0   NaN   14.0    NaN\n",
       "4    NaN   23.0   NaN   NaN    NaN  830.0\n",
       "5   23.0    NaN   NaN   NaN   23.0    NaN"
      ]
     },
     "execution_count": 54,
     "metadata": {},
     "output_type": "execute_result"
    }
   ],
   "source": [
    "            pd.DataFrame({('1', 'a'): {1: 410,2:32,3:14,5:23},\n",
    "                          ('1', 'b'): {1: 410,2:32,3:14,4:23},\n",
    "                          ('1', 'c'): {3: 33},\n",
    "                          ('2', 'a'): {1: 40},\n",
    "                          ('2', 'b'): {1: 167,2: 410,3:32,3:14,5:23},\n",
    "                          ('2', 'c'): {4 : 830},\n",
    "                          }) \n"
   ]
  },
  {
   "cell_type": "markdown",
   "metadata": {},
   "source": [
    "### 11.5 Alternate Constructor"
   ]
  },
  {
   "cell_type": "markdown",
   "metadata": {},
   "source": [
    "**DataFrame.from_dict**\n",
    "\n",
    "* It takes a dict of dicts or a dict of array-like sequences and returns a DataFrame.\n",
    "* It operates like the DataFrame constructor except for the orient parameter which is 'columns' by default, but which can be set to 'index' in order to use the dict keys as row labels.\n",
    "\n"
   ]
  },
  {
   "cell_type": "code",
   "execution_count": 38,
   "metadata": {},
   "outputs": [
    {
     "data": {
      "text/html": [
       "<div>\n",
       "<style scoped>\n",
       "    .dataframe tbody tr th:only-of-type {\n",
       "        vertical-align: middle;\n",
       "    }\n",
       "\n",
       "    .dataframe tbody tr th {\n",
       "        vertical-align: top;\n",
       "    }\n",
       "\n",
       "    .dataframe thead th {\n",
       "        text-align: right;\n",
       "    }\n",
       "</style>\n",
       "<table border=\"1\" class=\"dataframe\">\n",
       "  <thead>\n",
       "    <tr style=\"text-align: right;\">\n",
       "      <th></th>\n",
       "      <th>account</th>\n",
       "      <th>Jan</th>\n",
       "      <th>Feb</th>\n",
       "      <th>Mar</th>\n",
       "    </tr>\n",
       "  </thead>\n",
       "  <tbody>\n",
       "    <tr>\n",
       "      <th>0</th>\n",
       "      <td>Jones LLC</td>\n",
       "      <td>150</td>\n",
       "      <td>200</td>\n",
       "      <td>140</td>\n",
       "    </tr>\n",
       "    <tr>\n",
       "      <th>1</th>\n",
       "      <td>Alpha Co</td>\n",
       "      <td>200</td>\n",
       "      <td>210</td>\n",
       "      <td>215</td>\n",
       "    </tr>\n",
       "    <tr>\n",
       "      <th>2</th>\n",
       "      <td>Blue Inc</td>\n",
       "      <td>50</td>\n",
       "      <td>90</td>\n",
       "      <td>95</td>\n",
       "    </tr>\n",
       "  </tbody>\n",
       "</table>\n",
       "</div>"
      ],
      "text/plain": [
       "     account  Jan  Feb  Mar\n",
       "0  Jones LLC  150  200  140\n",
       "1   Alpha Co  200  210  215\n",
       "2   Blue Inc   50   90   95"
      ]
     },
     "execution_count": 38,
     "metadata": {},
     "output_type": "execute_result"
    }
   ],
   "source": [
    "sales = {'account': ['Jones LLC', 'Alpha Co', 'Blue Inc'],\n",
    "         'Jan': [150, 200, 50],\n",
    "         'Feb': [200, 210, 90],\n",
    "         'Mar': [140, 215, 95]}\n",
    "df = pd.DataFrame.from_dict(sales)\n",
    "df"
   ]
  },
  {
   "cell_type": "markdown",
   "metadata": {},
   "source": [
    "**DataFrame.from_records**\n",
    "\n",
    "* It takes a list of tuples or an ndarray with structured dtype. \n",
    "* Works analogously to the normal DataFrame constructor except that index maybe be a specific field of the structured dtype to use as the index."
   ]
  },
  {
   "cell_type": "code",
   "execution_count": 52,
   "metadata": {},
   "outputs": [
    {
     "name": "stdout",
     "output_type": "stream",
     "text": [
      "     account  Jan  Feb  Mar\n",
      "0  Jones LLC  150  200   50\n",
      "1   Alpha Co  200  210   90\n",
      "2   Blue Inc  140  215   95\n"
     ]
    },
    {
     "data": {
      "text/plain": [
       "array([(0, 0., b'', b''), (0, 0., b'', b''), (0, 0., b'', b'')],\n",
       "      dtype=[('account', '<i4'), ('Jan', '<f4'), ('Feb', 'S10'), ('Mar', 'S10')])"
      ]
     },
     "execution_count": 52,
     "metadata": {},
     "output_type": "execute_result"
    }
   ],
   "source": [
    "            sales = [('Jones LLC', 150, 200, 50),\n",
    "                     ('Alpha Co', 200, 210, 90),\n",
    "                     ('Blue Inc', 140, 215, 95)]\n",
    "            labels = ['account', 'Jan', 'Feb', 'Mar']\n",
    "            df = pd.DataFrame.from_records(sales, columns=labels)\n",
    "            print(df)\n",
    "            sales = np.zeros((3,), dtype=[('account', 'i4'),('Jan', 'f4'),('Feb', 'a10'),('Mar', 'a10')]) \n",
    "            sales"
   ]
  },
  {
   "cell_type": "code",
   "execution_count": 53,
   "metadata": {},
   "outputs": [
    {
     "name": "stdout",
     "output_type": "stream",
     "text": [
      "A    g\n",
      "B    e\n",
      "C    e\n",
      "D    k\n",
      "E    g\n",
      "F    e\n",
      "G    e\n",
      "H    k\n",
      "I    s\n",
      "dtype: object\n"
     ]
    },
    {
     "data": {
      "text/plain": [
       "array([(0, 0., b''), (0, 0., b'')],\n",
       "      dtype=[('A', '<i4'), ('B', '<f4'), ('C', 'S10')])"
      ]
     },
     "execution_count": 53,
     "metadata": {},
     "output_type": "execute_result"
    }
   ],
   "source": [
    "            import pandas as pd\n",
    "            import numpy as np\n",
    "\n",
    "            data = np.array(['g','e','e','k','g','e','e','k','s'])\n",
    "            ser = pd.Series(data,index=['A','B','C','D','E','F','G','H','I'])\n",
    "            print(ser)\n",
    "            data = np.zeros((2,), dtype=[('A', 'i4'),('B', 'f4'),('C', 'a10')]) \n",
    "            data "
   ]
  },
  {
   "cell_type": "code",
   "execution_count": 54,
   "metadata": {},
   "outputs": [
    {
     "data": {
      "text/html": [
       "<div>\n",
       "<style scoped>\n",
       "    .dataframe tbody tr th:only-of-type {\n",
       "        vertical-align: middle;\n",
       "    }\n",
       "\n",
       "    .dataframe tbody tr th {\n",
       "        vertical-align: top;\n",
       "    }\n",
       "\n",
       "    .dataframe thead th {\n",
       "        text-align: right;\n",
       "    }\n",
       "</style>\n",
       "<table border=\"1\" class=\"dataframe\">\n",
       "  <thead>\n",
       "    <tr style=\"text-align: right;\">\n",
       "      <th></th>\n",
       "      <th>A</th>\n",
       "      <th>B</th>\n",
       "    </tr>\n",
       "    <tr>\n",
       "      <th>C</th>\n",
       "      <th></th>\n",
       "      <th></th>\n",
       "    </tr>\n",
       "  </thead>\n",
       "  <tbody>\n",
       "    <tr>\n",
       "      <th>b''</th>\n",
       "      <td>0</td>\n",
       "      <td>0.0</td>\n",
       "    </tr>\n",
       "    <tr>\n",
       "      <th>b''</th>\n",
       "      <td>0</td>\n",
       "      <td>0.0</td>\n",
       "    </tr>\n",
       "  </tbody>\n",
       "</table>\n",
       "</div>"
      ],
      "text/plain": [
       "     A    B\n",
       "C          \n",
       "b''  0  0.0\n",
       "b''  0  0.0"
      ]
     },
     "execution_count": 54,
     "metadata": {},
     "output_type": "execute_result"
    }
   ],
   "source": [
    "            pd.DataFrame.from_records(data, index='C') "
   ]
  },
  {
   "cell_type": "code",
   "execution_count": 55,
   "metadata": {},
   "outputs": [
    {
     "data": {
      "text/html": [
       "<div>\n",
       "<style scoped>\n",
       "    .dataframe tbody tr th:only-of-type {\n",
       "        vertical-align: middle;\n",
       "    }\n",
       "\n",
       "    .dataframe tbody tr th {\n",
       "        vertical-align: top;\n",
       "    }\n",
       "\n",
       "    .dataframe thead th {\n",
       "        text-align: right;\n",
       "    }\n",
       "</style>\n",
       "<table border=\"1\" class=\"dataframe\">\n",
       "  <thead>\n",
       "    <tr style=\"text-align: right;\">\n",
       "      <th></th>\n",
       "      <th>A</th>\n",
       "      <th>B</th>\n",
       "      <th>C</th>\n",
       "    </tr>\n",
       "    <tr>\n",
       "      <th>D</th>\n",
       "      <th></th>\n",
       "      <th></th>\n",
       "      <th></th>\n",
       "    </tr>\n",
       "  </thead>\n",
       "  <tbody>\n",
       "    <tr>\n",
       "      <th>0.0</th>\n",
       "      <td>0</td>\n",
       "      <td>0.0</td>\n",
       "      <td>b''</td>\n",
       "    </tr>\n",
       "    <tr>\n",
       "      <th>0.0</th>\n",
       "      <td>0</td>\n",
       "      <td>0.0</td>\n",
       "      <td>b''</td>\n",
       "    </tr>\n",
       "    <tr>\n",
       "      <th>0.0</th>\n",
       "      <td>0</td>\n",
       "      <td>0.0</td>\n",
       "      <td>b''</td>\n",
       "    </tr>\n",
       "  </tbody>\n",
       "</table>\n",
       "</div>"
      ],
      "text/plain": [
       "     A    B    C\n",
       "D               \n",
       "0.0  0  0.0  b''\n",
       "0.0  0  0.0  b''\n",
       "0.0  0  0.0  b''"
      ]
     },
     "execution_count": 55,
     "metadata": {},
     "output_type": "execute_result"
    }
   ],
   "source": [
    "            data = np.zeros((3,), dtype=[('A', 'i4'),('B', 'f4'),('C', 'a10'),('D', 'f4')]) \n",
    "            data\n",
    "            pd.DataFrame.from_records(data, index='D') "
   ]
  },
  {
   "cell_type": "code",
   "execution_count": 56,
   "metadata": {},
   "outputs": [
    {
     "data": {
      "text/html": [
       "<div>\n",
       "<style scoped>\n",
       "    .dataframe tbody tr th:only-of-type {\n",
       "        vertical-align: middle;\n",
       "    }\n",
       "\n",
       "    .dataframe tbody tr th {\n",
       "        vertical-align: top;\n",
       "    }\n",
       "\n",
       "    .dataframe thead th {\n",
       "        text-align: right;\n",
       "    }\n",
       "</style>\n",
       "<table border=\"1\" class=\"dataframe\">\n",
       "  <thead>\n",
       "    <tr style=\"text-align: right;\">\n",
       "      <th></th>\n",
       "      <th>B</th>\n",
       "      <th>C</th>\n",
       "      <th>D</th>\n",
       "    </tr>\n",
       "    <tr>\n",
       "      <th>A</th>\n",
       "      <th></th>\n",
       "      <th></th>\n",
       "      <th></th>\n",
       "    </tr>\n",
       "  </thead>\n",
       "  <tbody>\n",
       "    <tr>\n",
       "      <th>0</th>\n",
       "      <td>0.0</td>\n",
       "      <td>b''</td>\n",
       "      <td>0.0</td>\n",
       "    </tr>\n",
       "    <tr>\n",
       "      <th>0</th>\n",
       "      <td>0.0</td>\n",
       "      <td>b''</td>\n",
       "      <td>0.0</td>\n",
       "    </tr>\n",
       "    <tr>\n",
       "      <th>0</th>\n",
       "      <td>0.0</td>\n",
       "      <td>b''</td>\n",
       "      <td>0.0</td>\n",
       "    </tr>\n",
       "  </tbody>\n",
       "</table>\n",
       "</div>"
      ],
      "text/plain": [
       "     B    C    D\n",
       "A               \n",
       "0  0.0  b''  0.0\n",
       "0  0.0  b''  0.0\n",
       "0  0.0  b''  0.0"
      ]
     },
     "execution_count": 56,
     "metadata": {},
     "output_type": "execute_result"
    }
   ],
   "source": [
    "            pd.DataFrame.from_records(data, index='A')"
   ]
  },
  {
   "cell_type": "markdown",
   "metadata": {},
   "source": [
    "**DataFrame.from_items**\n",
    "* DataFrame.from_items works analogously to the form of the dict constructor that takes a sequence of (key, value) pairs, where the keys are column (or row, in the case of orient='index') names, and the value are the column values (or row values). \n",
    "* This can be useful for constructing a DataFrame with the columns in a particular order without having to pass an explicit list of columns\n"
   ]
  },
  {
   "cell_type": "code",
   "execution_count": 57,
   "metadata": {},
   "outputs": [
    {
     "name": "stderr",
     "output_type": "stream",
     "text": [
      "C:\\ProgramData\\Anaconda3\\lib\\site-packages\\ipykernel_launcher.py:1: FutureWarning: from_items is deprecated. Please use DataFrame.from_dict(dict(items), ...) instead. DataFrame.from_dict(OrderedDict(items)) may be used to preserve the key order.\n",
      "  \"\"\"Entry point for launching an IPython kernel.\n"
     ]
    },
    {
     "data": {
      "text/html": [
       "<div>\n",
       "<style scoped>\n",
       "    .dataframe tbody tr th:only-of-type {\n",
       "        vertical-align: middle;\n",
       "    }\n",
       "\n",
       "    .dataframe tbody tr th {\n",
       "        vertical-align: top;\n",
       "    }\n",
       "\n",
       "    .dataframe thead th {\n",
       "        text-align: right;\n",
       "    }\n",
       "</style>\n",
       "<table border=\"1\" class=\"dataframe\">\n",
       "  <thead>\n",
       "    <tr style=\"text-align: right;\">\n",
       "      <th></th>\n",
       "      <th>A</th>\n",
       "      <th>B</th>\n",
       "    </tr>\n",
       "  </thead>\n",
       "  <tbody>\n",
       "    <tr>\n",
       "      <th>0</th>\n",
       "      <td>1</td>\n",
       "      <td>4</td>\n",
       "    </tr>\n",
       "    <tr>\n",
       "      <th>1</th>\n",
       "      <td>2</td>\n",
       "      <td>5</td>\n",
       "    </tr>\n",
       "    <tr>\n",
       "      <th>2</th>\n",
       "      <td>3</td>\n",
       "      <td>6</td>\n",
       "    </tr>\n",
       "  </tbody>\n",
       "</table>\n",
       "</div>"
      ],
      "text/plain": [
       "   A  B\n",
       "0  1  4\n",
       "1  2  5\n",
       "2  3  6"
      ]
     },
     "execution_count": 57,
     "metadata": {},
     "output_type": "execute_result"
    }
   ],
   "source": [
    " pd.DataFrame.from_items([('A', [1, 2, 3]), ('B', [4, 5, 6])]) "
   ]
  },
  {
   "cell_type": "code",
   "execution_count": 59,
   "metadata": {},
   "outputs": [
    {
     "name": "stderr",
     "output_type": "stream",
     "text": [
      "C:\\ProgramData\\Anaconda3\\lib\\site-packages\\ipykernel_launcher.py:6: FutureWarning: from_items is deprecated. Please use DataFrame.from_dict(dict(items), ...) instead. DataFrame.from_dict(OrderedDict(items)) may be used to preserve the key order.\n",
      "  \n"
     ]
    },
    {
     "data": {
      "text/html": [
       "<div>\n",
       "<style scoped>\n",
       "    .dataframe tbody tr th:only-of-type {\n",
       "        vertical-align: middle;\n",
       "    }\n",
       "\n",
       "    .dataframe tbody tr th {\n",
       "        vertical-align: top;\n",
       "    }\n",
       "\n",
       "    .dataframe thead th {\n",
       "        text-align: right;\n",
       "    }\n",
       "</style>\n",
       "<table border=\"1\" class=\"dataframe\">\n",
       "  <thead>\n",
       "    <tr style=\"text-align: right;\">\n",
       "      <th></th>\n",
       "      <th>account</th>\n",
       "      <th>Jan</th>\n",
       "      <th>Feb</th>\n",
       "      <th>Mar</th>\n",
       "    </tr>\n",
       "  </thead>\n",
       "  <tbody>\n",
       "    <tr>\n",
       "      <th>0</th>\n",
       "      <td>Jones LLC</td>\n",
       "      <td>150</td>\n",
       "      <td>200</td>\n",
       "      <td>140</td>\n",
       "    </tr>\n",
       "    <tr>\n",
       "      <th>1</th>\n",
       "      <td>Alpha Co</td>\n",
       "      <td>200</td>\n",
       "      <td>210</td>\n",
       "      <td>215</td>\n",
       "    </tr>\n",
       "    <tr>\n",
       "      <th>2</th>\n",
       "      <td>Blue Inc</td>\n",
       "      <td>50</td>\n",
       "      <td>90</td>\n",
       "      <td>95</td>\n",
       "    </tr>\n",
       "  </tbody>\n",
       "</table>\n",
       "</div>"
      ],
      "text/plain": [
       "     account  Jan  Feb  Mar\n",
       "0  Jones LLC  150  200  140\n",
       "1   Alpha Co  200  210  215\n",
       "2   Blue Inc   50   90   95"
      ]
     },
     "execution_count": 59,
     "metadata": {},
     "output_type": "execute_result"
    }
   ],
   "source": [
    "            sales = [('account', ['Jones LLC', 'Alpha Co', 'Blue Inc']),\n",
    "                     ('Jan', [150, 200, 50]),\n",
    "                     ('Feb', [200, 210, 90]),\n",
    "                     ('Mar', [140, 215, 95]),\n",
    "                     ]\n",
    "            df = pd.DataFrame.from_items(sales)\n",
    "            df"
   ]
  },
  {
   "cell_type": "markdown",
   "metadata": {},
   "source": [
    "### 11.6 Column selection, addition, deletion "
   ]
  },
  {
   "cell_type": "markdown",
   "metadata": {},
   "source": [
    "* We can treat dataframes semantically like a dict of liek indexes and series object\n",
    "* We can do following operations on dataframes' columns\n",
    "                    \n",
    "                    Selection\n",
    "                    addition \n",
    "                    deletion\n",
    "                    \n"
   ]
  },
  {
   "cell_type": "code",
   "execution_count": 110,
   "metadata": {},
   "outputs": [
    {
     "data": {
      "text/plain": [
       "1       Pakistan\n",
       "2    Afghanistan\n",
       "3           Iran\n",
       "4         Saudia\n",
       "5         Turkey\n",
       "Name: Country, dtype: object"
      ]
     },
     "execution_count": 110,
     "metadata": {},
     "output_type": "execute_result"
    }
   ],
   "source": [
    "            import pandas as pd\n",
    "            import numpy as np\n",
    "            #Column Selection\n",
    "            d = {\n",
    "                'Country' : pd.Series(['Pakistan','Afghanistan','Iran','Saudia','Turkey'], index=[1,2,3,4,5]),    \n",
    "                'Population' : pd.Series([220000000,300000000,230000000,1120000000], index=[1,2,3,4])    \n",
    "            } \n",
    "\n",
    "            df = pd.DataFrame(d) \n",
    "            df['Country']"
   ]
  },
  {
   "cell_type": "code",
   "execution_count": 111,
   "metadata": {},
   "outputs": [
    {
     "data": {
      "text/plain": [
       "1    2.200000e+08\n",
       "2    3.000000e+08\n",
       "3    2.300000e+08\n",
       "4    1.120000e+09\n",
       "5             NaN\n",
       "Name: Population, dtype: float64"
      ]
     },
     "execution_count": 111,
     "metadata": {},
     "output_type": "execute_result"
    }
   ],
   "source": [
    "df['Population']"
   ]
  },
  {
   "cell_type": "code",
   "execution_count": 112,
   "metadata": {},
   "outputs": [
    {
     "data": {
      "text/html": [
       "<div>\n",
       "<style scoped>\n",
       "    .dataframe tbody tr th:only-of-type {\n",
       "        vertical-align: middle;\n",
       "    }\n",
       "\n",
       "    .dataframe tbody tr th {\n",
       "        vertical-align: top;\n",
       "    }\n",
       "\n",
       "    .dataframe thead th {\n",
       "        text-align: right;\n",
       "    }\n",
       "</style>\n",
       "<table border=\"1\" class=\"dataframe\">\n",
       "  <thead>\n",
       "    <tr style=\"text-align: right;\">\n",
       "      <th></th>\n",
       "      <th>Country</th>\n",
       "      <th>Population</th>\n",
       "      <th>Ranking</th>\n",
       "    </tr>\n",
       "  </thead>\n",
       "  <tbody>\n",
       "    <tr>\n",
       "      <th>1</th>\n",
       "      <td>Pakistan</td>\n",
       "      <td>2.200000e+08</td>\n",
       "      <td>1</td>\n",
       "    </tr>\n",
       "    <tr>\n",
       "      <th>2</th>\n",
       "      <td>Afghanistan</td>\n",
       "      <td>3.000000e+08</td>\n",
       "      <td>2</td>\n",
       "    </tr>\n",
       "    <tr>\n",
       "      <th>3</th>\n",
       "      <td>Iran</td>\n",
       "      <td>2.300000e+08</td>\n",
       "      <td>3</td>\n",
       "    </tr>\n",
       "    <tr>\n",
       "      <th>4</th>\n",
       "      <td>Saudia</td>\n",
       "      <td>1.120000e+09</td>\n",
       "      <td>4</td>\n",
       "    </tr>\n",
       "    <tr>\n",
       "      <th>5</th>\n",
       "      <td>Turkey</td>\n",
       "      <td>NaN</td>\n",
       "      <td>5</td>\n",
       "    </tr>\n",
       "  </tbody>\n",
       "</table>\n",
       "</div>"
      ],
      "text/plain": [
       "       Country    Population  Ranking\n",
       "1     Pakistan  2.200000e+08        1\n",
       "2  Afghanistan  3.000000e+08        2\n",
       "3         Iran  2.300000e+08        3\n",
       "4       Saudia  1.120000e+09        4\n",
       "5       Turkey           NaN        5"
      ]
     },
     "execution_count": 112,
     "metadata": {},
     "output_type": "execute_result"
    }
   ],
   "source": [
    "            import pandas as pd\n",
    "            #Adding new column\n",
    "            d = {\n",
    "                'Country' : pd.Series(['Pakistan','Afghanistan','Iran','Saudia','Turkey'], index=[1,2,3,4,5]),    \n",
    "                'Population' : pd.Series([220000000,300000000,230000000,1120000000], index=[1,2,3,4])    \n",
    "            } \n",
    "            df['Ranking']=pd.Series([1,2,3,4,5], index=[1,2,3,4,5])\n",
    "            df"
   ]
  },
  {
   "cell_type": "code",
   "execution_count": 113,
   "metadata": {},
   "outputs": [
    {
     "data": {
      "text/html": [
       "<div>\n",
       "<style scoped>\n",
       "    .dataframe tbody tr th:only-of-type {\n",
       "        vertical-align: middle;\n",
       "    }\n",
       "\n",
       "    .dataframe tbody tr th {\n",
       "        vertical-align: top;\n",
       "    }\n",
       "\n",
       "    .dataframe thead th {\n",
       "        text-align: right;\n",
       "    }\n",
       "</style>\n",
       "<table border=\"1\" class=\"dataframe\">\n",
       "  <thead>\n",
       "    <tr style=\"text-align: right;\">\n",
       "      <th></th>\n",
       "      <th>Country</th>\n",
       "      <th>Population</th>\n",
       "      <th>Ranking</th>\n",
       "      <th>New</th>\n",
       "    </tr>\n",
       "  </thead>\n",
       "  <tbody>\n",
       "    <tr>\n",
       "      <th>1</th>\n",
       "      <td>Pakistan</td>\n",
       "      <td>2.200000e+08</td>\n",
       "      <td>1</td>\n",
       "      <td>2.200000e+08</td>\n",
       "    </tr>\n",
       "    <tr>\n",
       "      <th>2</th>\n",
       "      <td>Afghanistan</td>\n",
       "      <td>3.000000e+08</td>\n",
       "      <td>3</td>\n",
       "      <td>9.000000e+08</td>\n",
       "    </tr>\n",
       "    <tr>\n",
       "      <th>3</th>\n",
       "      <td>Iran</td>\n",
       "      <td>2.300000e+08</td>\n",
       "      <td>4</td>\n",
       "      <td>9.200000e+08</td>\n",
       "    </tr>\n",
       "    <tr>\n",
       "      <th>4</th>\n",
       "      <td>Saudia</td>\n",
       "      <td>1.120000e+09</td>\n",
       "      <td>2</td>\n",
       "      <td>2.240000e+09</td>\n",
       "    </tr>\n",
       "    <tr>\n",
       "      <th>5</th>\n",
       "      <td>Turkey</td>\n",
       "      <td>NaN</td>\n",
       "      <td>5</td>\n",
       "      <td>NaN</td>\n",
       "    </tr>\n",
       "  </tbody>\n",
       "</table>\n",
       "</div>"
      ],
      "text/plain": [
       "       Country    Population  Ranking           New\n",
       "1     Pakistan  2.200000e+08        1  2.200000e+08\n",
       "2  Afghanistan  3.000000e+08        3  9.000000e+08\n",
       "3         Iran  2.300000e+08        4  9.200000e+08\n",
       "4       Saudia  1.120000e+09        2  2.240000e+09\n",
       "5       Turkey           NaN        5           NaN"
      ]
     },
     "execution_count": 113,
     "metadata": {},
     "output_type": "execute_result"
    }
   ],
   "source": [
    "            import pandas as pd\n",
    "            #Adding new column which is result of multiplicaion of two columns\n",
    "            d = {\n",
    "                'Country' : pd.Series(['Pakistan','Afghanistan','Iran','Saudia','Turkey'], index=[1,2,3,4,5]),    \n",
    "                'Population' : pd.Series([220000000,300000000,230000000,1120000000], index=[1,2,3,4])    \n",
    "            } \n",
    "            df['Ranking']=pd.Series([1,3,4,2,5], index=[1,2,3,4,5])\n",
    "            df['New']=df['Ranking']*df['Population']\n",
    "            df\n",
    "            "
   ]
  },
  {
   "cell_type": "code",
   "execution_count": 114,
   "metadata": {},
   "outputs": [
    {
     "data": {
      "text/html": [
       "<div>\n",
       "<style scoped>\n",
       "    .dataframe tbody tr th:only-of-type {\n",
       "        vertical-align: middle;\n",
       "    }\n",
       "\n",
       "    .dataframe tbody tr th {\n",
       "        vertical-align: top;\n",
       "    }\n",
       "\n",
       "    .dataframe thead th {\n",
       "        text-align: right;\n",
       "    }\n",
       "</style>\n",
       "<table border=\"1\" class=\"dataframe\">\n",
       "  <thead>\n",
       "    <tr style=\"text-align: right;\">\n",
       "      <th></th>\n",
       "      <th>Country</th>\n",
       "      <th>Population</th>\n",
       "      <th>Ranking</th>\n",
       "      <th>New</th>\n",
       "      <th>flag</th>\n",
       "    </tr>\n",
       "  </thead>\n",
       "  <tbody>\n",
       "    <tr>\n",
       "      <th>1</th>\n",
       "      <td>Pakistan</td>\n",
       "      <td>2.200000e+08</td>\n",
       "      <td>1</td>\n",
       "      <td>2.200000e+08</td>\n",
       "      <td>False</td>\n",
       "    </tr>\n",
       "    <tr>\n",
       "      <th>2</th>\n",
       "      <td>Afghanistan</td>\n",
       "      <td>3.000000e+08</td>\n",
       "      <td>3</td>\n",
       "      <td>9.000000e+08</td>\n",
       "      <td>False</td>\n",
       "    </tr>\n",
       "    <tr>\n",
       "      <th>3</th>\n",
       "      <td>Iran</td>\n",
       "      <td>2.300000e+08</td>\n",
       "      <td>4</td>\n",
       "      <td>9.200000e+08</td>\n",
       "      <td>True</td>\n",
       "    </tr>\n",
       "    <tr>\n",
       "      <th>4</th>\n",
       "      <td>Saudia</td>\n",
       "      <td>1.120000e+09</td>\n",
       "      <td>2</td>\n",
       "      <td>2.240000e+09</td>\n",
       "      <td>False</td>\n",
       "    </tr>\n",
       "    <tr>\n",
       "      <th>5</th>\n",
       "      <td>Turkey</td>\n",
       "      <td>NaN</td>\n",
       "      <td>5</td>\n",
       "      <td>NaN</td>\n",
       "      <td>True</td>\n",
       "    </tr>\n",
       "  </tbody>\n",
       "</table>\n",
       "</div>"
      ],
      "text/plain": [
       "       Country    Population  Ranking           New   flag\n",
       "1     Pakistan  2.200000e+08        1  2.200000e+08  False\n",
       "2  Afghanistan  3.000000e+08        3  9.000000e+08  False\n",
       "3         Iran  2.300000e+08        4  9.200000e+08   True\n",
       "4       Saudia  1.120000e+09        2  2.240000e+09  False\n",
       "5       Turkey           NaN        5           NaN   True"
      ]
     },
     "execution_count": 114,
     "metadata": {},
     "output_type": "execute_result"
    }
   ],
   "source": [
    "            import pandas as pd\n",
    "            #Setting flag value to true, where values are satisfied\n",
    "            d = {\n",
    "                'Country' : pd.Series(['Pakistan','Afghanistan','Iran','Saudia','Turkey'], index=[1,2,3,4,5]),    \n",
    "                'Population' : pd.Series([220000000,300000000,230000000,1120000000], index=[1,2,3,4])    \n",
    "            } \n",
    "            df['Ranking']=pd.Series([1,3,4,2,5], index=[1,2,3,4,5])\n",
    "            df['flag'] = df['Ranking'] > 3 \n",
    "            df\n",
    "            "
   ]
  },
  {
   "cell_type": "code",
   "execution_count": 115,
   "metadata": {},
   "outputs": [
    {
     "data": {
      "text/html": [
       "<div>\n",
       "<style scoped>\n",
       "    .dataframe tbody tr th:only-of-type {\n",
       "        vertical-align: middle;\n",
       "    }\n",
       "\n",
       "    .dataframe tbody tr th {\n",
       "        vertical-align: top;\n",
       "    }\n",
       "\n",
       "    .dataframe thead th {\n",
       "        text-align: right;\n",
       "    }\n",
       "</style>\n",
       "<table border=\"1\" class=\"dataframe\">\n",
       "  <thead>\n",
       "    <tr style=\"text-align: right;\">\n",
       "      <th></th>\n",
       "      <th>Country</th>\n",
       "      <th>Ranking</th>\n",
       "      <th>New</th>\n",
       "      <th>flag</th>\n",
       "    </tr>\n",
       "  </thead>\n",
       "  <tbody>\n",
       "    <tr>\n",
       "      <th>1</th>\n",
       "      <td>Pakistan</td>\n",
       "      <td>1</td>\n",
       "      <td>2.200000e+08</td>\n",
       "      <td>False</td>\n",
       "    </tr>\n",
       "    <tr>\n",
       "      <th>2</th>\n",
       "      <td>Afghanistan</td>\n",
       "      <td>3</td>\n",
       "      <td>9.000000e+08</td>\n",
       "      <td>False</td>\n",
       "    </tr>\n",
       "    <tr>\n",
       "      <th>3</th>\n",
       "      <td>Iran</td>\n",
       "      <td>4</td>\n",
       "      <td>9.200000e+08</td>\n",
       "      <td>True</td>\n",
       "    </tr>\n",
       "    <tr>\n",
       "      <th>4</th>\n",
       "      <td>Saudia</td>\n",
       "      <td>2</td>\n",
       "      <td>2.240000e+09</td>\n",
       "      <td>False</td>\n",
       "    </tr>\n",
       "    <tr>\n",
       "      <th>5</th>\n",
       "      <td>Turkey</td>\n",
       "      <td>5</td>\n",
       "      <td>NaN</td>\n",
       "      <td>True</td>\n",
       "    </tr>\n",
       "  </tbody>\n",
       "</table>\n",
       "</div>"
      ],
      "text/plain": [
       "       Country  Ranking           New   flag\n",
       "1     Pakistan        1  2.200000e+08  False\n",
       "2  Afghanistan        3  9.000000e+08  False\n",
       "3         Iran        4  9.200000e+08   True\n",
       "4       Saudia        2  2.240000e+09  False\n",
       "5       Turkey        5           NaN   True"
      ]
     },
     "execution_count": 115,
     "metadata": {},
     "output_type": "execute_result"
    }
   ],
   "source": [
    "#poping whole column\n",
    "Population=df.pop('Population')\n",
    "df"
   ]
  },
  {
   "cell_type": "code",
   "execution_count": 116,
   "metadata": {},
   "outputs": [
    {
     "data": {
      "text/html": [
       "<div>\n",
       "<style scoped>\n",
       "    .dataframe tbody tr th:only-of-type {\n",
       "        vertical-align: middle;\n",
       "    }\n",
       "\n",
       "    .dataframe tbody tr th {\n",
       "        vertical-align: top;\n",
       "    }\n",
       "\n",
       "    .dataframe thead th {\n",
       "        text-align: right;\n",
       "    }\n",
       "</style>\n",
       "<table border=\"1\" class=\"dataframe\">\n",
       "  <thead>\n",
       "    <tr style=\"text-align: right;\">\n",
       "      <th></th>\n",
       "      <th>Country</th>\n",
       "      <th>Ranking</th>\n",
       "      <th>New</th>\n",
       "    </tr>\n",
       "  </thead>\n",
       "  <tbody>\n",
       "    <tr>\n",
       "      <th>1</th>\n",
       "      <td>Pakistan</td>\n",
       "      <td>1</td>\n",
       "      <td>2.200000e+08</td>\n",
       "    </tr>\n",
       "    <tr>\n",
       "      <th>2</th>\n",
       "      <td>Afghanistan</td>\n",
       "      <td>3</td>\n",
       "      <td>9.000000e+08</td>\n",
       "    </tr>\n",
       "    <tr>\n",
       "      <th>3</th>\n",
       "      <td>Iran</td>\n",
       "      <td>4</td>\n",
       "      <td>9.200000e+08</td>\n",
       "    </tr>\n",
       "    <tr>\n",
       "      <th>4</th>\n",
       "      <td>Saudia</td>\n",
       "      <td>2</td>\n",
       "      <td>2.240000e+09</td>\n",
       "    </tr>\n",
       "    <tr>\n",
       "      <th>5</th>\n",
       "      <td>Turkey</td>\n",
       "      <td>5</td>\n",
       "      <td>NaN</td>\n",
       "    </tr>\n",
       "  </tbody>\n",
       "</table>\n",
       "</div>"
      ],
      "text/plain": [
       "       Country  Ranking           New\n",
       "1     Pakistan        1  2.200000e+08\n",
       "2  Afghanistan        3  9.000000e+08\n",
       "3         Iran        4  9.200000e+08\n",
       "4       Saudia        2  2.240000e+09\n",
       "5       Turkey        5           NaN"
      ]
     },
     "execution_count": 116,
     "metadata": {},
     "output_type": "execute_result"
    }
   ],
   "source": [
    "#Deleting column\n",
    "del df['flag']\n",
    "df"
   ]
  },
  {
   "cell_type": "code",
   "execution_count": 117,
   "metadata": {},
   "outputs": [
    {
     "data": {
      "text/html": [
       "<div>\n",
       "<style scoped>\n",
       "    .dataframe tbody tr th:only-of-type {\n",
       "        vertical-align: middle;\n",
       "    }\n",
       "\n",
       "    .dataframe tbody tr th {\n",
       "        vertical-align: top;\n",
       "    }\n",
       "\n",
       "    .dataframe thead th {\n",
       "        text-align: right;\n",
       "    }\n",
       "</style>\n",
       "<table border=\"1\" class=\"dataframe\">\n",
       "  <thead>\n",
       "    <tr style=\"text-align: right;\">\n",
       "      <th></th>\n",
       "      <th>Country</th>\n",
       "      <th>Ranking</th>\n",
       "      <th>New</th>\n",
       "      <th>Populate</th>\n",
       "    </tr>\n",
       "  </thead>\n",
       "  <tbody>\n",
       "    <tr>\n",
       "      <th>1</th>\n",
       "      <td>Pakistan</td>\n",
       "      <td>1</td>\n",
       "      <td>2.200000e+08</td>\n",
       "      <td>Pakistan</td>\n",
       "    </tr>\n",
       "    <tr>\n",
       "      <th>2</th>\n",
       "      <td>Afghanistan</td>\n",
       "      <td>3</td>\n",
       "      <td>9.000000e+08</td>\n",
       "      <td>Afghanistan</td>\n",
       "    </tr>\n",
       "    <tr>\n",
       "      <th>3</th>\n",
       "      <td>Iran</td>\n",
       "      <td>4</td>\n",
       "      <td>9.200000e+08</td>\n",
       "      <td>Iran</td>\n",
       "    </tr>\n",
       "    <tr>\n",
       "      <th>4</th>\n",
       "      <td>Saudia</td>\n",
       "      <td>2</td>\n",
       "      <td>2.240000e+09</td>\n",
       "      <td>NaN</td>\n",
       "    </tr>\n",
       "    <tr>\n",
       "      <th>5</th>\n",
       "      <td>Turkey</td>\n",
       "      <td>5</td>\n",
       "      <td>NaN</td>\n",
       "      <td>NaN</td>\n",
       "    </tr>\n",
       "  </tbody>\n",
       "</table>\n",
       "</div>"
      ],
      "text/plain": [
       "       Country  Ranking           New     Populate\n",
       "1     Pakistan        1  2.200000e+08     Pakistan\n",
       "2  Afghanistan        3  9.000000e+08  Afghanistan\n",
       "3         Iran        4  9.200000e+08         Iran\n",
       "4       Saudia        2  2.240000e+09          NaN\n",
       "5       Turkey        5           NaN          NaN"
      ]
     },
     "execution_count": 117,
     "metadata": {},
     "output_type": "execute_result"
    }
   ],
   "source": [
    "# following example will take values from coloumn one until give range and will populate the new coloumn\n",
    "df['Populate'] = df['Country'][:3] \n",
    "df"
   ]
  },
  {
   "cell_type": "code",
   "execution_count": 118,
   "metadata": {},
   "outputs": [
    {
     "data": {
      "text/html": [
       "<div>\n",
       "<style scoped>\n",
       "    .dataframe tbody tr th:only-of-type {\n",
       "        vertical-align: middle;\n",
       "    }\n",
       "\n",
       "    .dataframe tbody tr th {\n",
       "        vertical-align: top;\n",
       "    }\n",
       "\n",
       "    .dataframe thead th {\n",
       "        text-align: right;\n",
       "    }\n",
       "</style>\n",
       "<table border=\"1\" class=\"dataframe\">\n",
       "  <thead>\n",
       "    <tr style=\"text-align: right;\">\n",
       "      <th></th>\n",
       "      <th>Country</th>\n",
       "      <th>Ranking</th>\n",
       "      <th>New</th>\n",
       "      <th>Populate</th>\n",
       "    </tr>\n",
       "  </thead>\n",
       "  <tbody>\n",
       "    <tr>\n",
       "      <th>1</th>\n",
       "      <td>Pakistan</td>\n",
       "      <td>1</td>\n",
       "      <td>2.200000e+08</td>\n",
       "      <td>NaN</td>\n",
       "    </tr>\n",
       "    <tr>\n",
       "      <th>2</th>\n",
       "      <td>Afghanistan</td>\n",
       "      <td>3</td>\n",
       "      <td>9.000000e+08</td>\n",
       "      <td>NaN</td>\n",
       "    </tr>\n",
       "    <tr>\n",
       "      <th>3</th>\n",
       "      <td>Iran</td>\n",
       "      <td>4</td>\n",
       "      <td>9.200000e+08</td>\n",
       "      <td>NaN</td>\n",
       "    </tr>\n",
       "    <tr>\n",
       "      <th>4</th>\n",
       "      <td>Saudia</td>\n",
       "      <td>2</td>\n",
       "      <td>2.240000e+09</td>\n",
       "      <td>Saudia</td>\n",
       "    </tr>\n",
       "    <tr>\n",
       "      <th>5</th>\n",
       "      <td>Turkey</td>\n",
       "      <td>5</td>\n",
       "      <td>NaN</td>\n",
       "      <td>Turkey</td>\n",
       "    </tr>\n",
       "  </tbody>\n",
       "</table>\n",
       "</div>"
      ],
      "text/plain": [
       "       Country  Ranking           New Populate\n",
       "1     Pakistan        1  2.200000e+08      NaN\n",
       "2  Afghanistan        3  9.000000e+08      NaN\n",
       "3         Iran        4  9.200000e+08      NaN\n",
       "4       Saudia        2  2.240000e+09   Saudia\n",
       "5       Turkey        5           NaN   Turkey"
      ]
     },
     "execution_count": 118,
     "metadata": {},
     "output_type": "execute_result"
    }
   ],
   "source": [
    "# following example will take values from coloumn one until give range and will populate the new coloumn\n",
    "df['Populate'] = df['Country'][3:5] \n",
    "df"
   ]
  },
  {
   "cell_type": "code",
   "execution_count": 119,
   "metadata": {},
   "outputs": [
    {
     "data": {
      "text/html": [
       "<div>\n",
       "<style scoped>\n",
       "    .dataframe tbody tr th:only-of-type {\n",
       "        vertical-align: middle;\n",
       "    }\n",
       "\n",
       "    .dataframe tbody tr th {\n",
       "        vertical-align: top;\n",
       "    }\n",
       "\n",
       "    .dataframe thead th {\n",
       "        text-align: right;\n",
       "    }\n",
       "</style>\n",
       "<table border=\"1\" class=\"dataframe\">\n",
       "  <thead>\n",
       "    <tr style=\"text-align: right;\">\n",
       "      <th></th>\n",
       "      <th>Country</th>\n",
       "      <th>Population</th>\n",
       "      <th>Ranking</th>\n",
       "      <th>New</th>\n",
       "      <th>Populate</th>\n",
       "    </tr>\n",
       "  </thead>\n",
       "  <tbody>\n",
       "    <tr>\n",
       "      <th>1</th>\n",
       "      <td>Pakistan</td>\n",
       "      <td>2.200000e+08</td>\n",
       "      <td>1</td>\n",
       "      <td>2.200000e+08</td>\n",
       "      <td>NaN</td>\n",
       "    </tr>\n",
       "    <tr>\n",
       "      <th>2</th>\n",
       "      <td>Afghanistan</td>\n",
       "      <td>9.000000e+08</td>\n",
       "      <td>3</td>\n",
       "      <td>9.000000e+08</td>\n",
       "      <td>NaN</td>\n",
       "    </tr>\n",
       "    <tr>\n",
       "      <th>3</th>\n",
       "      <td>Iran</td>\n",
       "      <td>9.200000e+08</td>\n",
       "      <td>4</td>\n",
       "      <td>9.200000e+08</td>\n",
       "      <td>NaN</td>\n",
       "    </tr>\n",
       "    <tr>\n",
       "      <th>4</th>\n",
       "      <td>Saudia</td>\n",
       "      <td>2.240000e+09</td>\n",
       "      <td>2</td>\n",
       "      <td>2.240000e+09</td>\n",
       "      <td>Saudia</td>\n",
       "    </tr>\n",
       "    <tr>\n",
       "      <th>5</th>\n",
       "      <td>Turkey</td>\n",
       "      <td>NaN</td>\n",
       "      <td>5</td>\n",
       "      <td>NaN</td>\n",
       "      <td>Turkey</td>\n",
       "    </tr>\n",
       "  </tbody>\n",
       "</table>\n",
       "</div>"
      ],
      "text/plain": [
       "       Country    Population  Ranking           New Populate\n",
       "1     Pakistan  2.200000e+08        1  2.200000e+08      NaN\n",
       "2  Afghanistan  9.000000e+08        3  9.000000e+08      NaN\n",
       "3         Iran  9.200000e+08        4  9.200000e+08      NaN\n",
       "4       Saudia  2.240000e+09        2  2.240000e+09   Saudia\n",
       "5       Turkey           NaN        5           NaN   Turkey"
      ]
     },
     "execution_count": 119,
     "metadata": {},
     "output_type": "execute_result"
    }
   ],
   "source": [
    "# inset column at particular position\n",
    "df.insert(1, 'Population', df['New'])\n",
    "df"
   ]
  },
  {
   "cell_type": "code",
   "execution_count": 120,
   "metadata": {},
   "outputs": [
    {
     "data": {
      "text/html": [
       "<div>\n",
       "<style scoped>\n",
       "    .dataframe tbody tr th:only-of-type {\n",
       "        vertical-align: middle;\n",
       "    }\n",
       "\n",
       "    .dataframe tbody tr th {\n",
       "        vertical-align: top;\n",
       "    }\n",
       "\n",
       "    .dataframe thead th {\n",
       "        text-align: right;\n",
       "    }\n",
       "</style>\n",
       "<table border=\"1\" class=\"dataframe\">\n",
       "  <thead>\n",
       "    <tr style=\"text-align: right;\">\n",
       "      <th></th>\n",
       "      <th>Country</th>\n",
       "      <th>Population</th>\n",
       "      <th>Ranking</th>\n",
       "      <th>Test</th>\n",
       "      <th>New</th>\n",
       "      <th>Populate</th>\n",
       "    </tr>\n",
       "  </thead>\n",
       "  <tbody>\n",
       "    <tr>\n",
       "      <th>1</th>\n",
       "      <td>Pakistan</td>\n",
       "      <td>2.200000e+08</td>\n",
       "      <td>1</td>\n",
       "      <td>1</td>\n",
       "      <td>2.200000e+08</td>\n",
       "      <td>NaN</td>\n",
       "    </tr>\n",
       "    <tr>\n",
       "      <th>2</th>\n",
       "      <td>Afghanistan</td>\n",
       "      <td>9.000000e+08</td>\n",
       "      <td>3</td>\n",
       "      <td>3</td>\n",
       "      <td>9.000000e+08</td>\n",
       "      <td>NaN</td>\n",
       "    </tr>\n",
       "    <tr>\n",
       "      <th>3</th>\n",
       "      <td>Iran</td>\n",
       "      <td>9.200000e+08</td>\n",
       "      <td>4</td>\n",
       "      <td>4</td>\n",
       "      <td>9.200000e+08</td>\n",
       "      <td>NaN</td>\n",
       "    </tr>\n",
       "    <tr>\n",
       "      <th>4</th>\n",
       "      <td>Saudia</td>\n",
       "      <td>2.240000e+09</td>\n",
       "      <td>2</td>\n",
       "      <td>2</td>\n",
       "      <td>2.240000e+09</td>\n",
       "      <td>Saudia</td>\n",
       "    </tr>\n",
       "    <tr>\n",
       "      <th>5</th>\n",
       "      <td>Turkey</td>\n",
       "      <td>NaN</td>\n",
       "      <td>5</td>\n",
       "      <td>5</td>\n",
       "      <td>NaN</td>\n",
       "      <td>Turkey</td>\n",
       "    </tr>\n",
       "  </tbody>\n",
       "</table>\n",
       "</div>"
      ],
      "text/plain": [
       "       Country    Population  Ranking  Test           New Populate\n",
       "1     Pakistan  2.200000e+08        1     1  2.200000e+08      NaN\n",
       "2  Afghanistan  9.000000e+08        3     3  9.000000e+08      NaN\n",
       "3         Iran  9.200000e+08        4     4  9.200000e+08      NaN\n",
       "4       Saudia  2.240000e+09        2     2  2.240000e+09   Saudia\n",
       "5       Turkey           NaN        5     5           NaN   Turkey"
      ]
     },
     "execution_count": 120,
     "metadata": {},
     "output_type": "execute_result"
    }
   ],
   "source": [
    "# inset column at particular position\n",
    "df.insert(3, 'Test', df['Ranking'])\n",
    "df"
   ]
  },
  {
   "cell_type": "markdown",
   "metadata": {},
   "source": [
    "### 11.7. Row Selection, Addition, and Deletion"
   ]
  },
  {
   "cell_type": "markdown",
   "metadata": {},
   "source": [
    "* We can also perform followong operations on rows\n",
    "            \n",
    "                Selection\n",
    "                Addition\n",
    "                Deletion\n",
    "                "
   ]
  },
  {
   "cell_type": "code",
   "execution_count": 121,
   "metadata": {},
   "outputs": [
    {
     "data": {
      "text/plain": [
       "Country       Afghanistan\n",
       "Population          9e+08\n",
       "Ranking                 3\n",
       "Test                    3\n",
       "New                 9e+08\n",
       "Populate              NaN\n",
       "Name: 2, dtype: object"
      ]
     },
     "execution_count": 121,
     "metadata": {},
     "output_type": "execute_result"
    }
   ],
   "source": [
    "#Rows can be selected by passing row label to a loc function.\n",
    "df.loc[2]"
   ]
  },
  {
   "cell_type": "code",
   "execution_count": 127,
   "metadata": {},
   "outputs": [
    {
     "data": {
      "text/plain": [
       "Country          Iran\n",
       "Population    2.3e+08\n",
       "Name: 3, dtype: object"
      ]
     },
     "execution_count": 127,
     "metadata": {},
     "output_type": "execute_result"
    }
   ],
   "source": [
    "# Rows can be selected by passing integer location to an iloc function.\n",
    "df = pd.DataFrame(d)\n",
    "df.iloc[2]\n",
    "\n"
   ]
  },
  {
   "cell_type": "code",
   "execution_count": 128,
   "metadata": {},
   "outputs": [
    {
     "data": {
      "text/html": [
       "<div>\n",
       "<style scoped>\n",
       "    .dataframe tbody tr th:only-of-type {\n",
       "        vertical-align: middle;\n",
       "    }\n",
       "\n",
       "    .dataframe tbody tr th {\n",
       "        vertical-align: top;\n",
       "    }\n",
       "\n",
       "    .dataframe thead th {\n",
       "        text-align: right;\n",
       "    }\n",
       "</style>\n",
       "<table border=\"1\" class=\"dataframe\">\n",
       "  <thead>\n",
       "    <tr style=\"text-align: right;\">\n",
       "      <th></th>\n",
       "      <th>Country</th>\n",
       "      <th>Population</th>\n",
       "    </tr>\n",
       "  </thead>\n",
       "  <tbody>\n",
       "    <tr>\n",
       "      <th>3</th>\n",
       "      <td>Iran</td>\n",
       "      <td>2.300000e+08</td>\n",
       "    </tr>\n",
       "    <tr>\n",
       "      <th>4</th>\n",
       "      <td>Saudia</td>\n",
       "      <td>1.120000e+09</td>\n",
       "    </tr>\n",
       "  </tbody>\n",
       "</table>\n",
       "</div>"
      ],
      "text/plain": [
       "  Country    Population\n",
       "3    Iran  2.300000e+08\n",
       "4  Saudia  1.120000e+09"
      ]
     },
     "execution_count": 128,
     "metadata": {},
     "output_type": "execute_result"
    }
   ],
   "source": [
    "# multiple rows can be selected using slicing operator :\n",
    "df[2:4]"
   ]
  },
  {
   "cell_type": "code",
   "execution_count": 129,
   "metadata": {},
   "outputs": [
    {
     "data": {
      "text/html": [
       "<div>\n",
       "<style scoped>\n",
       "    .dataframe tbody tr th:only-of-type {\n",
       "        vertical-align: middle;\n",
       "    }\n",
       "\n",
       "    .dataframe tbody tr th {\n",
       "        vertical-align: top;\n",
       "    }\n",
       "\n",
       "    .dataframe thead th {\n",
       "        text-align: right;\n",
       "    }\n",
       "</style>\n",
       "<table border=\"1\" class=\"dataframe\">\n",
       "  <thead>\n",
       "    <tr style=\"text-align: right;\">\n",
       "      <th></th>\n",
       "      <th>Country</th>\n",
       "      <th>Population</th>\n",
       "    </tr>\n",
       "  </thead>\n",
       "  <tbody>\n",
       "    <tr>\n",
       "      <th>1</th>\n",
       "      <td>Pakistan</td>\n",
       "      <td>2.200000e+08</td>\n",
       "    </tr>\n",
       "    <tr>\n",
       "      <th>2</th>\n",
       "      <td>Afghanistan</td>\n",
       "      <td>3.000000e+08</td>\n",
       "    </tr>\n",
       "    <tr>\n",
       "      <th>3</th>\n",
       "      <td>Iran</td>\n",
       "      <td>2.300000e+08</td>\n",
       "    </tr>\n",
       "    <tr>\n",
       "      <th>4</th>\n",
       "      <td>Saudia</td>\n",
       "      <td>1.120000e+09</td>\n",
       "    </tr>\n",
       "  </tbody>\n",
       "</table>\n",
       "</div>"
      ],
      "text/plain": [
       "       Country    Population\n",
       "1     Pakistan  2.200000e+08\n",
       "2  Afghanistan  3.000000e+08\n",
       "3         Iran  2.300000e+08\n",
       "4       Saudia  1.120000e+09"
      ]
     },
     "execution_count": 129,
     "metadata": {},
     "output_type": "execute_result"
    }
   ],
   "source": [
    "df[:4]"
   ]
  },
  {
   "cell_type": "code",
   "execution_count": 134,
   "metadata": {},
   "outputs": [
    {
     "data": {
      "text/html": [
       "<div>\n",
       "<style scoped>\n",
       "    .dataframe tbody tr th:only-of-type {\n",
       "        vertical-align: middle;\n",
       "    }\n",
       "\n",
       "    .dataframe tbody tr th {\n",
       "        vertical-align: top;\n",
       "    }\n",
       "\n",
       "    .dataframe thead th {\n",
       "        text-align: right;\n",
       "    }\n",
       "</style>\n",
       "<table border=\"1\" class=\"dataframe\">\n",
       "  <thead>\n",
       "    <tr style=\"text-align: right;\">\n",
       "      <th></th>\n",
       "      <th>a</th>\n",
       "      <th>b</th>\n",
       "    </tr>\n",
       "  </thead>\n",
       "  <tbody>\n",
       "    <tr>\n",
       "      <th>0</th>\n",
       "      <td>1</td>\n",
       "      <td>2</td>\n",
       "    </tr>\n",
       "    <tr>\n",
       "      <th>1</th>\n",
       "      <td>3</td>\n",
       "      <td>4</td>\n",
       "    </tr>\n",
       "    <tr>\n",
       "      <th>0</th>\n",
       "      <td>5</td>\n",
       "      <td>6</td>\n",
       "    </tr>\n",
       "    <tr>\n",
       "      <th>1</th>\n",
       "      <td>7</td>\n",
       "      <td>8</td>\n",
       "    </tr>\n",
       "  </tbody>\n",
       "</table>\n",
       "</div>"
      ],
      "text/plain": [
       "   a  b\n",
       "0  1  2\n",
       "1  3  4\n",
       "0  5  6\n",
       "1  7  8"
      ]
     },
     "execution_count": 134,
     "metadata": {},
     "output_type": "execute_result"
    }
   ],
   "source": [
    "# Appending rows\n",
    "df = pd.DataFrame([[1, 2], [3, 4]], columns = ['a','b'])\n",
    "df2 = pd.DataFrame([[5, 6], [7, 8]], columns = ['a','b'])\n",
    "\n",
    "df = df.append(df2)\n",
    "df"
   ]
  },
  {
   "cell_type": "code",
   "execution_count": 150,
   "metadata": {},
   "outputs": [
    {
     "data": {
      "text/html": [
       "<div>\n",
       "<style scoped>\n",
       "    .dataframe tbody tr th:only-of-type {\n",
       "        vertical-align: middle;\n",
       "    }\n",
       "\n",
       "    .dataframe tbody tr th {\n",
       "        vertical-align: top;\n",
       "    }\n",
       "\n",
       "    .dataframe thead th {\n",
       "        text-align: right;\n",
       "    }\n",
       "</style>\n",
       "<table border=\"1\" class=\"dataframe\">\n",
       "  <thead>\n",
       "    <tr style=\"text-align: right;\">\n",
       "      <th></th>\n",
       "      <th>a</th>\n",
       "      <th>b</th>\n",
       "    </tr>\n",
       "  </thead>\n",
       "  <tbody>\n",
       "    <tr>\n",
       "      <th>1</th>\n",
       "      <td>3</td>\n",
       "      <td>4</td>\n",
       "    </tr>\n",
       "    <tr>\n",
       "      <th>1</th>\n",
       "      <td>7</td>\n",
       "      <td>8</td>\n",
       "    </tr>\n",
       "  </tbody>\n",
       "</table>\n",
       "</div>"
      ],
      "text/plain": [
       "   a  b\n",
       "1  3  4\n",
       "1  7  8"
      ]
     },
     "execution_count": 150,
     "metadata": {},
     "output_type": "execute_result"
    }
   ],
   "source": [
    "# Drop rows with label 0\n",
    "df = pd.DataFrame([[1, 2], [3, 4]], columns = ['a','b'])\n",
    "df2 = pd.DataFrame([[5, 6], [7, 8]], columns = ['a','b'])\n",
    "\n",
    "df = df.append(df2)\n",
    "df = df.drop(0)\n",
    "df"
   ]
  },
  {
   "cell_type": "markdown",
   "metadata": {},
   "source": [
    "### 11.8 Indexing / Selection "
   ]
  },
  {
   "cell_type": "markdown",
   "metadata": {},
   "source": [
    "* Row selection, for example, returns a Series whose index is the columns of the DataFrame:\n",
    "* Basic indexing are as follow\n",
    "\n",
    "<img src=\"image11.png\">"
   ]
  },
  {
   "cell_type": "code",
   "execution_count": 155,
   "metadata": {},
   "outputs": [
    {
     "data": {
      "text/plain": [
       "Country          Iran\n",
       "Population    2.3e+08\n",
       "Name: 3, dtype: object"
      ]
     },
     "execution_count": 155,
     "metadata": {},
     "output_type": "execute_result"
    }
   ],
   "source": [
    "\n",
    "import pandas as pd\n",
    "            import numpy as np\n",
    "            d1 = {\n",
    "                'Country' : pd.Series(['Pakistan','Afghanistan','Iran','Saudia','Turkey'], index=[1,2,3,4,5]),    \n",
    "                'Population' : pd.Series([220000000,300000000,230000000,1120000000], index=[1,2,3,4])    \n",
    "            } \n",
    "            \n",
    "            df=pd.DataFrame(d1)\n",
    "            df.loc[3]"
   ]
  },
  {
   "cell_type": "code",
   "execution_count": 162,
   "metadata": {},
   "outputs": [
    {
     "data": {
      "text/plain": [
       "Country       Turkey\n",
       "Population       NaN\n",
       "Name: 5, dtype: object"
      ]
     },
     "execution_count": 162,
     "metadata": {},
     "output_type": "execute_result"
    }
   ],
   "source": [
    "            df.iloc[4]"
   ]
  },
  {
   "cell_type": "code",
   "execution_count": 159,
   "metadata": {},
   "outputs": [
    {
     "data": {
      "text/html": [
       "<div>\n",
       "<style scoped>\n",
       "    .dataframe tbody tr th:only-of-type {\n",
       "        vertical-align: middle;\n",
       "    }\n",
       "\n",
       "    .dataframe tbody tr th {\n",
       "        vertical-align: top;\n",
       "    }\n",
       "\n",
       "    .dataframe thead th {\n",
       "        text-align: right;\n",
       "    }\n",
       "</style>\n",
       "<table border=\"1\" class=\"dataframe\">\n",
       "  <thead>\n",
       "    <tr style=\"text-align: right;\">\n",
       "      <th></th>\n",
       "      <th>Country</th>\n",
       "      <th>Population</th>\n",
       "    </tr>\n",
       "  </thead>\n",
       "  <tbody>\n",
       "    <tr>\n",
       "      <th>2</th>\n",
       "      <td>Afghanistan</td>\n",
       "      <td>3.000000e+08</td>\n",
       "    </tr>\n",
       "    <tr>\n",
       "      <th>3</th>\n",
       "      <td>Iran</td>\n",
       "      <td>2.300000e+08</td>\n",
       "    </tr>\n",
       "    <tr>\n",
       "      <th>4</th>\n",
       "      <td>Saudia</td>\n",
       "      <td>1.120000e+09</td>\n",
       "    </tr>\n",
       "  </tbody>\n",
       "</table>\n",
       "</div>"
      ],
      "text/plain": [
       "       Country    Population\n",
       "2  Afghanistan  3.000000e+08\n",
       "3         Iran  2.300000e+08\n",
       "4       Saudia  1.120000e+09"
      ]
     },
     "execution_count": 159,
     "metadata": {},
     "output_type": "execute_result"
    }
   ],
   "source": [
    "            df[1:4]"
   ]
  },
  {
   "cell_type": "code",
   "execution_count": 160,
   "metadata": {},
   "outputs": [
    {
     "data": {
      "text/html": [
       "<div>\n",
       "<style scoped>\n",
       "    .dataframe tbody tr th:only-of-type {\n",
       "        vertical-align: middle;\n",
       "    }\n",
       "\n",
       "    .dataframe tbody tr th {\n",
       "        vertical-align: top;\n",
       "    }\n",
       "\n",
       "    .dataframe thead th {\n",
       "        text-align: right;\n",
       "    }\n",
       "</style>\n",
       "<table border=\"1\" class=\"dataframe\">\n",
       "  <thead>\n",
       "    <tr style=\"text-align: right;\">\n",
       "      <th></th>\n",
       "      <th>Country</th>\n",
       "      <th>Population</th>\n",
       "    </tr>\n",
       "  </thead>\n",
       "  <tbody>\n",
       "    <tr>\n",
       "      <th>4</th>\n",
       "      <td>Saudia</td>\n",
       "      <td>1.120000e+09</td>\n",
       "    </tr>\n",
       "    <tr>\n",
       "      <th>5</th>\n",
       "      <td>Turkey</td>\n",
       "      <td>NaN</td>\n",
       "    </tr>\n",
       "  </tbody>\n",
       "</table>\n",
       "</div>"
      ],
      "text/plain": [
       "  Country    Population\n",
       "4  Saudia  1.120000e+09\n",
       "5  Turkey           NaN"
      ]
     },
     "execution_count": 160,
     "metadata": {},
     "output_type": "execute_result"
    }
   ],
   "source": [
    "            df[3:]"
   ]
  },
  {
   "cell_type": "markdown",
   "metadata": {},
   "source": [
    "### 11.9 Data alignment and arithmetic "
   ]
  },
  {
   "cell_type": "markdown",
   "metadata": {},
   "source": [
    "* Data alignment between DataFrame objects automatically align on both the columns and the index (row labels).\n",
    "* Again, the resulting object will have the union of the column and row labels"
   ]
  },
  {
   "cell_type": "code",
   "execution_count": 12,
   "metadata": {},
   "outputs": [],
   "source": [
    "import pandas as pd\n",
    "import numpy as np"
   ]
  },
  {
   "cell_type": "code",
   "execution_count": 18,
   "metadata": {},
   "outputs": [
    {
     "data": {
      "text/html": [
       "<div>\n",
       "<style scoped>\n",
       "    .dataframe tbody tr th:only-of-type {\n",
       "        vertical-align: middle;\n",
       "    }\n",
       "\n",
       "    .dataframe tbody tr th {\n",
       "        vertical-align: top;\n",
       "    }\n",
       "\n",
       "    .dataframe thead th {\n",
       "        text-align: right;\n",
       "    }\n",
       "</style>\n",
       "<table border=\"1\" class=\"dataframe\">\n",
       "  <thead>\n",
       "    <tr style=\"text-align: right;\">\n",
       "      <th></th>\n",
       "      <th>A</th>\n",
       "      <th>B</th>\n",
       "      <th>C</th>\n",
       "      <th>D</th>\n",
       "    </tr>\n",
       "  </thead>\n",
       "  <tbody>\n",
       "    <tr>\n",
       "      <th>0</th>\n",
       "      <td>-3.137594</td>\n",
       "      <td>-1.330863</td>\n",
       "      <td>1.519771</td>\n",
       "      <td>NaN</td>\n",
       "    </tr>\n",
       "    <tr>\n",
       "      <th>1</th>\n",
       "      <td>2.502827</td>\n",
       "      <td>0.146704</td>\n",
       "      <td>-0.694219</td>\n",
       "      <td>NaN</td>\n",
       "    </tr>\n",
       "    <tr>\n",
       "      <th>2</th>\n",
       "      <td>2.839812</td>\n",
       "      <td>-1.286170</td>\n",
       "      <td>0.845201</td>\n",
       "      <td>NaN</td>\n",
       "    </tr>\n",
       "    <tr>\n",
       "      <th>3</th>\n",
       "      <td>1.030850</td>\n",
       "      <td>-1.672526</td>\n",
       "      <td>1.546588</td>\n",
       "      <td>NaN</td>\n",
       "    </tr>\n",
       "    <tr>\n",
       "      <th>4</th>\n",
       "      <td>3.487300</td>\n",
       "      <td>-2.090674</td>\n",
       "      <td>-2.466920</td>\n",
       "      <td>NaN</td>\n",
       "    </tr>\n",
       "    <tr>\n",
       "      <th>5</th>\n",
       "      <td>0.247054</td>\n",
       "      <td>-0.473206</td>\n",
       "      <td>-0.736531</td>\n",
       "      <td>NaN</td>\n",
       "    </tr>\n",
       "    <tr>\n",
       "      <th>6</th>\n",
       "      <td>0.527707</td>\n",
       "      <td>-0.635002</td>\n",
       "      <td>-0.921714</td>\n",
       "      <td>NaN</td>\n",
       "    </tr>\n",
       "    <tr>\n",
       "      <th>7</th>\n",
       "      <td>NaN</td>\n",
       "      <td>NaN</td>\n",
       "      <td>NaN</td>\n",
       "      <td>NaN</td>\n",
       "    </tr>\n",
       "    <tr>\n",
       "      <th>8</th>\n",
       "      <td>NaN</td>\n",
       "      <td>NaN</td>\n",
       "      <td>NaN</td>\n",
       "      <td>NaN</td>\n",
       "    </tr>\n",
       "    <tr>\n",
       "      <th>9</th>\n",
       "      <td>NaN</td>\n",
       "      <td>NaN</td>\n",
       "      <td>NaN</td>\n",
       "      <td>NaN</td>\n",
       "    </tr>\n",
       "  </tbody>\n",
       "</table>\n",
       "</div>"
      ],
      "text/plain": [
       "          A         B         C   D\n",
       "0 -3.137594 -1.330863  1.519771 NaN\n",
       "1  2.502827  0.146704 -0.694219 NaN\n",
       "2  2.839812 -1.286170  0.845201 NaN\n",
       "3  1.030850 -1.672526  1.546588 NaN\n",
       "4  3.487300 -2.090674 -2.466920 NaN\n",
       "5  0.247054 -0.473206 -0.736531 NaN\n",
       "6  0.527707 -0.635002 -0.921714 NaN\n",
       "7       NaN       NaN       NaN NaN\n",
       "8       NaN       NaN       NaN NaN\n",
       "9       NaN       NaN       NaN NaN"
      ]
     },
     "execution_count": 18,
     "metadata": {},
     "output_type": "execute_result"
    }
   ],
   "source": [
    "            df = pd.DataFrame(np.random.randn(10, 4), columns=['A', 'B', 'C', 'D'])\n",
    "            df2 = pd.DataFrame(np.random.randn(7, 3), columns=['A', 'B', 'C'])\n",
    "            df+df2"
   ]
  },
  {
   "cell_type": "code",
   "execution_count": 20,
   "metadata": {},
   "outputs": [
    {
     "data": {
      "text/html": [
       "<div>\n",
       "<style scoped>\n",
       "    .dataframe tbody tr th:only-of-type {\n",
       "        vertical-align: middle;\n",
       "    }\n",
       "\n",
       "    .dataframe tbody tr th {\n",
       "        vertical-align: top;\n",
       "    }\n",
       "\n",
       "    .dataframe thead th {\n",
       "        text-align: right;\n",
       "    }\n",
       "</style>\n",
       "<table border=\"1\" class=\"dataframe\">\n",
       "  <thead>\n",
       "    <tr style=\"text-align: right;\">\n",
       "      <th></th>\n",
       "      <th>a</th>\n",
       "      <th>b</th>\n",
       "      <th>c</th>\n",
       "    </tr>\n",
       "  </thead>\n",
       "  <tbody>\n",
       "    <tr>\n",
       "      <th>0</th>\n",
       "      <td>6</td>\n",
       "      <td>8</td>\n",
       "      <td>NaN</td>\n",
       "    </tr>\n",
       "    <tr>\n",
       "      <th>1</th>\n",
       "      <td>10</td>\n",
       "      <td>12</td>\n",
       "      <td>NaN</td>\n",
       "    </tr>\n",
       "  </tbody>\n",
       "</table>\n",
       "</div>"
      ],
      "text/plain": [
       "    a   b   c\n",
       "0   6   8 NaN\n",
       "1  10  12 NaN"
      ]
     },
     "execution_count": 20,
     "metadata": {},
     "output_type": "execute_result"
    }
   ],
   "source": [
    "            df = pd.DataFrame([[1, 2,12], [3, 4,5]], columns = ['a','b','c'])\n",
    "            df2 = pd.DataFrame([[5, 6], [7, 8]], columns = ['a','b'])\n",
    "            df+df2"
   ]
  },
  {
   "cell_type": "code",
   "execution_count": 30,
   "metadata": {},
   "outputs": [
    {
     "data": {
      "text/html": [
       "<div>\n",
       "<style scoped>\n",
       "    .dataframe tbody tr th:only-of-type {\n",
       "        vertical-align: middle;\n",
       "    }\n",
       "\n",
       "    .dataframe tbody tr th {\n",
       "        vertical-align: top;\n",
       "    }\n",
       "\n",
       "    .dataframe thead th {\n",
       "        text-align: right;\n",
       "    }\n",
       "</style>\n",
       "<table border=\"1\" class=\"dataframe\">\n",
       "  <thead>\n",
       "    <tr style=\"text-align: right;\">\n",
       "      <th></th>\n",
       "      <th>A</th>\n",
       "      <th>B</th>\n",
       "      <th>C</th>\n",
       "      <th>D</th>\n",
       "    </tr>\n",
       "  </thead>\n",
       "  <tbody>\n",
       "    <tr>\n",
       "      <th>0</th>\n",
       "      <td>1.132605</td>\n",
       "      <td>0.600413</td>\n",
       "      <td>0.966921</td>\n",
       "      <td>NaN</td>\n",
       "    </tr>\n",
       "    <tr>\n",
       "      <th>1</th>\n",
       "      <td>-1.358268</td>\n",
       "      <td>-0.824680</td>\n",
       "      <td>-0.756372</td>\n",
       "      <td>NaN</td>\n",
       "    </tr>\n",
       "    <tr>\n",
       "      <th>2</th>\n",
       "      <td>-0.007583</td>\n",
       "      <td>-3.300363</td>\n",
       "      <td>-0.567649</td>\n",
       "      <td>NaN</td>\n",
       "    </tr>\n",
       "    <tr>\n",
       "      <th>3</th>\n",
       "      <td>-2.665667</td>\n",
       "      <td>0.805339</td>\n",
       "      <td>-0.846012</td>\n",
       "      <td>NaN</td>\n",
       "    </tr>\n",
       "    <tr>\n",
       "      <th>4</th>\n",
       "      <td>1.156127</td>\n",
       "      <td>0.911009</td>\n",
       "      <td>0.810051</td>\n",
       "      <td>NaN</td>\n",
       "    </tr>\n",
       "    <tr>\n",
       "      <th>5</th>\n",
       "      <td>-1.920775</td>\n",
       "      <td>1.025162</td>\n",
       "      <td>-0.950633</td>\n",
       "      <td>NaN</td>\n",
       "    </tr>\n",
       "    <tr>\n",
       "      <th>6</th>\n",
       "      <td>-1.765272</td>\n",
       "      <td>0.289123</td>\n",
       "      <td>-2.044669</td>\n",
       "      <td>NaN</td>\n",
       "    </tr>\n",
       "    <tr>\n",
       "      <th>7</th>\n",
       "      <td>1.163973</td>\n",
       "      <td>0.082579</td>\n",
       "      <td>0.431350</td>\n",
       "      <td>NaN</td>\n",
       "    </tr>\n",
       "    <tr>\n",
       "      <th>8</th>\n",
       "      <td>1.516732</td>\n",
       "      <td>-1.405450</td>\n",
       "      <td>1.236736</td>\n",
       "      <td>NaN</td>\n",
       "    </tr>\n",
       "    <tr>\n",
       "      <th>9</th>\n",
       "      <td>-0.957546</td>\n",
       "      <td>-1.199114</td>\n",
       "      <td>2.318394</td>\n",
       "      <td>NaN</td>\n",
       "    </tr>\n",
       "    <tr>\n",
       "      <th>10</th>\n",
       "      <td>-0.648246</td>\n",
       "      <td>-0.877498</td>\n",
       "      <td>2.365698</td>\n",
       "      <td>NaN</td>\n",
       "    </tr>\n",
       "    <tr>\n",
       "      <th>11</th>\n",
       "      <td>-0.448516</td>\n",
       "      <td>0.716052</td>\n",
       "      <td>1.816975</td>\n",
       "      <td>NaN</td>\n",
       "    </tr>\n",
       "    <tr>\n",
       "      <th>12</th>\n",
       "      <td>NaN</td>\n",
       "      <td>NaN</td>\n",
       "      <td>NaN</td>\n",
       "      <td>NaN</td>\n",
       "    </tr>\n",
       "    <tr>\n",
       "      <th>13</th>\n",
       "      <td>NaN</td>\n",
       "      <td>NaN</td>\n",
       "      <td>NaN</td>\n",
       "      <td>NaN</td>\n",
       "    </tr>\n",
       "    <tr>\n",
       "      <th>14</th>\n",
       "      <td>NaN</td>\n",
       "      <td>NaN</td>\n",
       "      <td>NaN</td>\n",
       "      <td>NaN</td>\n",
       "    </tr>\n",
       "  </tbody>\n",
       "</table>\n",
       "</div>"
      ],
      "text/plain": [
       "           A         B         C   D\n",
       "0   1.132605  0.600413  0.966921 NaN\n",
       "1  -1.358268 -0.824680 -0.756372 NaN\n",
       "2  -0.007583 -3.300363 -0.567649 NaN\n",
       "3  -2.665667  0.805339 -0.846012 NaN\n",
       "4   1.156127  0.911009  0.810051 NaN\n",
       "5  -1.920775  1.025162 -0.950633 NaN\n",
       "6  -1.765272  0.289123 -2.044669 NaN\n",
       "7   1.163973  0.082579  0.431350 NaN\n",
       "8   1.516732 -1.405450  1.236736 NaN\n",
       "9  -0.957546 -1.199114  2.318394 NaN\n",
       "10 -0.648246 -0.877498  2.365698 NaN\n",
       "11 -0.448516  0.716052  1.816975 NaN\n",
       "12       NaN       NaN       NaN NaN\n",
       "13       NaN       NaN       NaN NaN\n",
       "14       NaN       NaN       NaN NaN"
      ]
     },
     "execution_count": 30,
     "metadata": {},
     "output_type": "execute_result"
    }
   ],
   "source": [
    "            df = pd.DataFrame(np.random.randn(15, 4), columns=['A', 'B', 'C', 'D'])\n",
    "            df2 = pd.DataFrame(np.random.randn(12, 3), columns=['A', 'B', 'C'])\n",
    "            df+df2"
   ]
  },
  {
   "cell_type": "code",
   "execution_count": 41,
   "metadata": {},
   "outputs": [
    {
     "data": {
      "text/html": [
       "<div>\n",
       "<style scoped>\n",
       "    .dataframe tbody tr th:only-of-type {\n",
       "        vertical-align: middle;\n",
       "    }\n",
       "\n",
       "    .dataframe tbody tr th {\n",
       "        vertical-align: top;\n",
       "    }\n",
       "\n",
       "    .dataframe thead th {\n",
       "        text-align: right;\n",
       "    }\n",
       "</style>\n",
       "<table border=\"1\" class=\"dataframe\">\n",
       "  <thead>\n",
       "    <tr style=\"text-align: right;\">\n",
       "      <th></th>\n",
       "      <th>A</th>\n",
       "      <th>B</th>\n",
       "      <th>C</th>\n",
       "      <th>D</th>\n",
       "    </tr>\n",
       "  </thead>\n",
       "  <tbody>\n",
       "    <tr>\n",
       "      <th>0</th>\n",
       "      <td>0.609726</td>\n",
       "      <td>-1.699829</td>\n",
       "      <td>-0.203226</td>\n",
       "      <td>NaN</td>\n",
       "    </tr>\n",
       "    <tr>\n",
       "      <th>1</th>\n",
       "      <td>0.466975</td>\n",
       "      <td>0.966766</td>\n",
       "      <td>0.587446</td>\n",
       "      <td>NaN</td>\n",
       "    </tr>\n",
       "    <tr>\n",
       "      <th>2</th>\n",
       "      <td>-0.267552</td>\n",
       "      <td>1.317713</td>\n",
       "      <td>2.916945</td>\n",
       "      <td>NaN</td>\n",
       "    </tr>\n",
       "    <tr>\n",
       "      <th>3</th>\n",
       "      <td>-1.118670</td>\n",
       "      <td>0.158354</td>\n",
       "      <td>2.448717</td>\n",
       "      <td>NaN</td>\n",
       "    </tr>\n",
       "    <tr>\n",
       "      <th>4</th>\n",
       "      <td>2.551752</td>\n",
       "      <td>-2.410683</td>\n",
       "      <td>2.261066</td>\n",
       "      <td>NaN</td>\n",
       "    </tr>\n",
       "    <tr>\n",
       "      <th>5</th>\n",
       "      <td>1.446704</td>\n",
       "      <td>-0.807515</td>\n",
       "      <td>0.576831</td>\n",
       "      <td>NaN</td>\n",
       "    </tr>\n",
       "    <tr>\n",
       "      <th>6</th>\n",
       "      <td>-1.252395</td>\n",
       "      <td>1.552488</td>\n",
       "      <td>-1.074472</td>\n",
       "      <td>NaN</td>\n",
       "    </tr>\n",
       "    <tr>\n",
       "      <th>7</th>\n",
       "      <td>1.872534</td>\n",
       "      <td>2.246399</td>\n",
       "      <td>3.518105</td>\n",
       "      <td>NaN</td>\n",
       "    </tr>\n",
       "    <tr>\n",
       "      <th>8</th>\n",
       "      <td>NaN</td>\n",
       "      <td>NaN</td>\n",
       "      <td>NaN</td>\n",
       "      <td>NaN</td>\n",
       "    </tr>\n",
       "  </tbody>\n",
       "</table>\n",
       "</div>"
      ],
      "text/plain": [
       "          A         B         C   D\n",
       "0  0.609726 -1.699829 -0.203226 NaN\n",
       "1  0.466975  0.966766  0.587446 NaN\n",
       "2 -0.267552  1.317713  2.916945 NaN\n",
       "3 -1.118670  0.158354  2.448717 NaN\n",
       "4  2.551752 -2.410683  2.261066 NaN\n",
       "5  1.446704 -0.807515  0.576831 NaN\n",
       "6 -1.252395  1.552488 -1.074472 NaN\n",
       "7  1.872534  2.246399  3.518105 NaN\n",
       "8       NaN       NaN       NaN NaN"
      ]
     },
     "execution_count": 41,
     "metadata": {},
     "output_type": "execute_result"
    }
   ],
   "source": [
    "            df = pd.DataFrame(np.random.randn(5, 4), columns=['A', 'B', 'C', 'D'])\n",
    "            df2 = pd.DataFrame(np.random.randn(8, 3), columns=['A', 'B', 'C'])\n",
    "            df+df2"
   ]
  },
  {
   "cell_type": "markdown",
   "metadata": {},
   "source": [
    "* when doing an operation between DataFrame and Series, the default behavior is to align the Series index on the DataFrame columns, thus broadcasting row-wise."
   ]
  },
  {
   "cell_type": "code",
   "execution_count": 44,
   "metadata": {},
   "outputs": [
    {
     "data": {
      "text/html": [
       "<div>\n",
       "<style scoped>\n",
       "    .dataframe tbody tr th:only-of-type {\n",
       "        vertical-align: middle;\n",
       "    }\n",
       "\n",
       "    .dataframe tbody tr th {\n",
       "        vertical-align: top;\n",
       "    }\n",
       "\n",
       "    .dataframe thead th {\n",
       "        text-align: right;\n",
       "    }\n",
       "</style>\n",
       "<table border=\"1\" class=\"dataframe\">\n",
       "  <thead>\n",
       "    <tr style=\"text-align: right;\">\n",
       "      <th></th>\n",
       "      <th>A</th>\n",
       "      <th>B</th>\n",
       "      <th>C</th>\n",
       "      <th>D</th>\n",
       "    </tr>\n",
       "  </thead>\n",
       "  <tbody>\n",
       "    <tr>\n",
       "      <th>0</th>\n",
       "      <td>-2.846796</td>\n",
       "      <td>0.604873</td>\n",
       "      <td>0.097995</td>\n",
       "      <td>2.456236</td>\n",
       "    </tr>\n",
       "    <tr>\n",
       "      <th>1</th>\n",
       "      <td>-3.072377</td>\n",
       "      <td>2.921180</td>\n",
       "      <td>0.993911</td>\n",
       "      <td>2.055733</td>\n",
       "    </tr>\n",
       "    <tr>\n",
       "      <th>2</th>\n",
       "      <td>-1.842660</td>\n",
       "      <td>2.313930</td>\n",
       "      <td>1.897424</td>\n",
       "      <td>1.051044</td>\n",
       "    </tr>\n",
       "    <tr>\n",
       "      <th>3</th>\n",
       "      <td>-1.891378</td>\n",
       "      <td>1.311931</td>\n",
       "      <td>1.016807</td>\n",
       "      <td>2.931201</td>\n",
       "    </tr>\n",
       "    <tr>\n",
       "      <th>4</th>\n",
       "      <td>0.000000</td>\n",
       "      <td>0.000000</td>\n",
       "      <td>0.000000</td>\n",
       "      <td>0.000000</td>\n",
       "    </tr>\n",
       "    <tr>\n",
       "      <th>5</th>\n",
       "      <td>-2.519660</td>\n",
       "      <td>0.469201</td>\n",
       "      <td>0.337175</td>\n",
       "      <td>2.159540</td>\n",
       "    </tr>\n",
       "    <tr>\n",
       "      <th>6</th>\n",
       "      <td>-5.430880</td>\n",
       "      <td>2.953710</td>\n",
       "      <td>0.447716</td>\n",
       "      <td>1.903906</td>\n",
       "    </tr>\n",
       "    <tr>\n",
       "      <th>7</th>\n",
       "      <td>-1.375381</td>\n",
       "      <td>3.389040</td>\n",
       "      <td>1.982614</td>\n",
       "      <td>0.727133</td>\n",
       "    </tr>\n",
       "    <tr>\n",
       "      <th>8</th>\n",
       "      <td>-3.492068</td>\n",
       "      <td>2.198879</td>\n",
       "      <td>0.589105</td>\n",
       "      <td>0.810441</td>\n",
       "    </tr>\n",
       "  </tbody>\n",
       "</table>\n",
       "</div>"
      ],
      "text/plain": [
       "          A         B         C         D\n",
       "0 -2.846796  0.604873  0.097995  2.456236\n",
       "1 -3.072377  2.921180  0.993911  2.055733\n",
       "2 -1.842660  2.313930  1.897424  1.051044\n",
       "3 -1.891378  1.311931  1.016807  2.931201\n",
       "4  0.000000  0.000000  0.000000  0.000000\n",
       "5 -2.519660  0.469201  0.337175  2.159540\n",
       "6 -5.430880  2.953710  0.447716  1.903906\n",
       "7 -1.375381  3.389040  1.982614  0.727133\n",
       "8 -3.492068  2.198879  0.589105  0.810441"
      ]
     },
     "execution_count": 44,
     "metadata": {},
     "output_type": "execute_result"
    }
   ],
   "source": [
    "df - df.iloc[4]"
   ]
  },
  {
   "cell_type": "code",
   "execution_count": 46,
   "metadata": {},
   "outputs": [
    {
     "data": {
      "text/html": [
       "<div>\n",
       "<style scoped>\n",
       "    .dataframe tbody tr th:only-of-type {\n",
       "        vertical-align: middle;\n",
       "    }\n",
       "\n",
       "    .dataframe tbody tr th {\n",
       "        vertical-align: top;\n",
       "    }\n",
       "\n",
       "    .dataframe thead th {\n",
       "        text-align: right;\n",
       "    }\n",
       "</style>\n",
       "<table border=\"1\" class=\"dataframe\">\n",
       "  <thead>\n",
       "    <tr style=\"text-align: right;\">\n",
       "      <th></th>\n",
       "      <th>A</th>\n",
       "      <th>B</th>\n",
       "      <th>C</th>\n",
       "      <th>D</th>\n",
       "    </tr>\n",
       "  </thead>\n",
       "  <tbody>\n",
       "    <tr>\n",
       "      <th>0</th>\n",
       "      <td>-1.004135</td>\n",
       "      <td>-1.709057</td>\n",
       "      <td>-1.799429</td>\n",
       "      <td>1.405192</td>\n",
       "    </tr>\n",
       "    <tr>\n",
       "      <th>1</th>\n",
       "      <td>-1.229717</td>\n",
       "      <td>0.607250</td>\n",
       "      <td>-0.903514</td>\n",
       "      <td>1.004689</td>\n",
       "    </tr>\n",
       "    <tr>\n",
       "      <th>2</th>\n",
       "      <td>0.000000</td>\n",
       "      <td>0.000000</td>\n",
       "      <td>0.000000</td>\n",
       "      <td>0.000000</td>\n",
       "    </tr>\n",
       "    <tr>\n",
       "      <th>3</th>\n",
       "      <td>-0.048718</td>\n",
       "      <td>-1.001999</td>\n",
       "      <td>-0.880618</td>\n",
       "      <td>1.880157</td>\n",
       "    </tr>\n",
       "    <tr>\n",
       "      <th>4</th>\n",
       "      <td>1.842660</td>\n",
       "      <td>-2.313930</td>\n",
       "      <td>-1.897424</td>\n",
       "      <td>-1.051044</td>\n",
       "    </tr>\n",
       "    <tr>\n",
       "      <th>5</th>\n",
       "      <td>-0.677000</td>\n",
       "      <td>-1.844728</td>\n",
       "      <td>-1.560249</td>\n",
       "      <td>1.108496</td>\n",
       "    </tr>\n",
       "    <tr>\n",
       "      <th>6</th>\n",
       "      <td>-3.588220</td>\n",
       "      <td>0.639780</td>\n",
       "      <td>-1.449708</td>\n",
       "      <td>0.852862</td>\n",
       "    </tr>\n",
       "    <tr>\n",
       "      <th>7</th>\n",
       "      <td>0.467279</td>\n",
       "      <td>1.075111</td>\n",
       "      <td>0.085190</td>\n",
       "      <td>-0.323910</td>\n",
       "    </tr>\n",
       "    <tr>\n",
       "      <th>8</th>\n",
       "      <td>-1.649408</td>\n",
       "      <td>-0.115051</td>\n",
       "      <td>-1.308320</td>\n",
       "      <td>-0.240602</td>\n",
       "    </tr>\n",
       "  </tbody>\n",
       "</table>\n",
       "</div>"
      ],
      "text/plain": [
       "          A         B         C         D\n",
       "0 -1.004135 -1.709057 -1.799429  1.405192\n",
       "1 -1.229717  0.607250 -0.903514  1.004689\n",
       "2  0.000000  0.000000  0.000000  0.000000\n",
       "3 -0.048718 -1.001999 -0.880618  1.880157\n",
       "4  1.842660 -2.313930 -1.897424 -1.051044\n",
       "5 -0.677000 -1.844728 -1.560249  1.108496\n",
       "6 -3.588220  0.639780 -1.449708  0.852862\n",
       "7  0.467279  1.075111  0.085190 -0.323910\n",
       "8 -1.649408 -0.115051 -1.308320 -0.240602"
      ]
     },
     "execution_count": 46,
     "metadata": {},
     "output_type": "execute_result"
    }
   ],
   "source": [
    "df - df.loc[2]"
   ]
  },
  {
   "cell_type": "code",
   "execution_count": 47,
   "metadata": {},
   "outputs": [
    {
     "data": {
      "text/html": [
       "<div>\n",
       "<style scoped>\n",
       "    .dataframe tbody tr th:only-of-type {\n",
       "        vertical-align: middle;\n",
       "    }\n",
       "\n",
       "    .dataframe tbody tr th {\n",
       "        vertical-align: top;\n",
       "    }\n",
       "\n",
       "    .dataframe thead th {\n",
       "        text-align: right;\n",
       "    }\n",
       "</style>\n",
       "<table border=\"1\" class=\"dataframe\">\n",
       "  <thead>\n",
       "    <tr style=\"text-align: right;\">\n",
       "      <th></th>\n",
       "      <th>A</th>\n",
       "      <th>B</th>\n",
       "      <th>C</th>\n",
       "      <th>D</th>\n",
       "    </tr>\n",
       "  </thead>\n",
       "  <tbody>\n",
       "    <tr>\n",
       "      <th>0</th>\n",
       "      <td>-7.643170</td>\n",
       "      <td>-31.232636</td>\n",
       "      <td>8.961250</td>\n",
       "      <td>32.423670</td>\n",
       "    </tr>\n",
       "    <tr>\n",
       "      <th>1</th>\n",
       "      <td>-14.636193</td>\n",
       "      <td>40.572883</td>\n",
       "      <td>36.734617</td>\n",
       "      <td>20.008058</td>\n",
       "    </tr>\n",
       "    <tr>\n",
       "      <th>2</th>\n",
       "      <td>23.485029</td>\n",
       "      <td>21.748127</td>\n",
       "      <td>64.743545</td>\n",
       "      <td>-11.137292</td>\n",
       "    </tr>\n",
       "    <tr>\n",
       "      <th>3</th>\n",
       "      <td>21.974786</td>\n",
       "      <td>-9.313838</td>\n",
       "      <td>37.444399</td>\n",
       "      <td>47.147575</td>\n",
       "    </tr>\n",
       "    <tr>\n",
       "      <th>4</th>\n",
       "      <td>80.607495</td>\n",
       "      <td>-49.983690</td>\n",
       "      <td>5.923390</td>\n",
       "      <td>-43.719655</td>\n",
       "    </tr>\n",
       "    <tr>\n",
       "      <th>5</th>\n",
       "      <td>2.498044</td>\n",
       "      <td>-35.438452</td>\n",
       "      <td>16.375824</td>\n",
       "      <td>23.226099</td>\n",
       "    </tr>\n",
       "    <tr>\n",
       "      <th>6</th>\n",
       "      <td>-87.749786</td>\n",
       "      <td>41.581322</td>\n",
       "      <td>19.802593</td>\n",
       "      <td>15.301441</td>\n",
       "    </tr>\n",
       "    <tr>\n",
       "      <th>7</th>\n",
       "      <td>37.970690</td>\n",
       "      <td>55.076559</td>\n",
       "      <td>67.384432</td>\n",
       "      <td>-21.178518</td>\n",
       "    </tr>\n",
       "    <tr>\n",
       "      <th>8</th>\n",
       "      <td>-27.646626</td>\n",
       "      <td>18.181554</td>\n",
       "      <td>24.185638</td>\n",
       "      <td>-18.595969</td>\n",
       "    </tr>\n",
       "  </tbody>\n",
       "</table>\n",
       "</div>"
      ],
      "text/plain": [
       "           A          B          C          D\n",
       "0  -7.643170 -31.232636   8.961250  32.423670\n",
       "1 -14.636193  40.572883  36.734617  20.008058\n",
       "2  23.485029  21.748127  64.743545 -11.137292\n",
       "3  21.974786  -9.313838  37.444399  47.147575\n",
       "4  80.607495 -49.983690   5.923390 -43.719655\n",
       "5   2.498044 -35.438452  16.375824  23.226099\n",
       "6 -87.749786  41.581322  19.802593  15.301441\n",
       "7  37.970690  55.076559  67.384432 -21.178518\n",
       "8 -27.646626  18.181554  24.185638 -18.595969"
      ]
     },
     "execution_count": 47,
     "metadata": {},
     "output_type": "execute_result"
    }
   ],
   "source": [
    "df*31+3"
   ]
  },
  {
   "cell_type": "code",
   "execution_count": 48,
   "metadata": {},
   "outputs": [
    {
     "data": {
      "text/html": [
       "<div>\n",
       "<style scoped>\n",
       "    .dataframe tbody tr th:only-of-type {\n",
       "        vertical-align: middle;\n",
       "    }\n",
       "\n",
       "    .dataframe tbody tr th {\n",
       "        vertical-align: top;\n",
       "    }\n",
       "\n",
       "    .dataframe thead th {\n",
       "        text-align: right;\n",
       "    }\n",
       "</style>\n",
       "<table border=\"1\" class=\"dataframe\">\n",
       "  <thead>\n",
       "    <tr style=\"text-align: right;\">\n",
       "      <th></th>\n",
       "      <th>A</th>\n",
       "      <th>B</th>\n",
       "      <th>C</th>\n",
       "      <th>D</th>\n",
       "    </tr>\n",
       "  </thead>\n",
       "  <tbody>\n",
       "    <tr>\n",
       "      <th>0</th>\n",
       "      <td>-0.040470</td>\n",
       "      <td>-1.346592</td>\n",
       "      <td>0.007111</td>\n",
       "      <td>0.855077</td>\n",
       "    </tr>\n",
       "    <tr>\n",
       "      <th>1</th>\n",
       "      <td>-0.184132</td>\n",
       "      <td>1.780486</td>\n",
       "      <td>1.288672</td>\n",
       "      <td>0.165150</td>\n",
       "    </tr>\n",
       "    <tr>\n",
       "      <th>2</th>\n",
       "      <td>0.288552</td>\n",
       "      <td>0.221202</td>\n",
       "      <td>7.901137</td>\n",
       "      <td>-0.094845</td>\n",
       "    </tr>\n",
       "    <tr>\n",
       "      <th>3</th>\n",
       "      <td>0.229322</td>\n",
       "      <td>-0.062675</td>\n",
       "      <td>1.371737</td>\n",
       "      <td>2.888255</td>\n",
       "    </tr>\n",
       "    <tr>\n",
       "      <th>4</th>\n",
       "      <td>15.690107</td>\n",
       "      <td>-4.992770</td>\n",
       "      <td>0.000839</td>\n",
       "      <td>-3.423054</td>\n",
       "    </tr>\n",
       "    <tr>\n",
       "      <th>5</th>\n",
       "      <td>-0.000004</td>\n",
       "      <td>-1.906394</td>\n",
       "      <td>0.080330</td>\n",
       "      <td>0.277748</td>\n",
       "    </tr>\n",
       "    <tr>\n",
       "      <th>6</th>\n",
       "      <td>-25.087174</td>\n",
       "      <td>1.927730</td>\n",
       "      <td>0.159237</td>\n",
       "      <td>0.062486</td>\n",
       "    </tr>\n",
       "    <tr>\n",
       "      <th>7</th>\n",
       "      <td>1.435580</td>\n",
       "      <td>4.740692</td>\n",
       "      <td>8.958958</td>\n",
       "      <td>-0.474465</td>\n",
       "    </tr>\n",
       "    <tr>\n",
       "      <th>8</th>\n",
       "      <td>-0.966191</td>\n",
       "      <td>0.117453</td>\n",
       "      <td>0.319183</td>\n",
       "      <td>-0.338091</td>\n",
       "    </tr>\n",
       "  </tbody>\n",
       "</table>\n",
       "</div>"
      ],
      "text/plain": [
       "           A         B         C         D\n",
       "0  -0.040470 -1.346592  0.007111  0.855077\n",
       "1  -0.184132  1.780486  1.288672  0.165150\n",
       "2   0.288552  0.221202  7.901137 -0.094845\n",
       "3   0.229322 -0.062675  1.371737  2.888255\n",
       "4  15.690107 -4.992770  0.000839 -3.423054\n",
       "5  -0.000004 -1.906394  0.080330  0.277748\n",
       "6 -25.087174  1.927730  0.159237  0.062486\n",
       "7   1.435580  4.740692  8.958958 -0.474465\n",
       "8  -0.966191  0.117453  0.319183 -0.338091"
      ]
     },
     "execution_count": 48,
     "metadata": {},
     "output_type": "execute_result"
    }
   ],
   "source": [
    "df**3"
   ]
  },
  {
   "cell_type": "code",
   "execution_count": 53,
   "metadata": {},
   "outputs": [
    {
     "data": {
      "text/html": [
       "<div>\n",
       "<style scoped>\n",
       "    .dataframe tbody tr th:only-of-type {\n",
       "        vertical-align: middle;\n",
       "    }\n",
       "\n",
       "    .dataframe tbody tr th {\n",
       "        vertical-align: top;\n",
       "    }\n",
       "\n",
       "    .dataframe thead th {\n",
       "        text-align: right;\n",
       "    }\n",
       "</style>\n",
       "<table border=\"1\" class=\"dataframe\">\n",
       "  <thead>\n",
       "    <tr style=\"text-align: right;\">\n",
       "      <th></th>\n",
       "      <th>A</th>\n",
       "      <th>B</th>\n",
       "      <th>C</th>\n",
       "      <th>D</th>\n",
       "    </tr>\n",
       "  </thead>\n",
       "  <tbody>\n",
       "    <tr>\n",
       "      <th>0</th>\n",
       "      <td>-0.031212</td>\n",
       "      <td>-0.100389</td>\n",
       "      <td>0.017482</td>\n",
       "      <td>0.086286</td>\n",
       "    </tr>\n",
       "    <tr>\n",
       "      <th>1</th>\n",
       "      <td>-0.051719</td>\n",
       "      <td>0.110184</td>\n",
       "      <td>0.098928</td>\n",
       "      <td>0.049877</td>\n",
       "    </tr>\n",
       "    <tr>\n",
       "      <th>2</th>\n",
       "      <td>0.060073</td>\n",
       "      <td>0.054980</td>\n",
       "      <td>0.181066</td>\n",
       "      <td>-0.041458</td>\n",
       "    </tr>\n",
       "    <tr>\n",
       "      <th>3</th>\n",
       "      <td>0.055645</td>\n",
       "      <td>-0.036111</td>\n",
       "      <td>0.101010</td>\n",
       "      <td>0.129465</td>\n",
       "    </tr>\n",
       "    <tr>\n",
       "      <th>4</th>\n",
       "      <td>0.227588</td>\n",
       "      <td>-0.155377</td>\n",
       "      <td>0.008573</td>\n",
       "      <td>-0.137008</td>\n",
       "    </tr>\n",
       "    <tr>\n",
       "      <th>5</th>\n",
       "      <td>-0.001472</td>\n",
       "      <td>-0.112723</td>\n",
       "      <td>0.039225</td>\n",
       "      <td>0.059314</td>\n",
       "    </tr>\n",
       "    <tr>\n",
       "      <th>6</th>\n",
       "      <td>-0.266128</td>\n",
       "      <td>0.113142</td>\n",
       "      <td>0.049274</td>\n",
       "      <td>0.036075</td>\n",
       "    </tr>\n",
       "    <tr>\n",
       "      <th>7</th>\n",
       "      <td>0.102553</td>\n",
       "      <td>0.152717</td>\n",
       "      <td>0.188811</td>\n",
       "      <td>-0.070905</td>\n",
       "    </tr>\n",
       "    <tr>\n",
       "      <th>8</th>\n",
       "      <td>-0.089873</td>\n",
       "      <td>0.044521</td>\n",
       "      <td>0.062128</td>\n",
       "      <td>-0.063331</td>\n",
       "    </tr>\n",
       "  </tbody>\n",
       "</table>\n",
       "</div>"
      ],
      "text/plain": [
       "          A         B         C         D\n",
       "0 -0.031212 -0.100389  0.017482  0.086286\n",
       "1 -0.051719  0.110184  0.098928  0.049877\n",
       "2  0.060073  0.054980  0.181066 -0.041458\n",
       "3  0.055645 -0.036111  0.101010  0.129465\n",
       "4  0.227588 -0.155377  0.008573 -0.137008\n",
       "5 -0.001472 -0.112723  0.039225  0.059314\n",
       "6 -0.266128  0.113142  0.049274  0.036075\n",
       "7  0.102553  0.152717  0.188811 -0.070905\n",
       "8 -0.089873  0.044521  0.062128 -0.063331"
      ]
     },
     "execution_count": 53,
     "metadata": {},
     "output_type": "execute_result"
    }
   ],
   "source": [
    "df*3/33"
   ]
  },
  {
   "cell_type": "code",
   "execution_count": 54,
   "metadata": {},
   "outputs": [
    {
     "data": {
      "text/html": [
       "<div>\n",
       "<style scoped>\n",
       "    .dataframe tbody tr th:only-of-type {\n",
       "        vertical-align: middle;\n",
       "    }\n",
       "\n",
       "    .dataframe tbody tr th {\n",
       "        vertical-align: top;\n",
       "    }\n",
       "\n",
       "    .dataframe thead th {\n",
       "        text-align: right;\n",
       "    }\n",
       "</style>\n",
       "<table border=\"1\" class=\"dataframe\">\n",
       "  <thead>\n",
       "    <tr style=\"text-align: right;\">\n",
       "      <th></th>\n",
       "      <th>A</th>\n",
       "      <th>B</th>\n",
       "      <th>C</th>\n",
       "      <th>D</th>\n",
       "    </tr>\n",
       "  </thead>\n",
       "  <tbody>\n",
       "    <tr>\n",
       "      <th>0</th>\n",
       "      <td>-23.343328</td>\n",
       "      <td>-24.104279</td>\n",
       "      <td>-22.807702</td>\n",
       "      <td>-22.050849</td>\n",
       "    </tr>\n",
       "    <tr>\n",
       "      <th>1</th>\n",
       "      <td>-23.568909</td>\n",
       "      <td>-21.787972</td>\n",
       "      <td>-21.911787</td>\n",
       "      <td>-22.451353</td>\n",
       "    </tr>\n",
       "    <tr>\n",
       "      <th>2</th>\n",
       "      <td>-22.339193</td>\n",
       "      <td>-22.395222</td>\n",
       "      <td>-21.008273</td>\n",
       "      <td>-23.456042</td>\n",
       "    </tr>\n",
       "    <tr>\n",
       "      <th>3</th>\n",
       "      <td>-22.387910</td>\n",
       "      <td>-23.397221</td>\n",
       "      <td>-21.888890</td>\n",
       "      <td>-21.575885</td>\n",
       "    </tr>\n",
       "    <tr>\n",
       "      <th>4</th>\n",
       "      <td>-20.496532</td>\n",
       "      <td>-24.709151</td>\n",
       "      <td>-22.905697</td>\n",
       "      <td>-24.507086</td>\n",
       "    </tr>\n",
       "    <tr>\n",
       "      <th>5</th>\n",
       "      <td>-23.016192</td>\n",
       "      <td>-24.239950</td>\n",
       "      <td>-22.568522</td>\n",
       "      <td>-22.347545</td>\n",
       "    </tr>\n",
       "    <tr>\n",
       "      <th>6</th>\n",
       "      <td>-25.927412</td>\n",
       "      <td>-21.755441</td>\n",
       "      <td>-22.457981</td>\n",
       "      <td>-22.603179</td>\n",
       "    </tr>\n",
       "    <tr>\n",
       "      <th>7</th>\n",
       "      <td>-21.871913</td>\n",
       "      <td>-21.320111</td>\n",
       "      <td>-20.923083</td>\n",
       "      <td>-23.779952</td>\n",
       "    </tr>\n",
       "    <tr>\n",
       "      <th>8</th>\n",
       "      <td>-23.988601</td>\n",
       "      <td>-22.510272</td>\n",
       "      <td>-22.316592</td>\n",
       "      <td>-23.696644</td>\n",
       "    </tr>\n",
       "  </tbody>\n",
       "</table>\n",
       "</div>"
      ],
      "text/plain": [
       "           A          B          C          D\n",
       "0 -23.343328 -24.104279 -22.807702 -22.050849\n",
       "1 -23.568909 -21.787972 -21.911787 -22.451353\n",
       "2 -22.339193 -22.395222 -21.008273 -23.456042\n",
       "3 -22.387910 -23.397221 -21.888890 -21.575885\n",
       "4 -20.496532 -24.709151 -22.905697 -24.507086\n",
       "5 -23.016192 -24.239950 -22.568522 -22.347545\n",
       "6 -25.927412 -21.755441 -22.457981 -22.603179\n",
       "7 -21.871913 -21.320111 -20.923083 -23.779952\n",
       "8 -23.988601 -22.510272 -22.316592 -23.696644"
      ]
     },
     "execution_count": 54,
     "metadata": {},
     "output_type": "execute_result"
    }
   ],
   "source": [
    "df-23"
   ]
  },
  {
   "cell_type": "code",
   "execution_count": 55,
   "metadata": {},
   "outputs": [
    {
     "data": {
      "text/html": [
       "<div>\n",
       "<style scoped>\n",
       "    .dataframe tbody tr th:only-of-type {\n",
       "        vertical-align: middle;\n",
       "    }\n",
       "\n",
       "    .dataframe tbody tr th {\n",
       "        vertical-align: top;\n",
       "    }\n",
       "\n",
       "    .dataframe thead th {\n",
       "        text-align: right;\n",
       "    }\n",
       "</style>\n",
       "<table border=\"1\" class=\"dataframe\">\n",
       "  <thead>\n",
       "    <tr style=\"text-align: right;\">\n",
       "      <th></th>\n",
       "      <th>A</th>\n",
       "      <th>B</th>\n",
       "      <th>C</th>\n",
       "      <th>D</th>\n",
       "    </tr>\n",
       "  </thead>\n",
       "  <tbody>\n",
       "    <tr>\n",
       "      <th>0</th>\n",
       "      <td>2.656672</td>\n",
       "      <td>1.895721</td>\n",
       "      <td>0.192298</td>\n",
       "      <td>0.949151</td>\n",
       "    </tr>\n",
       "    <tr>\n",
       "      <th>1</th>\n",
       "      <td>2.431091</td>\n",
       "      <td>1.212028</td>\n",
       "      <td>1.088213</td>\n",
       "      <td>0.548647</td>\n",
       "    </tr>\n",
       "    <tr>\n",
       "      <th>2</th>\n",
       "      <td>0.660807</td>\n",
       "      <td>0.604778</td>\n",
       "      <td>1.991727</td>\n",
       "      <td>2.543958</td>\n",
       "    </tr>\n",
       "    <tr>\n",
       "      <th>3</th>\n",
       "      <td>0.612090</td>\n",
       "      <td>2.602779</td>\n",
       "      <td>1.111110</td>\n",
       "      <td>1.424115</td>\n",
       "    </tr>\n",
       "    <tr>\n",
       "      <th>4</th>\n",
       "      <td>2.503468</td>\n",
       "      <td>1.290849</td>\n",
       "      <td>0.094303</td>\n",
       "      <td>1.492914</td>\n",
       "    </tr>\n",
       "    <tr>\n",
       "      <th>5</th>\n",
       "      <td>2.983808</td>\n",
       "      <td>1.760050</td>\n",
       "      <td>0.431478</td>\n",
       "      <td>0.652455</td>\n",
       "    </tr>\n",
       "    <tr>\n",
       "      <th>6</th>\n",
       "      <td>0.072588</td>\n",
       "      <td>1.244559</td>\n",
       "      <td>0.542019</td>\n",
       "      <td>0.396821</td>\n",
       "    </tr>\n",
       "    <tr>\n",
       "      <th>7</th>\n",
       "      <td>1.128087</td>\n",
       "      <td>1.679889</td>\n",
       "      <td>2.076917</td>\n",
       "      <td>2.220048</td>\n",
       "    </tr>\n",
       "    <tr>\n",
       "      <th>8</th>\n",
       "      <td>2.011399</td>\n",
       "      <td>0.489728</td>\n",
       "      <td>0.683408</td>\n",
       "      <td>2.303356</td>\n",
       "    </tr>\n",
       "  </tbody>\n",
       "</table>\n",
       "</div>"
      ],
      "text/plain": [
       "          A         B         C         D\n",
       "0  2.656672  1.895721  0.192298  0.949151\n",
       "1  2.431091  1.212028  1.088213  0.548647\n",
       "2  0.660807  0.604778  1.991727  2.543958\n",
       "3  0.612090  2.602779  1.111110  1.424115\n",
       "4  2.503468  1.290849  0.094303  1.492914\n",
       "5  2.983808  1.760050  0.431478  0.652455\n",
       "6  0.072588  1.244559  0.542019  0.396821\n",
       "7  1.128087  1.679889  2.076917  2.220048\n",
       "8  2.011399  0.489728  0.683408  2.303356"
      ]
     },
     "execution_count": 55,
     "metadata": {},
     "output_type": "execute_result"
    }
   ],
   "source": [
    "df%3"
   ]
  },
  {
   "cell_type": "markdown",
   "metadata": {},
   "source": [
    "* In the special case of working with time series data, if the Series is a TimeSeries (which it will be automatically if the index contains datetime objects), and the DataFrame index also contains dates, the broadcasting will be column-wise"
   ]
  },
  {
   "cell_type": "code",
   "execution_count": 61,
   "metadata": {},
   "outputs": [
    {
     "data": {
      "text/html": [
       "<div>\n",
       "<style scoped>\n",
       "    .dataframe tbody tr th:only-of-type {\n",
       "        vertical-align: middle;\n",
       "    }\n",
       "\n",
       "    .dataframe tbody tr th {\n",
       "        vertical-align: top;\n",
       "    }\n",
       "\n",
       "    .dataframe thead th {\n",
       "        text-align: right;\n",
       "    }\n",
       "</style>\n",
       "<table border=\"1\" class=\"dataframe\">\n",
       "  <thead>\n",
       "    <tr style=\"text-align: right;\">\n",
       "      <th></th>\n",
       "      <th>A</th>\n",
       "      <th>B</th>\n",
       "      <th>C</th>\n",
       "    </tr>\n",
       "  </thead>\n",
       "  <tbody>\n",
       "    <tr>\n",
       "      <th>2000-01-01</th>\n",
       "      <td>3.080892</td>\n",
       "      <td>0.424692</td>\n",
       "      <td>1.645232</td>\n",
       "    </tr>\n",
       "    <tr>\n",
       "      <th>2000-01-02</th>\n",
       "      <td>1.084161</td>\n",
       "      <td>-0.525959</td>\n",
       "      <td>-0.152501</td>\n",
       "    </tr>\n",
       "    <tr>\n",
       "      <th>2000-01-03</th>\n",
       "      <td>0.042750</td>\n",
       "      <td>2.079533</td>\n",
       "      <td>-0.728150</td>\n",
       "    </tr>\n",
       "    <tr>\n",
       "      <th>2000-01-04</th>\n",
       "      <td>-0.245890</td>\n",
       "      <td>-0.397901</td>\n",
       "      <td>-0.536219</td>\n",
       "    </tr>\n",
       "    <tr>\n",
       "      <th>2000-01-05</th>\n",
       "      <td>1.161138</td>\n",
       "      <td>0.270663</td>\n",
       "      <td>1.121778</td>\n",
       "    </tr>\n",
       "    <tr>\n",
       "      <th>2000-01-06</th>\n",
       "      <td>0.057607</td>\n",
       "      <td>0.913704</td>\n",
       "      <td>-0.088229</td>\n",
       "    </tr>\n",
       "    <tr>\n",
       "      <th>2000-01-07</th>\n",
       "      <td>-0.844213</td>\n",
       "      <td>-0.717212</td>\n",
       "      <td>-0.717335</td>\n",
       "    </tr>\n",
       "    <tr>\n",
       "      <th>2000-01-08</th>\n",
       "      <td>0.337880</td>\n",
       "      <td>-2.030252</td>\n",
       "      <td>0.360102</td>\n",
       "    </tr>\n",
       "  </tbody>\n",
       "</table>\n",
       "</div>"
      ],
      "text/plain": [
       "                   A         B         C\n",
       "2000-01-01  3.080892  0.424692  1.645232\n",
       "2000-01-02  1.084161 -0.525959 -0.152501\n",
       "2000-01-03  0.042750  2.079533 -0.728150\n",
       "2000-01-04 -0.245890 -0.397901 -0.536219\n",
       "2000-01-05  1.161138  0.270663  1.121778\n",
       "2000-01-06  0.057607  0.913704 -0.088229\n",
       "2000-01-07 -0.844213 -0.717212 -0.717335\n",
       "2000-01-08  0.337880 -2.030252  0.360102"
      ]
     },
     "execution_count": 61,
     "metadata": {},
     "output_type": "execute_result"
    }
   ],
   "source": [
    "df = DataFrame(np.random.randn(8, 3), index=date_range('1/1/2000', periods=8), columns=list('ABC'))\n",
    "df"
   ]
  },
  {
   "cell_type": "code",
   "execution_count": 69,
   "metadata": {},
   "outputs": [
    {
     "data": {
      "text/html": [
       "<div>\n",
       "<style scoped>\n",
       "    .dataframe tbody tr th:only-of-type {\n",
       "        vertical-align: middle;\n",
       "    }\n",
       "\n",
       "    .dataframe tbody tr th {\n",
       "        vertical-align: top;\n",
       "    }\n",
       "\n",
       "    .dataframe thead th {\n",
       "        text-align: right;\n",
       "    }\n",
       "</style>\n",
       "<table border=\"1\" class=\"dataframe\">\n",
       "  <thead>\n",
       "    <tr style=\"text-align: right;\">\n",
       "      <th></th>\n",
       "      <th>A</th>\n",
       "      <th>B</th>\n",
       "      <th>C</th>\n",
       "    </tr>\n",
       "  </thead>\n",
       "  <tbody>\n",
       "    <tr>\n",
       "      <th>2018-12-12</th>\n",
       "      <td>-0.909984</td>\n",
       "      <td>0.208160</td>\n",
       "      <td>0.931912</td>\n",
       "    </tr>\n",
       "    <tr>\n",
       "      <th>2018-12-13</th>\n",
       "      <td>0.113421</td>\n",
       "      <td>0.971928</td>\n",
       "      <td>-0.685130</td>\n",
       "    </tr>\n",
       "    <tr>\n",
       "      <th>2018-12-14</th>\n",
       "      <td>-1.113824</td>\n",
       "      <td>-0.736116</td>\n",
       "      <td>-0.876918</td>\n",
       "    </tr>\n",
       "    <tr>\n",
       "      <th>2018-12-15</th>\n",
       "      <td>-0.545516</td>\n",
       "      <td>0.990318</td>\n",
       "      <td>1.228341</td>\n",
       "    </tr>\n",
       "    <tr>\n",
       "      <th>2018-12-16</th>\n",
       "      <td>0.961060</td>\n",
       "      <td>-0.399281</td>\n",
       "      <td>0.672322</td>\n",
       "    </tr>\n",
       "    <tr>\n",
       "      <th>2018-12-17</th>\n",
       "      <td>-2.292085</td>\n",
       "      <td>0.801723</td>\n",
       "      <td>-1.124244</td>\n",
       "    </tr>\n",
       "  </tbody>\n",
       "</table>\n",
       "</div>"
      ],
      "text/plain": [
       "                   A         B         C\n",
       "2018-12-12 -0.909984  0.208160  0.931912\n",
       "2018-12-13  0.113421  0.971928 -0.685130\n",
       "2018-12-14 -1.113824 -0.736116 -0.876918\n",
       "2018-12-15 -0.545516  0.990318  1.228341\n",
       "2018-12-16  0.961060 -0.399281  0.672322\n",
       "2018-12-17 -2.292085  0.801723 -1.124244"
      ]
     },
     "execution_count": 69,
     "metadata": {},
     "output_type": "execute_result"
    }
   ],
   "source": [
    "df = DataFrame(np.random.randn(6, 3), index=date_range('12/12/2018', periods=6), columns=list('ABC'))\n",
    "df"
   ]
  },
  {
   "cell_type": "code",
   "execution_count": 70,
   "metadata": {},
   "outputs": [
    {
     "data": {
      "text/plain": [
       "pandas.core.series.Series"
      ]
     },
     "execution_count": 70,
     "metadata": {},
     "output_type": "execute_result"
    }
   ],
   "source": [
    "type(df['A'])"
   ]
  },
  {
   "cell_type": "code",
   "execution_count": 71,
   "metadata": {},
   "outputs": [
    {
     "data": {
      "text/html": [
       "<div>\n",
       "<style scoped>\n",
       "    .dataframe tbody tr th:only-of-type {\n",
       "        vertical-align: middle;\n",
       "    }\n",
       "\n",
       "    .dataframe tbody tr th {\n",
       "        vertical-align: top;\n",
       "    }\n",
       "\n",
       "    .dataframe thead th {\n",
       "        text-align: right;\n",
       "    }\n",
       "</style>\n",
       "<table border=\"1\" class=\"dataframe\">\n",
       "  <thead>\n",
       "    <tr style=\"text-align: right;\">\n",
       "      <th></th>\n",
       "      <th>2018-12-12 00:00:00</th>\n",
       "      <th>2018-12-13 00:00:00</th>\n",
       "      <th>2018-12-14 00:00:00</th>\n",
       "      <th>2018-12-15 00:00:00</th>\n",
       "      <th>2018-12-16 00:00:00</th>\n",
       "      <th>2018-12-17 00:00:00</th>\n",
       "      <th>A</th>\n",
       "      <th>B</th>\n",
       "      <th>C</th>\n",
       "    </tr>\n",
       "  </thead>\n",
       "  <tbody>\n",
       "    <tr>\n",
       "      <th>2018-12-12</th>\n",
       "      <td>NaN</td>\n",
       "      <td>NaN</td>\n",
       "      <td>NaN</td>\n",
       "      <td>NaN</td>\n",
       "      <td>NaN</td>\n",
       "      <td>NaN</td>\n",
       "      <td>NaN</td>\n",
       "      <td>NaN</td>\n",
       "      <td>NaN</td>\n",
       "    </tr>\n",
       "    <tr>\n",
       "      <th>2018-12-13</th>\n",
       "      <td>NaN</td>\n",
       "      <td>NaN</td>\n",
       "      <td>NaN</td>\n",
       "      <td>NaN</td>\n",
       "      <td>NaN</td>\n",
       "      <td>NaN</td>\n",
       "      <td>NaN</td>\n",
       "      <td>NaN</td>\n",
       "      <td>NaN</td>\n",
       "    </tr>\n",
       "    <tr>\n",
       "      <th>2018-12-14</th>\n",
       "      <td>NaN</td>\n",
       "      <td>NaN</td>\n",
       "      <td>NaN</td>\n",
       "      <td>NaN</td>\n",
       "      <td>NaN</td>\n",
       "      <td>NaN</td>\n",
       "      <td>NaN</td>\n",
       "      <td>NaN</td>\n",
       "      <td>NaN</td>\n",
       "    </tr>\n",
       "    <tr>\n",
       "      <th>2018-12-15</th>\n",
       "      <td>NaN</td>\n",
       "      <td>NaN</td>\n",
       "      <td>NaN</td>\n",
       "      <td>NaN</td>\n",
       "      <td>NaN</td>\n",
       "      <td>NaN</td>\n",
       "      <td>NaN</td>\n",
       "      <td>NaN</td>\n",
       "      <td>NaN</td>\n",
       "    </tr>\n",
       "    <tr>\n",
       "      <th>2018-12-16</th>\n",
       "      <td>NaN</td>\n",
       "      <td>NaN</td>\n",
       "      <td>NaN</td>\n",
       "      <td>NaN</td>\n",
       "      <td>NaN</td>\n",
       "      <td>NaN</td>\n",
       "      <td>NaN</td>\n",
       "      <td>NaN</td>\n",
       "      <td>NaN</td>\n",
       "    </tr>\n",
       "    <tr>\n",
       "      <th>2018-12-17</th>\n",
       "      <td>NaN</td>\n",
       "      <td>NaN</td>\n",
       "      <td>NaN</td>\n",
       "      <td>NaN</td>\n",
       "      <td>NaN</td>\n",
       "      <td>NaN</td>\n",
       "      <td>NaN</td>\n",
       "      <td>NaN</td>\n",
       "      <td>NaN</td>\n",
       "    </tr>\n",
       "  </tbody>\n",
       "</table>\n",
       "</div>"
      ],
      "text/plain": [
       "            2018-12-12 00:00:00  2018-12-13 00:00:00  2018-12-14 00:00:00  \\\n",
       "2018-12-12                  NaN                  NaN                  NaN   \n",
       "2018-12-13                  NaN                  NaN                  NaN   \n",
       "2018-12-14                  NaN                  NaN                  NaN   \n",
       "2018-12-15                  NaN                  NaN                  NaN   \n",
       "2018-12-16                  NaN                  NaN                  NaN   \n",
       "2018-12-17                  NaN                  NaN                  NaN   \n",
       "\n",
       "            2018-12-15 00:00:00  2018-12-16 00:00:00  2018-12-17 00:00:00   A  \\\n",
       "2018-12-12                  NaN                  NaN                  NaN NaN   \n",
       "2018-12-13                  NaN                  NaN                  NaN NaN   \n",
       "2018-12-14                  NaN                  NaN                  NaN NaN   \n",
       "2018-12-15                  NaN                  NaN                  NaN NaN   \n",
       "2018-12-16                  NaN                  NaN                  NaN NaN   \n",
       "2018-12-17                  NaN                  NaN                  NaN NaN   \n",
       "\n",
       "             B   C  \n",
       "2018-12-12 NaN NaN  \n",
       "2018-12-13 NaN NaN  \n",
       "2018-12-14 NaN NaN  \n",
       "2018-12-15 NaN NaN  \n",
       "2018-12-16 NaN NaN  \n",
       "2018-12-17 NaN NaN  "
      ]
     },
     "execution_count": 71,
     "metadata": {},
     "output_type": "execute_result"
    }
   ],
   "source": [
    "df - df['A']"
   ]
  },
  {
   "cell_type": "markdown",
   "metadata": {},
   "source": [
    "        df - df['A']\n",
    "        is now deprecated and will be removed in a future release. The preferred way to replicate this behavior is"
   ]
  },
  {
   "cell_type": "code",
   "execution_count": 72,
   "metadata": {},
   "outputs": [
    {
     "data": {
      "text/html": [
       "<div>\n",
       "<style scoped>\n",
       "    .dataframe tbody tr th:only-of-type {\n",
       "        vertical-align: middle;\n",
       "    }\n",
       "\n",
       "    .dataframe tbody tr th {\n",
       "        vertical-align: top;\n",
       "    }\n",
       "\n",
       "    .dataframe thead th {\n",
       "        text-align: right;\n",
       "    }\n",
       "</style>\n",
       "<table border=\"1\" class=\"dataframe\">\n",
       "  <thead>\n",
       "    <tr style=\"text-align: right;\">\n",
       "      <th></th>\n",
       "      <th>A</th>\n",
       "      <th>B</th>\n",
       "      <th>C</th>\n",
       "    </tr>\n",
       "  </thead>\n",
       "  <tbody>\n",
       "    <tr>\n",
       "      <th>2018-12-12</th>\n",
       "      <td>0.0</td>\n",
       "      <td>1.118144</td>\n",
       "      <td>1.841895</td>\n",
       "    </tr>\n",
       "    <tr>\n",
       "      <th>2018-12-13</th>\n",
       "      <td>0.0</td>\n",
       "      <td>0.858507</td>\n",
       "      <td>-0.798551</td>\n",
       "    </tr>\n",
       "    <tr>\n",
       "      <th>2018-12-14</th>\n",
       "      <td>0.0</td>\n",
       "      <td>0.377708</td>\n",
       "      <td>0.236907</td>\n",
       "    </tr>\n",
       "    <tr>\n",
       "      <th>2018-12-15</th>\n",
       "      <td>0.0</td>\n",
       "      <td>1.535834</td>\n",
       "      <td>1.773857</td>\n",
       "    </tr>\n",
       "    <tr>\n",
       "      <th>2018-12-16</th>\n",
       "      <td>0.0</td>\n",
       "      <td>-1.360342</td>\n",
       "      <td>-0.288739</td>\n",
       "    </tr>\n",
       "    <tr>\n",
       "      <th>2018-12-17</th>\n",
       "      <td>0.0</td>\n",
       "      <td>3.093808</td>\n",
       "      <td>1.167841</td>\n",
       "    </tr>\n",
       "  </tbody>\n",
       "</table>\n",
       "</div>"
      ],
      "text/plain": [
       "              A         B         C\n",
       "2018-12-12  0.0  1.118144  1.841895\n",
       "2018-12-13  0.0  0.858507 -0.798551\n",
       "2018-12-14  0.0  0.377708  0.236907\n",
       "2018-12-15  0.0  1.535834  1.773857\n",
       "2018-12-16  0.0 -1.360342 -0.288739\n",
       "2018-12-17  0.0  3.093808  1.167841"
      ]
     },
     "execution_count": 72,
     "metadata": {},
     "output_type": "execute_result"
    }
   ],
   "source": [
    "df.sub(df['A'], axis=0)"
   ]
  },
  {
   "cell_type": "code",
   "execution_count": 80,
   "metadata": {},
   "outputs": [
    {
     "data": {
      "text/html": [
       "<div>\n",
       "<style scoped>\n",
       "    .dataframe tbody tr th:only-of-type {\n",
       "        vertical-align: middle;\n",
       "    }\n",
       "\n",
       "    .dataframe tbody tr th {\n",
       "        vertical-align: top;\n",
       "    }\n",
       "\n",
       "    .dataframe thead th {\n",
       "        text-align: right;\n",
       "    }\n",
       "</style>\n",
       "<table border=\"1\" class=\"dataframe\">\n",
       "  <thead>\n",
       "    <tr style=\"text-align: right;\">\n",
       "      <th></th>\n",
       "      <th>a</th>\n",
       "      <th>b</th>\n",
       "    </tr>\n",
       "  </thead>\n",
       "  <tbody>\n",
       "    <tr>\n",
       "      <th>0</th>\n",
       "      <td>True</td>\n",
       "      <td>False</td>\n",
       "    </tr>\n",
       "    <tr>\n",
       "      <th>1</th>\n",
       "      <td>False</td>\n",
       "      <td>True</td>\n",
       "    </tr>\n",
       "    <tr>\n",
       "      <th>2</th>\n",
       "      <td>True</td>\n",
       "      <td>True</td>\n",
       "    </tr>\n",
       "    <tr>\n",
       "      <th>3</th>\n",
       "      <td>False</td>\n",
       "      <td>False</td>\n",
       "    </tr>\n",
       "    <tr>\n",
       "      <th>4</th>\n",
       "      <td>True</td>\n",
       "      <td>True</td>\n",
       "    </tr>\n",
       "  </tbody>\n",
       "</table>\n",
       "</div>"
      ],
      "text/plain": [
       "       a      b\n",
       "0   True  False\n",
       "1  False   True\n",
       "2   True   True\n",
       "3  False  False\n",
       "4   True   True"
      ]
     },
     "execution_count": 80,
     "metadata": {},
     "output_type": "execute_result"
    }
   ],
   "source": [
    "# Boolean expression\n",
    "df1 = DataFrame({'a' : [1,0,1, 0, 1], 'b' : [0,1,1,0, 1] }, dtype=bool)\n",
    "df1"
   ]
  },
  {
   "cell_type": "code",
   "execution_count": 82,
   "metadata": {},
   "outputs": [
    {
     "data": {
      "text/html": [
       "<div>\n",
       "<style scoped>\n",
       "    .dataframe tbody tr th:only-of-type {\n",
       "        vertical-align: middle;\n",
       "    }\n",
       "\n",
       "    .dataframe tbody tr th {\n",
       "        vertical-align: top;\n",
       "    }\n",
       "\n",
       "    .dataframe thead th {\n",
       "        text-align: right;\n",
       "    }\n",
       "</style>\n",
       "<table border=\"1\" class=\"dataframe\">\n",
       "  <thead>\n",
       "    <tr style=\"text-align: right;\">\n",
       "      <th></th>\n",
       "      <th>a</th>\n",
       "      <th>b</th>\n",
       "    </tr>\n",
       "  </thead>\n",
       "  <tbody>\n",
       "    <tr>\n",
       "      <th>0</th>\n",
       "      <td>True</td>\n",
       "      <td>False</td>\n",
       "    </tr>\n",
       "    <tr>\n",
       "      <th>1</th>\n",
       "      <td>False</td>\n",
       "      <td>True</td>\n",
       "    </tr>\n",
       "    <tr>\n",
       "      <th>2</th>\n",
       "      <td>True</td>\n",
       "      <td>True</td>\n",
       "    </tr>\n",
       "  </tbody>\n",
       "</table>\n",
       "</div>"
      ],
      "text/plain": [
       "       a      b\n",
       "0   True  False\n",
       "1  False   True\n",
       "2   True   True"
      ]
     },
     "execution_count": 82,
     "metadata": {},
     "output_type": "execute_result"
    }
   ],
   "source": [
    "df1 = DataFrame({'a' : [1, 0, 1], 'b' : [0, 1, 1] }, dtype=bool)\n",
    "df1"
   ]
  },
  {
   "cell_type": "code",
   "execution_count": 86,
   "metadata": {},
   "outputs": [
    {
     "data": {
      "text/html": [
       "<div>\n",
       "<style scoped>\n",
       "    .dataframe tbody tr th:only-of-type {\n",
       "        vertical-align: middle;\n",
       "    }\n",
       "\n",
       "    .dataframe tbody tr th {\n",
       "        vertical-align: top;\n",
       "    }\n",
       "\n",
       "    .dataframe thead th {\n",
       "        text-align: right;\n",
       "    }\n",
       "</style>\n",
       "<table border=\"1\" class=\"dataframe\">\n",
       "  <thead>\n",
       "    <tr style=\"text-align: right;\">\n",
       "      <th></th>\n",
       "      <th>a</th>\n",
       "      <th>b</th>\n",
       "      <th>c</th>\n",
       "    </tr>\n",
       "  </thead>\n",
       "  <tbody>\n",
       "    <tr>\n",
       "      <th>0</th>\n",
       "      <td>True</td>\n",
       "      <td>False</td>\n",
       "      <td>False</td>\n",
       "    </tr>\n",
       "    <tr>\n",
       "      <th>1</th>\n",
       "      <td>True</td>\n",
       "      <td>True</td>\n",
       "      <td>True</td>\n",
       "    </tr>\n",
       "  </tbody>\n",
       "</table>\n",
       "</div>"
      ],
      "text/plain": [
       "      a      b      c\n",
       "0  True  False  False\n",
       "1  True   True   True"
      ]
     },
     "execution_count": 86,
     "metadata": {},
     "output_type": "execute_result"
    }
   ],
   "source": [
    "df2 = DataFrame({'a' : [1, 1], 'b' : [0, 1],'c' : [0, 1] }, dtype=bool)\n",
    "df2"
   ]
  },
  {
   "cell_type": "code",
   "execution_count": 91,
   "metadata": {},
   "outputs": [
    {
     "data": {
      "text/html": [
       "<div>\n",
       "<style scoped>\n",
       "    .dataframe tbody tr th:only-of-type {\n",
       "        vertical-align: middle;\n",
       "    }\n",
       "\n",
       "    .dataframe tbody tr th {\n",
       "        vertical-align: top;\n",
       "    }\n",
       "\n",
       "    .dataframe thead th {\n",
       "        text-align: right;\n",
       "    }\n",
       "</style>\n",
       "<table border=\"1\" class=\"dataframe\">\n",
       "  <thead>\n",
       "    <tr style=\"text-align: right;\">\n",
       "      <th></th>\n",
       "      <th>a</th>\n",
       "      <th>b</th>\n",
       "    </tr>\n",
       "  </thead>\n",
       "  <tbody>\n",
       "    <tr>\n",
       "      <th>0</th>\n",
       "      <td>False</td>\n",
       "      <td>True</td>\n",
       "    </tr>\n",
       "    <tr>\n",
       "      <th>1</th>\n",
       "      <td>False</td>\n",
       "      <td>False</td>\n",
       "    </tr>\n",
       "    <tr>\n",
       "      <th>2</th>\n",
       "      <td>False</td>\n",
       "      <td>True</td>\n",
       "    </tr>\n",
       "    <tr>\n",
       "      <th>3</th>\n",
       "      <td>True</td>\n",
       "      <td>False</td>\n",
       "    </tr>\n",
       "  </tbody>\n",
       "</table>\n",
       "</div>"
      ],
      "text/plain": [
       "       a      b\n",
       "0  False   True\n",
       "1  False  False\n",
       "2  False   True\n",
       "3   True  False"
      ]
     },
     "execution_count": 91,
     "metadata": {},
     "output_type": "execute_result"
    }
   ],
   "source": [
    "df1 = pd.DataFrame({'a' : [1, 0,1,1], 'b' : [1,0, 1, 1] }, dtype=bool) \n",
    "df2 = pd.DataFrame({'a' : [0, 1,0,1], 'b' : [1,1, 1, 0] }, dtype=bool) \n",
    "#AND operation\n",
    "df1&df2"
   ]
  },
  {
   "cell_type": "code",
   "execution_count": 92,
   "metadata": {},
   "outputs": [
    {
     "data": {
      "text/html": [
       "<div>\n",
       "<style scoped>\n",
       "    .dataframe tbody tr th:only-of-type {\n",
       "        vertical-align: middle;\n",
       "    }\n",
       "\n",
       "    .dataframe tbody tr th {\n",
       "        vertical-align: top;\n",
       "    }\n",
       "\n",
       "    .dataframe thead th {\n",
       "        text-align: right;\n",
       "    }\n",
       "</style>\n",
       "<table border=\"1\" class=\"dataframe\">\n",
       "  <thead>\n",
       "    <tr style=\"text-align: right;\">\n",
       "      <th></th>\n",
       "      <th>a</th>\n",
       "      <th>b</th>\n",
       "    </tr>\n",
       "  </thead>\n",
       "  <tbody>\n",
       "    <tr>\n",
       "      <th>0</th>\n",
       "      <td>True</td>\n",
       "      <td>True</td>\n",
       "    </tr>\n",
       "    <tr>\n",
       "      <th>1</th>\n",
       "      <td>True</td>\n",
       "      <td>True</td>\n",
       "    </tr>\n",
       "    <tr>\n",
       "      <th>2</th>\n",
       "      <td>True</td>\n",
       "      <td>True</td>\n",
       "    </tr>\n",
       "    <tr>\n",
       "      <th>3</th>\n",
       "      <td>True</td>\n",
       "      <td>True</td>\n",
       "    </tr>\n",
       "  </tbody>\n",
       "</table>\n",
       "</div>"
      ],
      "text/plain": [
       "      a     b\n",
       "0  True  True\n",
       "1  True  True\n",
       "2  True  True\n",
       "3  True  True"
      ]
     },
     "execution_count": 92,
     "metadata": {},
     "output_type": "execute_result"
    }
   ],
   "source": [
    "#OR operation\n",
    "df1|df2"
   ]
  },
  {
   "cell_type": "code",
   "execution_count": 93,
   "metadata": {
    "collapsed": true
   },
   "outputs": [
    {
     "data": {
      "text/html": [
       "<div>\n",
       "<style scoped>\n",
       "    .dataframe tbody tr th:only-of-type {\n",
       "        vertical-align: middle;\n",
       "    }\n",
       "\n",
       "    .dataframe tbody tr th {\n",
       "        vertical-align: top;\n",
       "    }\n",
       "\n",
       "    .dataframe thead th {\n",
       "        text-align: right;\n",
       "    }\n",
       "</style>\n",
       "<table border=\"1\" class=\"dataframe\">\n",
       "  <thead>\n",
       "    <tr style=\"text-align: right;\">\n",
       "      <th></th>\n",
       "      <th>a</th>\n",
       "      <th>b</th>\n",
       "    </tr>\n",
       "  </thead>\n",
       "  <tbody>\n",
       "    <tr>\n",
       "      <th>0</th>\n",
       "      <td>True</td>\n",
       "      <td>False</td>\n",
       "    </tr>\n",
       "    <tr>\n",
       "      <th>1</th>\n",
       "      <td>True</td>\n",
       "      <td>True</td>\n",
       "    </tr>\n",
       "    <tr>\n",
       "      <th>2</th>\n",
       "      <td>True</td>\n",
       "      <td>False</td>\n",
       "    </tr>\n",
       "    <tr>\n",
       "      <th>3</th>\n",
       "      <td>False</td>\n",
       "      <td>True</td>\n",
       "    </tr>\n",
       "  </tbody>\n",
       "</table>\n",
       "</div>"
      ],
      "text/plain": [
       "       a      b\n",
       "0   True  False\n",
       "1   True   True\n",
       "2   True  False\n",
       "3  False   True"
      ]
     },
     "execution_count": 93,
     "metadata": {},
     "output_type": "execute_result"
    }
   ],
   "source": [
    "df1^df2"
   ]
  },
  {
   "cell_type": "code",
   "execution_count": 94,
   "metadata": {},
   "outputs": [
    {
     "data": {
      "text/html": [
       "<div>\n",
       "<style scoped>\n",
       "    .dataframe tbody tr th:only-of-type {\n",
       "        vertical-align: middle;\n",
       "    }\n",
       "\n",
       "    .dataframe tbody tr th {\n",
       "        vertical-align: top;\n",
       "    }\n",
       "\n",
       "    .dataframe thead th {\n",
       "        text-align: right;\n",
       "    }\n",
       "</style>\n",
       "<table border=\"1\" class=\"dataframe\">\n",
       "  <thead>\n",
       "    <tr style=\"text-align: right;\">\n",
       "      <th></th>\n",
       "      <th>a</th>\n",
       "      <th>b</th>\n",
       "    </tr>\n",
       "  </thead>\n",
       "  <tbody>\n",
       "    <tr>\n",
       "      <th>0</th>\n",
       "      <td>True</td>\n",
       "      <td>False</td>\n",
       "    </tr>\n",
       "    <tr>\n",
       "      <th>1</th>\n",
       "      <td>False</td>\n",
       "      <td>False</td>\n",
       "    </tr>\n",
       "    <tr>\n",
       "      <th>2</th>\n",
       "      <td>True</td>\n",
       "      <td>False</td>\n",
       "    </tr>\n",
       "    <tr>\n",
       "      <th>3</th>\n",
       "      <td>False</td>\n",
       "      <td>True</td>\n",
       "    </tr>\n",
       "  </tbody>\n",
       "</table>\n",
       "</div>"
      ],
      "text/plain": [
       "       a      b\n",
       "0   True  False\n",
       "1  False  False\n",
       "2   True  False\n",
       "3  False   True"
      ]
     },
     "execution_count": 94,
     "metadata": {},
     "output_type": "execute_result"
    }
   ],
   "source": [
    "-df2"
   ]
  },
  {
   "cell_type": "code",
   "execution_count": 95,
   "metadata": {},
   "outputs": [
    {
     "data": {
      "text/html": [
       "<div>\n",
       "<style scoped>\n",
       "    .dataframe tbody tr th:only-of-type {\n",
       "        vertical-align: middle;\n",
       "    }\n",
       "\n",
       "    .dataframe tbody tr th {\n",
       "        vertical-align: top;\n",
       "    }\n",
       "\n",
       "    .dataframe thead th {\n",
       "        text-align: right;\n",
       "    }\n",
       "</style>\n",
       "<table border=\"1\" class=\"dataframe\">\n",
       "  <thead>\n",
       "    <tr style=\"text-align: right;\">\n",
       "      <th></th>\n",
       "      <th>a</th>\n",
       "      <th>b</th>\n",
       "    </tr>\n",
       "  </thead>\n",
       "  <tbody>\n",
       "    <tr>\n",
       "      <th>0</th>\n",
       "      <td>False</td>\n",
       "      <td>False</td>\n",
       "    </tr>\n",
       "    <tr>\n",
       "      <th>1</th>\n",
       "      <td>True</td>\n",
       "      <td>True</td>\n",
       "    </tr>\n",
       "    <tr>\n",
       "      <th>2</th>\n",
       "      <td>False</td>\n",
       "      <td>False</td>\n",
       "    </tr>\n",
       "    <tr>\n",
       "      <th>3</th>\n",
       "      <td>False</td>\n",
       "      <td>False</td>\n",
       "    </tr>\n",
       "  </tbody>\n",
       "</table>\n",
       "</div>"
      ],
      "text/plain": [
       "       a      b\n",
       "0  False  False\n",
       "1   True   True\n",
       "2  False  False\n",
       "3  False  False"
      ]
     },
     "execution_count": 95,
     "metadata": {},
     "output_type": "execute_result"
    }
   ],
   "source": [
    "-df1"
   ]
  },
  {
   "cell_type": "code",
   "execution_count": 97,
   "metadata": {},
   "outputs": [
    {
     "data": {
      "text/html": [
       "<div>\n",
       "<style scoped>\n",
       "    .dataframe tbody tr th:only-of-type {\n",
       "        vertical-align: middle;\n",
       "    }\n",
       "\n",
       "    .dataframe tbody tr th {\n",
       "        vertical-align: top;\n",
       "    }\n",
       "\n",
       "    .dataframe thead th {\n",
       "        text-align: right;\n",
       "    }\n",
       "</style>\n",
       "<table border=\"1\" class=\"dataframe\">\n",
       "  <thead>\n",
       "    <tr style=\"text-align: right;\">\n",
       "      <th></th>\n",
       "      <th>a</th>\n",
       "      <th>b</th>\n",
       "      <th>c</th>\n",
       "    </tr>\n",
       "  </thead>\n",
       "  <tbody>\n",
       "    <tr>\n",
       "      <th>0</th>\n",
       "      <td>True</td>\n",
       "      <td>False</td>\n",
       "      <td>False</td>\n",
       "    </tr>\n",
       "    <tr>\n",
       "      <th>1</th>\n",
       "      <td>False</td>\n",
       "      <td>True</td>\n",
       "      <td>True</td>\n",
       "    </tr>\n",
       "  </tbody>\n",
       "</table>\n",
       "</div>"
      ],
      "text/plain": [
       "       a      b      c\n",
       "0   True  False  False\n",
       "1  False   True   True"
      ]
     },
     "execution_count": 97,
     "metadata": {},
     "output_type": "execute_result"
    }
   ],
   "source": [
    "df1 = DataFrame({'a' : [1, 1], 'b' : [0, 1],'c' : [0, 1] }, dtype=bool)\n",
    "df2 = DataFrame({'a' : [1, 0], 'b' : [1, 1],'c' : [1, 1] }, dtype=bool)\n",
    "df1&df2"
   ]
  },
  {
   "cell_type": "code",
   "execution_count": 98,
   "metadata": {},
   "outputs": [
    {
     "data": {
      "text/html": [
       "<div>\n",
       "<style scoped>\n",
       "    .dataframe tbody tr th:only-of-type {\n",
       "        vertical-align: middle;\n",
       "    }\n",
       "\n",
       "    .dataframe tbody tr th {\n",
       "        vertical-align: top;\n",
       "    }\n",
       "\n",
       "    .dataframe thead th {\n",
       "        text-align: right;\n",
       "    }\n",
       "</style>\n",
       "<table border=\"1\" class=\"dataframe\">\n",
       "  <thead>\n",
       "    <tr style=\"text-align: right;\">\n",
       "      <th></th>\n",
       "      <th>a</th>\n",
       "      <th>b</th>\n",
       "      <th>c</th>\n",
       "    </tr>\n",
       "  </thead>\n",
       "  <tbody>\n",
       "    <tr>\n",
       "      <th>0</th>\n",
       "      <td>True</td>\n",
       "      <td>True</td>\n",
       "      <td>True</td>\n",
       "    </tr>\n",
       "    <tr>\n",
       "      <th>1</th>\n",
       "      <td>True</td>\n",
       "      <td>True</td>\n",
       "      <td>True</td>\n",
       "    </tr>\n",
       "  </tbody>\n",
       "</table>\n",
       "</div>"
      ],
      "text/plain": [
       "      a     b     c\n",
       "0  True  True  True\n",
       "1  True  True  True"
      ]
     },
     "execution_count": 98,
     "metadata": {},
     "output_type": "execute_result"
    }
   ],
   "source": [
    "df1|df2\n"
   ]
  },
  {
   "cell_type": "code",
   "execution_count": 99,
   "metadata": {},
   "outputs": [
    {
     "data": {
      "text/html": [
       "<div>\n",
       "<style scoped>\n",
       "    .dataframe tbody tr th:only-of-type {\n",
       "        vertical-align: middle;\n",
       "    }\n",
       "\n",
       "    .dataframe tbody tr th {\n",
       "        vertical-align: top;\n",
       "    }\n",
       "\n",
       "    .dataframe thead th {\n",
       "        text-align: right;\n",
       "    }\n",
       "</style>\n",
       "<table border=\"1\" class=\"dataframe\">\n",
       "  <thead>\n",
       "    <tr style=\"text-align: right;\">\n",
       "      <th></th>\n",
       "      <th>a</th>\n",
       "      <th>b</th>\n",
       "      <th>c</th>\n",
       "    </tr>\n",
       "  </thead>\n",
       "  <tbody>\n",
       "    <tr>\n",
       "      <th>0</th>\n",
       "      <td>False</td>\n",
       "      <td>True</td>\n",
       "      <td>True</td>\n",
       "    </tr>\n",
       "    <tr>\n",
       "      <th>1</th>\n",
       "      <td>True</td>\n",
       "      <td>False</td>\n",
       "      <td>False</td>\n",
       "    </tr>\n",
       "  </tbody>\n",
       "</table>\n",
       "</div>"
      ],
      "text/plain": [
       "       a      b      c\n",
       "0  False   True   True\n",
       "1   True  False  False"
      ]
     },
     "execution_count": 99,
     "metadata": {},
     "output_type": "execute_result"
    }
   ],
   "source": [
    "\n",
    "df2^df1\n"
   ]
  },
  {
   "cell_type": "code",
   "execution_count": 101,
   "metadata": {},
   "outputs": [
    {
     "data": {
      "text/html": [
       "<div>\n",
       "<style scoped>\n",
       "    .dataframe tbody tr th:only-of-type {\n",
       "        vertical-align: middle;\n",
       "    }\n",
       "\n",
       "    .dataframe tbody tr th {\n",
       "        vertical-align: top;\n",
       "    }\n",
       "\n",
       "    .dataframe thead th {\n",
       "        text-align: right;\n",
       "    }\n",
       "</style>\n",
       "<table border=\"1\" class=\"dataframe\">\n",
       "  <thead>\n",
       "    <tr style=\"text-align: right;\">\n",
       "      <th></th>\n",
       "      <th>a</th>\n",
       "      <th>b</th>\n",
       "      <th>c</th>\n",
       "    </tr>\n",
       "  </thead>\n",
       "  <tbody>\n",
       "    <tr>\n",
       "      <th>0</th>\n",
       "      <td>False</td>\n",
       "      <td>True</td>\n",
       "      <td>True</td>\n",
       "    </tr>\n",
       "    <tr>\n",
       "      <th>1</th>\n",
       "      <td>False</td>\n",
       "      <td>False</td>\n",
       "      <td>False</td>\n",
       "    </tr>\n",
       "  </tbody>\n",
       "</table>\n",
       "</div>"
      ],
      "text/plain": [
       "       a      b      c\n",
       "0  False   True   True\n",
       "1  False  False  False"
      ]
     },
     "execution_count": 101,
     "metadata": {},
     "output_type": "execute_result"
    }
   ],
   "source": [
    "-df1"
   ]
  },
  {
   "cell_type": "code",
   "execution_count": 102,
   "metadata": {},
   "outputs": [
    {
     "data": {
      "text/html": [
       "<div>\n",
       "<style scoped>\n",
       "    .dataframe tbody tr th:only-of-type {\n",
       "        vertical-align: middle;\n",
       "    }\n",
       "\n",
       "    .dataframe tbody tr th {\n",
       "        vertical-align: top;\n",
       "    }\n",
       "\n",
       "    .dataframe thead th {\n",
       "        text-align: right;\n",
       "    }\n",
       "</style>\n",
       "<table border=\"1\" class=\"dataframe\">\n",
       "  <thead>\n",
       "    <tr style=\"text-align: right;\">\n",
       "      <th></th>\n",
       "      <th>a</th>\n",
       "      <th>b</th>\n",
       "      <th>c</th>\n",
       "    </tr>\n",
       "  </thead>\n",
       "  <tbody>\n",
       "    <tr>\n",
       "      <th>0</th>\n",
       "      <td>False</td>\n",
       "      <td>False</td>\n",
       "      <td>False</td>\n",
       "    </tr>\n",
       "    <tr>\n",
       "      <th>1</th>\n",
       "      <td>True</td>\n",
       "      <td>False</td>\n",
       "      <td>False</td>\n",
       "    </tr>\n",
       "  </tbody>\n",
       "</table>\n",
       "</div>"
      ],
      "text/plain": [
       "       a      b      c\n",
       "0  False  False  False\n",
       "1   True  False  False"
      ]
     },
     "execution_count": 102,
     "metadata": {},
     "output_type": "execute_result"
    }
   ],
   "source": [
    "\n",
    "-df2"
   ]
  },
  {
   "cell_type": "markdown",
   "metadata": {},
   "source": [
    "### 11.10 Transposing "
   ]
  },
  {
   "cell_type": "markdown",
   "metadata": {},
   "source": [
    "* To transpose, access the T attribute (also the transpose function), similar to an ndarray\n",
    "* in transpose we shal make rows as columns and columns as rows\n"
   ]
  },
  {
   "cell_type": "code",
   "execution_count": 110,
   "metadata": {},
   "outputs": [
    {
     "data": {
      "text/html": [
       "<div>\n",
       "<style scoped>\n",
       "    .dataframe tbody tr th:only-of-type {\n",
       "        vertical-align: middle;\n",
       "    }\n",
       "\n",
       "    .dataframe tbody tr th {\n",
       "        vertical-align: top;\n",
       "    }\n",
       "\n",
       "    .dataframe thead th {\n",
       "        text-align: right;\n",
       "    }\n",
       "</style>\n",
       "<table border=\"1\" class=\"dataframe\">\n",
       "  <thead>\n",
       "    <tr style=\"text-align: right;\">\n",
       "      <th></th>\n",
       "      <th>0</th>\n",
       "      <th>1</th>\n",
       "      <th>2</th>\n",
       "      <th>3</th>\n",
       "      <th>4</th>\n",
       "    </tr>\n",
       "  </thead>\n",
       "  <tbody>\n",
       "    <tr>\n",
       "      <th>A</th>\n",
       "      <td>0.422386</td>\n",
       "      <td>-1.675481</td>\n",
       "      <td>1.943668</td>\n",
       "      <td>0.205944</td>\n",
       "      <td>0.307267</td>\n",
       "    </tr>\n",
       "    <tr>\n",
       "      <th>B</th>\n",
       "      <td>1.852522</td>\n",
       "      <td>0.685087</td>\n",
       "      <td>0.456870</td>\n",
       "      <td>0.678399</td>\n",
       "      <td>-1.064333</td>\n",
       "    </tr>\n",
       "    <tr>\n",
       "      <th>C</th>\n",
       "      <td>0.162191</td>\n",
       "      <td>1.010860</td>\n",
       "      <td>-0.189490</td>\n",
       "      <td>-0.598375</td>\n",
       "      <td>0.903074</td>\n",
       "    </tr>\n",
       "    <tr>\n",
       "      <th>D</th>\n",
       "      <td>1.843371</td>\n",
       "      <td>-0.116040</td>\n",
       "      <td>-0.341397</td>\n",
       "      <td>0.528163</td>\n",
       "      <td>-0.204522</td>\n",
       "    </tr>\n",
       "  </tbody>\n",
       "</table>\n",
       "</div>"
      ],
      "text/plain": [
       "          0         1         2         3         4\n",
       "A  0.422386 -1.675481  1.943668  0.205944  0.307267\n",
       "B  1.852522  0.685087  0.456870  0.678399 -1.064333\n",
       "C  0.162191  1.010860 -0.189490 -0.598375  0.903074\n",
       "D  1.843371 -0.116040 -0.341397  0.528163 -0.204522"
      ]
     },
     "execution_count": 110,
     "metadata": {},
     "output_type": "execute_result"
    }
   ],
   "source": [
    "df = pd.DataFrame(np.random.randn(15, 4), columns=['A', 'B', 'C', 'D'])\n",
    "df[:5].T "
   ]
  },
  {
   "cell_type": "code",
   "execution_count": 111,
   "metadata": {},
   "outputs": [
    {
     "data": {
      "text/html": [
       "<div>\n",
       "<style scoped>\n",
       "    .dataframe tbody tr th:only-of-type {\n",
       "        vertical-align: middle;\n",
       "    }\n",
       "\n",
       "    .dataframe tbody tr th {\n",
       "        vertical-align: top;\n",
       "    }\n",
       "\n",
       "    .dataframe thead th {\n",
       "        text-align: right;\n",
       "    }\n",
       "</style>\n",
       "<table border=\"1\" class=\"dataframe\">\n",
       "  <thead>\n",
       "    <tr style=\"text-align: right;\">\n",
       "      <th></th>\n",
       "      <th>0</th>\n",
       "      <th>1</th>\n",
       "      <th>2</th>\n",
       "      <th>3</th>\n",
       "    </tr>\n",
       "  </thead>\n",
       "  <tbody>\n",
       "    <tr>\n",
       "      <th>A</th>\n",
       "      <td>0.422386</td>\n",
       "      <td>-1.675481</td>\n",
       "      <td>1.943668</td>\n",
       "      <td>0.205944</td>\n",
       "    </tr>\n",
       "    <tr>\n",
       "      <th>B</th>\n",
       "      <td>1.852522</td>\n",
       "      <td>0.685087</td>\n",
       "      <td>0.456870</td>\n",
       "      <td>0.678399</td>\n",
       "    </tr>\n",
       "    <tr>\n",
       "      <th>C</th>\n",
       "      <td>0.162191</td>\n",
       "      <td>1.010860</td>\n",
       "      <td>-0.189490</td>\n",
       "      <td>-0.598375</td>\n",
       "    </tr>\n",
       "    <tr>\n",
       "      <th>D</th>\n",
       "      <td>1.843371</td>\n",
       "      <td>-0.116040</td>\n",
       "      <td>-0.341397</td>\n",
       "      <td>0.528163</td>\n",
       "    </tr>\n",
       "  </tbody>\n",
       "</table>\n",
       "</div>"
      ],
      "text/plain": [
       "          0         1         2         3\n",
       "A  0.422386 -1.675481  1.943668  0.205944\n",
       "B  1.852522  0.685087  0.456870  0.678399\n",
       "C  0.162191  1.010860 -0.189490 -0.598375\n",
       "D  1.843371 -0.116040 -0.341397  0.528163"
      ]
     },
     "execution_count": 111,
     "metadata": {},
     "output_type": "execute_result"
    }
   ],
   "source": [
    "df[:4].T "
   ]
  },
  {
   "cell_type": "code",
   "execution_count": 113,
   "metadata": {},
   "outputs": [
    {
     "data": {
      "text/html": [
       "<div>\n",
       "<style scoped>\n",
       "    .dataframe tbody tr th:only-of-type {\n",
       "        vertical-align: middle;\n",
       "    }\n",
       "\n",
       "    .dataframe tbody tr th {\n",
       "        vertical-align: top;\n",
       "    }\n",
       "\n",
       "    .dataframe thead th {\n",
       "        text-align: right;\n",
       "    }\n",
       "</style>\n",
       "<table border=\"1\" class=\"dataframe\">\n",
       "  <thead>\n",
       "    <tr style=\"text-align: right;\">\n",
       "      <th></th>\n",
       "      <th>1</th>\n",
       "      <th>2</th>\n",
       "      <th>3</th>\n",
       "      <th>4</th>\n",
       "      <th>5</th>\n",
       "      <th>6</th>\n",
       "      <th>7</th>\n",
       "      <th>8</th>\n",
       "      <th>9</th>\n",
       "      <th>10</th>\n",
       "      <th>11</th>\n",
       "      <th>12</th>\n",
       "      <th>13</th>\n",
       "      <th>14</th>\n",
       "    </tr>\n",
       "  </thead>\n",
       "  <tbody>\n",
       "    <tr>\n",
       "      <th>A</th>\n",
       "      <td>-1.675481</td>\n",
       "      <td>1.943668</td>\n",
       "      <td>0.205944</td>\n",
       "      <td>0.307267</td>\n",
       "      <td>-2.184595</td>\n",
       "      <td>0.835598</td>\n",
       "      <td>-0.020251</td>\n",
       "      <td>0.108280</td>\n",
       "      <td>0.788030</td>\n",
       "      <td>-0.670179</td>\n",
       "      <td>-0.278994</td>\n",
       "      <td>1.543829</td>\n",
       "      <td>1.041719</td>\n",
       "      <td>-1.818808</td>\n",
       "    </tr>\n",
       "    <tr>\n",
       "      <th>B</th>\n",
       "      <td>0.685087</td>\n",
       "      <td>0.456870</td>\n",
       "      <td>0.678399</td>\n",
       "      <td>-1.064333</td>\n",
       "      <td>-0.756184</td>\n",
       "      <td>-0.004585</td>\n",
       "      <td>-0.114426</td>\n",
       "      <td>1.159189</td>\n",
       "      <td>-0.675931</td>\n",
       "      <td>0.852458</td>\n",
       "      <td>2.182998</td>\n",
       "      <td>-0.112381</td>\n",
       "      <td>1.225684</td>\n",
       "      <td>-1.794213</td>\n",
       "    </tr>\n",
       "    <tr>\n",
       "      <th>C</th>\n",
       "      <td>1.010860</td>\n",
       "      <td>-0.189490</td>\n",
       "      <td>-0.598375</td>\n",
       "      <td>0.903074</td>\n",
       "      <td>1.053421</td>\n",
       "      <td>-0.799341</td>\n",
       "      <td>1.463328</td>\n",
       "      <td>0.179332</td>\n",
       "      <td>0.170553</td>\n",
       "      <td>0.553672</td>\n",
       "      <td>-1.107186</td>\n",
       "      <td>0.625730</td>\n",
       "      <td>-0.566902</td>\n",
       "      <td>0.876816</td>\n",
       "    </tr>\n",
       "    <tr>\n",
       "      <th>D</th>\n",
       "      <td>-0.116040</td>\n",
       "      <td>-0.341397</td>\n",
       "      <td>0.528163</td>\n",
       "      <td>-0.204522</td>\n",
       "      <td>-0.392968</td>\n",
       "      <td>-2.815089</td>\n",
       "      <td>0.299807</td>\n",
       "      <td>0.195018</td>\n",
       "      <td>-0.745756</td>\n",
       "      <td>-1.238504</td>\n",
       "      <td>0.026985</td>\n",
       "      <td>-0.161625</td>\n",
       "      <td>1.221987</td>\n",
       "      <td>1.191348</td>\n",
       "    </tr>\n",
       "  </tbody>\n",
       "</table>\n",
       "</div>"
      ],
      "text/plain": [
       "         1         2         3         4         5         6         7   \\\n",
       "A -1.675481  1.943668  0.205944  0.307267 -2.184595  0.835598 -0.020251   \n",
       "B  0.685087  0.456870  0.678399 -1.064333 -0.756184 -0.004585 -0.114426   \n",
       "C  1.010860 -0.189490 -0.598375  0.903074  1.053421 -0.799341  1.463328   \n",
       "D -0.116040 -0.341397  0.528163 -0.204522 -0.392968 -2.815089  0.299807   \n",
       "\n",
       "         8         9         10        11        12        13        14  \n",
       "A  0.108280  0.788030 -0.670179 -0.278994  1.543829  1.041719 -1.818808  \n",
       "B  1.159189 -0.675931  0.852458  2.182998 -0.112381  1.225684 -1.794213  \n",
       "C  0.179332  0.170553  0.553672 -1.107186  0.625730 -0.566902  0.876816  \n",
       "D  0.195018 -0.745756 -1.238504  0.026985 -0.161625  1.221987  1.191348  "
      ]
     },
     "execution_count": 113,
     "metadata": {},
     "output_type": "execute_result"
    }
   ],
   "source": [
    "df[1:].T "
   ]
  },
  {
   "cell_type": "code",
   "execution_count": 122,
   "metadata": {},
   "outputs": [
    {
     "data": {
      "text/plain": [
       "DatetimeIndex(['2013-01-01', '2013-01-02', '2013-01-03', '2013-01-04',\n",
       "               '2013-01-05', '2013-01-06', '2013-01-07', '2013-01-08'],\n",
       "              dtype='datetime64[ns]', freq='D')"
      ]
     },
     "execution_count": 122,
     "metadata": {},
     "output_type": "execute_result"
    }
   ],
   "source": [
    "dates = pd.date_range('20130101', periods=8) \n",
    "dates"
   ]
  },
  {
   "cell_type": "code",
   "execution_count": 123,
   "metadata": {},
   "outputs": [
    {
     "data": {
      "text/html": [
       "<div>\n",
       "<style scoped>\n",
       "    .dataframe tbody tr th:only-of-type {\n",
       "        vertical-align: middle;\n",
       "    }\n",
       "\n",
       "    .dataframe tbody tr th {\n",
       "        vertical-align: top;\n",
       "    }\n",
       "\n",
       "    .dataframe thead th {\n",
       "        text-align: right;\n",
       "    }\n",
       "</style>\n",
       "<table border=\"1\" class=\"dataframe\">\n",
       "  <thead>\n",
       "    <tr style=\"text-align: right;\">\n",
       "      <th></th>\n",
       "      <th>0</th>\n",
       "    </tr>\n",
       "  </thead>\n",
       "  <tbody>\n",
       "    <tr>\n",
       "      <th>2013-01-01</th>\n",
       "      <td>a</td>\n",
       "    </tr>\n",
       "    <tr>\n",
       "      <th>2013-01-02</th>\n",
       "      <td>s</td>\n",
       "    </tr>\n",
       "    <tr>\n",
       "      <th>2013-01-03</th>\n",
       "      <td>f</td>\n",
       "    </tr>\n",
       "    <tr>\n",
       "      <th>2013-01-04</th>\n",
       "      <td>a</td>\n",
       "    </tr>\n",
       "    <tr>\n",
       "      <th>2013-01-05</th>\n",
       "      <td>d</td>\n",
       "    </tr>\n",
       "    <tr>\n",
       "      <th>2013-01-06</th>\n",
       "      <td>r</td>\n",
       "    </tr>\n",
       "    <tr>\n",
       "      <th>2013-01-07</th>\n",
       "      <td>v</td>\n",
       "    </tr>\n",
       "    <tr>\n",
       "      <th>2013-01-08</th>\n",
       "      <td>y</td>\n",
       "    </tr>\n",
       "  </tbody>\n",
       "</table>\n",
       "</div>"
      ],
      "text/plain": [
       "            0\n",
       "2013-01-01  a\n",
       "2013-01-02  s\n",
       "2013-01-03  f\n",
       "2013-01-04  a\n",
       "2013-01-05  d\n",
       "2013-01-06  r\n",
       "2013-01-07  v\n",
       "2013-01-08  y"
      ]
     },
     "execution_count": 123,
     "metadata": {},
     "output_type": "execute_result"
    }
   ],
   "source": [
    "df = pd.DataFrame(['a','s','f','a','d','r','v','y'], index=dates) \n",
    "df"
   ]
  },
  {
   "cell_type": "code",
   "execution_count": 133,
   "metadata": {},
   "outputs": [],
   "source": [
    "df = pd.DataFrame(np.random.randn(15, 4), columns=['A', 'B', 'C', 'D'])"
   ]
  },
  {
   "cell_type": "markdown",
   "metadata": {},
   "source": [
    "* Elementwise NumPy ufuncs (log, exp, sqrt, ...) and various other NumPy functions can be used with no issues on DataFrame, assuming the data within are numeric:"
   ]
  },
  {
   "cell_type": "code",
   "execution_count": 137,
   "metadata": {},
   "outputs": [
    {
     "data": {
      "text/html": [
       "<div>\n",
       "<style scoped>\n",
       "    .dataframe tbody tr th:only-of-type {\n",
       "        vertical-align: middle;\n",
       "    }\n",
       "\n",
       "    .dataframe tbody tr th {\n",
       "        vertical-align: top;\n",
       "    }\n",
       "\n",
       "    .dataframe thead th {\n",
       "        text-align: right;\n",
       "    }\n",
       "</style>\n",
       "<table border=\"1\" class=\"dataframe\">\n",
       "  <thead>\n",
       "    <tr style=\"text-align: right;\">\n",
       "      <th></th>\n",
       "      <th>A</th>\n",
       "      <th>B</th>\n",
       "      <th>C</th>\n",
       "      <th>D</th>\n",
       "    </tr>\n",
       "  </thead>\n",
       "  <tbody>\n",
       "    <tr>\n",
       "      <th>0</th>\n",
       "      <td>2.877400</td>\n",
       "      <td>1.384591</td>\n",
       "      <td>1.633900</td>\n",
       "      <td>1.889546</td>\n",
       "    </tr>\n",
       "    <tr>\n",
       "      <th>1</th>\n",
       "      <td>0.666046</td>\n",
       "      <td>0.221397</td>\n",
       "      <td>0.817424</td>\n",
       "      <td>0.959038</td>\n",
       "    </tr>\n",
       "    <tr>\n",
       "      <th>2</th>\n",
       "      <td>0.655000</td>\n",
       "      <td>0.420773</td>\n",
       "      <td>0.318978</td>\n",
       "      <td>0.120194</td>\n",
       "    </tr>\n",
       "    <tr>\n",
       "      <th>3</th>\n",
       "      <td>0.219338</td>\n",
       "      <td>2.039273</td>\n",
       "      <td>0.934335</td>\n",
       "      <td>0.679687</td>\n",
       "    </tr>\n",
       "    <tr>\n",
       "      <th>4</th>\n",
       "      <td>0.224148</td>\n",
       "      <td>0.850646</td>\n",
       "      <td>0.593578</td>\n",
       "      <td>0.718229</td>\n",
       "    </tr>\n",
       "    <tr>\n",
       "      <th>5</th>\n",
       "      <td>0.690870</td>\n",
       "      <td>2.589355</td>\n",
       "      <td>1.250505</td>\n",
       "      <td>2.952235</td>\n",
       "    </tr>\n",
       "    <tr>\n",
       "      <th>6</th>\n",
       "      <td>0.640659</td>\n",
       "      <td>1.055815</td>\n",
       "      <td>0.486270</td>\n",
       "      <td>0.539043</td>\n",
       "    </tr>\n",
       "    <tr>\n",
       "      <th>7</th>\n",
       "      <td>0.677871</td>\n",
       "      <td>0.270040</td>\n",
       "      <td>0.458701</td>\n",
       "      <td>1.623157</td>\n",
       "    </tr>\n",
       "    <tr>\n",
       "      <th>8</th>\n",
       "      <td>0.179484</td>\n",
       "      <td>0.909542</td>\n",
       "      <td>0.834109</td>\n",
       "      <td>0.273583</td>\n",
       "    </tr>\n",
       "    <tr>\n",
       "      <th>9</th>\n",
       "      <td>0.677407</td>\n",
       "      <td>1.156914</td>\n",
       "      <td>0.167518</td>\n",
       "      <td>1.757071</td>\n",
       "    </tr>\n",
       "    <tr>\n",
       "      <th>10</th>\n",
       "      <td>1.101916</td>\n",
       "      <td>0.365337</td>\n",
       "      <td>1.747599</td>\n",
       "      <td>0.906319</td>\n",
       "    </tr>\n",
       "    <tr>\n",
       "      <th>11</th>\n",
       "      <td>1.630436</td>\n",
       "      <td>2.243547</td>\n",
       "      <td>0.484914</td>\n",
       "      <td>1.573548</td>\n",
       "    </tr>\n",
       "    <tr>\n",
       "      <th>12</th>\n",
       "      <td>1.229115</td>\n",
       "      <td>2.671397</td>\n",
       "      <td>0.871699</td>\n",
       "      <td>1.210844</td>\n",
       "    </tr>\n",
       "    <tr>\n",
       "      <th>13</th>\n",
       "      <td>1.044586</td>\n",
       "      <td>0.322221</td>\n",
       "      <td>1.670361</td>\n",
       "      <td>0.314857</td>\n",
       "    </tr>\n",
       "    <tr>\n",
       "      <th>14</th>\n",
       "      <td>0.483725</td>\n",
       "      <td>0.850738</td>\n",
       "      <td>0.235603</td>\n",
       "      <td>1.977192</td>\n",
       "    </tr>\n",
       "  </tbody>\n",
       "</table>\n",
       "</div>"
      ],
      "text/plain": [
       "           A         B         C         D\n",
       "0   2.877400  1.384591  1.633900  1.889546\n",
       "1   0.666046  0.221397  0.817424  0.959038\n",
       "2   0.655000  0.420773  0.318978  0.120194\n",
       "3   0.219338  2.039273  0.934335  0.679687\n",
       "4   0.224148  0.850646  0.593578  0.718229\n",
       "5   0.690870  2.589355  1.250505  2.952235\n",
       "6   0.640659  1.055815  0.486270  0.539043\n",
       "7   0.677871  0.270040  0.458701  1.623157\n",
       "8   0.179484  0.909542  0.834109  0.273583\n",
       "9   0.677407  1.156914  0.167518  1.757071\n",
       "10  1.101916  0.365337  1.747599  0.906319\n",
       "11  1.630436  2.243547  0.484914  1.573548\n",
       "12  1.229115  2.671397  0.871699  1.210844\n",
       "13  1.044586  0.322221  1.670361  0.314857\n",
       "14  0.483725  0.850738  0.235603  1.977192"
      ]
     },
     "execution_count": 137,
     "metadata": {},
     "output_type": "execute_result"
    }
   ],
   "source": [
    "np.exp(df)"
   ]
  },
  {
   "cell_type": "code",
   "execution_count": 142,
   "metadata": {},
   "outputs": [
    {
     "data": {
      "text/html": [
       "<div>\n",
       "<style scoped>\n",
       "    .dataframe tbody tr th:only-of-type {\n",
       "        vertical-align: middle;\n",
       "    }\n",
       "\n",
       "    .dataframe tbody tr th {\n",
       "        vertical-align: top;\n",
       "    }\n",
       "\n",
       "    .dataframe thead th {\n",
       "        text-align: right;\n",
       "    }\n",
       "</style>\n",
       "<table border=\"1\" class=\"dataframe\">\n",
       "  <thead>\n",
       "    <tr style=\"text-align: right;\">\n",
       "      <th></th>\n",
       "      <th>A</th>\n",
       "      <th>B</th>\n",
       "      <th>C</th>\n",
       "      <th>D</th>\n",
       "    </tr>\n",
       "  </thead>\n",
       "  <tbody>\n",
       "    <tr>\n",
       "      <th>A</th>\n",
       "      <td>10.407808</td>\n",
       "      <td>1.290831</td>\n",
       "      <td>4.260428</td>\n",
       "      <td>4.066100</td>\n",
       "    </tr>\n",
       "    <tr>\n",
       "      <th>B</th>\n",
       "      <td>1.290831</td>\n",
       "      <td>10.256110</td>\n",
       "      <td>0.810230</td>\n",
       "      <td>4.301796</td>\n",
       "    </tr>\n",
       "    <tr>\n",
       "      <th>C</th>\n",
       "      <td>4.260428</td>\n",
       "      <td>0.810230</td>\n",
       "      <td>9.473570</td>\n",
       "      <td>0.491027</td>\n",
       "    </tr>\n",
       "    <tr>\n",
       "      <th>D</th>\n",
       "      <td>4.066100</td>\n",
       "      <td>4.301796</td>\n",
       "      <td>0.491027</td>\n",
       "      <td>10.992070</td>\n",
       "    </tr>\n",
       "  </tbody>\n",
       "</table>\n",
       "</div>"
      ],
      "text/plain": [
       "           A          B         C          D\n",
       "A  10.407808   1.290831  4.260428   4.066100\n",
       "B   1.290831  10.256110  0.810230   4.301796\n",
       "C   4.260428   0.810230  9.473570   0.491027\n",
       "D   4.066100   4.301796  0.491027  10.992070"
      ]
     },
     "execution_count": 142,
     "metadata": {},
     "output_type": "execute_result"
    }
   ],
   "source": [
    "# the dot method on DataFrame implements matrix multiplication\n",
    "df.T.dot(df)"
   ]
  },
  {
   "cell_type": "code",
   "execution_count": 141,
   "metadata": {},
   "outputs": [
    {
     "data": {
      "text/plain": [
       "array([[ 1.0568871 ,  0.32540452,  0.49097003,  0.63633677],\n",
       "       [-0.40639707, -1.50779963, -0.20159695, -0.04182406],\n",
       "       [-0.4231193 , -0.8656619 , -1.14263239, -2.11864492],\n",
       "       [-1.51714183,  0.71259341, -0.06792042, -0.38612244],\n",
       "       [-1.4954468 , -0.16175914, -0.52158688, -0.33096626],\n",
       "       [-0.369803  ,  0.95140869,  0.22354767,  1.08256266],\n",
       "       [-0.44525737,  0.05431301, -0.72099086, -0.61795957],\n",
       "       [-0.38879776, -1.3091851 , -0.77935765,  0.48437314],\n",
       "       [-1.71766916, -0.09481371, -0.18139089, -1.29615139],\n",
       "       [-0.38948353,  0.1457559 , -1.78666184,  0.56364834],\n",
       "       [ 0.0970508 , -1.00693544,  0.55824305, -0.09836372],\n",
       "       [ 0.48884761,  0.80805808, -0.7237841 ,  0.45333303],\n",
       "       [ 0.20629424,  0.98260141, -0.13731127,  0.19131789],\n",
       "       [ 0.04362095, -1.1325168 ,  0.51303991, -1.1556366 ],\n",
       "       [-0.72623782, -0.16165154, -1.44560599,  0.68167768]])"
      ]
     },
     "execution_count": 141,
     "metadata": {},
     "output_type": "execute_result"
    }
   ],
   "source": [
    "np.asarray(df)"
   ]
  },
  {
   "cell_type": "code",
   "execution_count": 147,
   "metadata": {},
   "outputs": [
    {
     "data": {
      "text/plain": [
       "255"
      ]
     },
     "execution_count": 147,
     "metadata": {},
     "output_type": "execute_result"
    }
   ],
   "source": [
    "# Similarly, the dot method on Series implements dot product:\n",
    "s1 = Series(np.arange(5,10))\n",
    "s1.dot(s1)"
   ]
  },
  {
   "cell_type": "code",
   "execution_count": 146,
   "metadata": {},
   "outputs": [
    {
     "data": {
      "text/plain": [
       "568314"
      ]
     },
     "execution_count": 146,
     "metadata": {},
     "output_type": "execute_result"
    }
   ],
   "source": [
    "s1 = Series(np.arange(12,120))\n",
    "s1.dot(s1)"
   ]
  },
  {
   "cell_type": "code",
   "execution_count": 154,
   "metadata": {},
   "outputs": [
    {
     "data": {
      "text/html": [
       "<div>\n",
       "<style scoped>\n",
       "    .dataframe tbody tr th:only-of-type {\n",
       "        vertical-align: middle;\n",
       "    }\n",
       "\n",
       "    .dataframe tbody tr th {\n",
       "        vertical-align: top;\n",
       "    }\n",
       "\n",
       "    .dataframe thead th {\n",
       "        text-align: right;\n",
       "    }\n",
       "</style>\n",
       "<table border=\"1\" class=\"dataframe\">\n",
       "  <thead>\n",
       "    <tr style=\"text-align: right;\">\n",
       "      <th></th>\n",
       "      <th>0</th>\n",
       "    </tr>\n",
       "  </thead>\n",
       "  <tbody>\n",
       "    <tr>\n",
       "      <th>a</th>\n",
       "      <td>4.812184</td>\n",
       "    </tr>\n",
       "    <tr>\n",
       "      <th>b</th>\n",
       "      <td>4.812184</td>\n",
       "    </tr>\n",
       "    <tr>\n",
       "      <th>c</th>\n",
       "      <td>1.386294</td>\n",
       "    </tr>\n",
       "    <tr>\n",
       "      <th>d</th>\n",
       "      <td>4.812184</td>\n",
       "    </tr>\n",
       "    <tr>\n",
       "      <th>e</th>\n",
       "      <td>2.484907</td>\n",
       "    </tr>\n",
       "    <tr>\n",
       "      <th>f</th>\n",
       "      <td>3.970292</td>\n",
       "    </tr>\n",
       "    <tr>\n",
       "      <th>g</th>\n",
       "      <td>3.218876</td>\n",
       "    </tr>\n",
       "    <tr>\n",
       "      <th>h</th>\n",
       "      <td>0.693147</td>\n",
       "    </tr>\n",
       "  </tbody>\n",
       "</table>\n",
       "</div>"
      ],
      "text/plain": [
       "          0\n",
       "a  4.812184\n",
       "b  4.812184\n",
       "c  1.386294\n",
       "d  4.812184\n",
       "e  2.484907\n",
       "f  3.970292\n",
       "g  3.218876\n",
       "h  0.693147"
      ]
     },
     "execution_count": 154,
     "metadata": {},
     "output_type": "execute_result"
    }
   ],
   "source": [
    "df = pd.DataFrame([123,123,4,123,12,53,25,2], index=['a','b','c','d','e','f','g','h']) \n",
    "np.log(df)"
   ]
  },
  {
   "cell_type": "code",
   "execution_count": 151,
   "metadata": {},
   "outputs": [
    {
     "data": {
      "text/html": [
       "<div>\n",
       "<style scoped>\n",
       "    .dataframe tbody tr th:only-of-type {\n",
       "        vertical-align: middle;\n",
       "    }\n",
       "\n",
       "    .dataframe tbody tr th {\n",
       "        vertical-align: top;\n",
       "    }\n",
       "\n",
       "    .dataframe thead th {\n",
       "        text-align: right;\n",
       "    }\n",
       "</style>\n",
       "<table border=\"1\" class=\"dataframe\">\n",
       "  <thead>\n",
       "    <tr style=\"text-align: right;\">\n",
       "      <th></th>\n",
       "      <th>0</th>\n",
       "    </tr>\n",
       "  </thead>\n",
       "  <tbody>\n",
       "    <tr>\n",
       "      <th>1</th>\n",
       "      <td>4.812184</td>\n",
       "    </tr>\n",
       "    <tr>\n",
       "      <th>2</th>\n",
       "      <td>2.484907</td>\n",
       "    </tr>\n",
       "    <tr>\n",
       "      <th>3</th>\n",
       "      <td>0.000000</td>\n",
       "    </tr>\n",
       "    <tr>\n",
       "      <th>4</th>\n",
       "      <td>6.021023</td>\n",
       "    </tr>\n",
       "  </tbody>\n",
       "</table>\n",
       "</div>"
      ],
      "text/plain": [
       "          0\n",
       "1  4.812184\n",
       "2  2.484907\n",
       "3  0.000000\n",
       "4  6.021023"
      ]
     },
     "execution_count": 151,
     "metadata": {},
     "output_type": "execute_result"
    }
   ],
   "source": [
    "df = pd.DataFrame([123,12,1,412], index=[1,2,3,4]) \n",
    "np.log(df)"
   ]
  },
  {
   "cell_type": "markdown",
   "metadata": {},
   "source": [
    "* Creating a DataFrame by passing a dict of objects that can be converted to series-like."
   ]
  },
  {
   "cell_type": "code",
   "execution_count": 156,
   "metadata": {},
   "outputs": [
    {
     "data": {
      "text/html": [
       "<div>\n",
       "<style scoped>\n",
       "    .dataframe tbody tr th:only-of-type {\n",
       "        vertical-align: middle;\n",
       "    }\n",
       "\n",
       "    .dataframe tbody tr th {\n",
       "        vertical-align: top;\n",
       "    }\n",
       "\n",
       "    .dataframe thead th {\n",
       "        text-align: right;\n",
       "    }\n",
       "</style>\n",
       "<table border=\"1\" class=\"dataframe\">\n",
       "  <thead>\n",
       "    <tr style=\"text-align: right;\">\n",
       "      <th></th>\n",
       "      <th>A</th>\n",
       "      <th>B</th>\n",
       "      <th>C</th>\n",
       "      <th>D</th>\n",
       "      <th>E</th>\n",
       "      <th>F</th>\n",
       "    </tr>\n",
       "  </thead>\n",
       "  <tbody>\n",
       "    <tr>\n",
       "      <th>0</th>\n",
       "      <td>1.0</td>\n",
       "      <td>2013-01-02</td>\n",
       "      <td>1.0</td>\n",
       "      <td>3</td>\n",
       "      <td>test</td>\n",
       "      <td>foo</td>\n",
       "    </tr>\n",
       "    <tr>\n",
       "      <th>1</th>\n",
       "      <td>1.0</td>\n",
       "      <td>2013-01-02</td>\n",
       "      <td>1.0</td>\n",
       "      <td>3</td>\n",
       "      <td>train</td>\n",
       "      <td>foo</td>\n",
       "    </tr>\n",
       "    <tr>\n",
       "      <th>2</th>\n",
       "      <td>1.0</td>\n",
       "      <td>2013-01-02</td>\n",
       "      <td>1.0</td>\n",
       "      <td>3</td>\n",
       "      <td>test</td>\n",
       "      <td>foo</td>\n",
       "    </tr>\n",
       "    <tr>\n",
       "      <th>3</th>\n",
       "      <td>1.0</td>\n",
       "      <td>2013-01-02</td>\n",
       "      <td>1.0</td>\n",
       "      <td>3</td>\n",
       "      <td>train</td>\n",
       "      <td>foo</td>\n",
       "    </tr>\n",
       "  </tbody>\n",
       "</table>\n",
       "</div>"
      ],
      "text/plain": [
       "     A          B    C  D      E    F\n",
       "0  1.0 2013-01-02  1.0  3   test  foo\n",
       "1  1.0 2013-01-02  1.0  3  train  foo\n",
       "2  1.0 2013-01-02  1.0  3   test  foo\n",
       "3  1.0 2013-01-02  1.0  3  train  foo"
      ]
     },
     "execution_count": 156,
     "metadata": {},
     "output_type": "execute_result"
    }
   ],
   "source": [
    "df2 = pd.DataFrame({ 'A' : 1., \n",
    "                    'B' : pd.Timestamp('20130102'),\n",
    "                    'C' : pd.Series(1,index=list(range(4)),dtype='float32'),    \n",
    "                    'D' : np.array([3] * 4,dtype='int32'),\n",
    "                    'E' : pd.Categorical([\"test\",\"train\",\"test\",\"train\"]),\n",
    "                    'F' : 'foo' }) \n",
    "df2"
   ]
  },
  {
   "cell_type": "code",
   "execution_count": 166,
   "metadata": {},
   "outputs": [
    {
     "data": {
      "text/plain": [
       "A            object\n",
       "B    datetime64[ns]\n",
       "C           float32\n",
       "D             int32\n",
       "E          category\n",
       "F            object\n",
       "dtype: object"
      ]
     },
     "execution_count": 166,
     "metadata": {},
     "output_type": "execute_result"
    }
   ],
   "source": [
    "df2.dtypes"
   ]
  },
  {
   "cell_type": "code",
   "execution_count": 165,
   "metadata": {},
   "outputs": [
    {
     "data": {
      "text/html": [
       "<div>\n",
       "<style scoped>\n",
       "    .dataframe tbody tr th:only-of-type {\n",
       "        vertical-align: middle;\n",
       "    }\n",
       "\n",
       "    .dataframe tbody tr th {\n",
       "        vertical-align: top;\n",
       "    }\n",
       "\n",
       "    .dataframe thead th {\n",
       "        text-align: right;\n",
       "    }\n",
       "</style>\n",
       "<table border=\"1\" class=\"dataframe\">\n",
       "  <thead>\n",
       "    <tr style=\"text-align: right;\">\n",
       "      <th></th>\n",
       "      <th>A</th>\n",
       "      <th>B</th>\n",
       "      <th>C</th>\n",
       "      <th>D</th>\n",
       "      <th>E</th>\n",
       "      <th>F</th>\n",
       "    </tr>\n",
       "  </thead>\n",
       "  <tbody>\n",
       "    <tr>\n",
       "      <th>0</th>\n",
       "      <td>ASD</td>\n",
       "      <td>2019-12-14</td>\n",
       "      <td>3.0</td>\n",
       "      <td>3</td>\n",
       "      <td>Ali</td>\n",
       "      <td>qwerrty</td>\n",
       "    </tr>\n",
       "    <tr>\n",
       "      <th>1</th>\n",
       "      <td>ASD</td>\n",
       "      <td>2019-12-14</td>\n",
       "      <td>3.0</td>\n",
       "      <td>3</td>\n",
       "      <td>Adeel</td>\n",
       "      <td>qwerrty</td>\n",
       "    </tr>\n",
       "    <tr>\n",
       "      <th>2</th>\n",
       "      <td>ASD</td>\n",
       "      <td>2019-12-14</td>\n",
       "      <td>3.0</td>\n",
       "      <td>3</td>\n",
       "      <td>Hamza</td>\n",
       "      <td>qwerrty</td>\n",
       "    </tr>\n",
       "    <tr>\n",
       "      <th>3</th>\n",
       "      <td>ASD</td>\n",
       "      <td>2019-12-14</td>\n",
       "      <td>3.0</td>\n",
       "      <td>3</td>\n",
       "      <td>Amir</td>\n",
       "      <td>qwerrty</td>\n",
       "    </tr>\n",
       "    <tr>\n",
       "      <th>4</th>\n",
       "      <td>ASD</td>\n",
       "      <td>2019-12-14</td>\n",
       "      <td>3.0</td>\n",
       "      <td>3</td>\n",
       "      <td>Ashiq</td>\n",
       "      <td>qwerrty</td>\n",
       "    </tr>\n",
       "    <tr>\n",
       "      <th>5</th>\n",
       "      <td>ASD</td>\n",
       "      <td>2019-12-14</td>\n",
       "      <td>3.0</td>\n",
       "      <td>3</td>\n",
       "      <td>Akmal</td>\n",
       "      <td>qwerrty</td>\n",
       "    </tr>\n",
       "    <tr>\n",
       "      <th>6</th>\n",
       "      <td>ASD</td>\n",
       "      <td>2019-12-14</td>\n",
       "      <td>3.0</td>\n",
       "      <td>3</td>\n",
       "      <td>Asghar</td>\n",
       "      <td>qwerrty</td>\n",
       "    </tr>\n",
       "    <tr>\n",
       "      <th>7</th>\n",
       "      <td>ASD</td>\n",
       "      <td>2019-12-14</td>\n",
       "      <td>3.0</td>\n",
       "      <td>3</td>\n",
       "      <td>Ahmar</td>\n",
       "      <td>qwerrty</td>\n",
       "    </tr>\n",
       "  </tbody>\n",
       "</table>\n",
       "</div>"
      ],
      "text/plain": [
       "     A          B    C  D       E        F\n",
       "0  ASD 2019-12-14  3.0  3     Ali  qwerrty\n",
       "1  ASD 2019-12-14  3.0  3   Adeel  qwerrty\n",
       "2  ASD 2019-12-14  3.0  3   Hamza  qwerrty\n",
       "3  ASD 2019-12-14  3.0  3    Amir  qwerrty\n",
       "4  ASD 2019-12-14  3.0  3   Ashiq  qwerrty\n",
       "5  ASD 2019-12-14  3.0  3   Akmal  qwerrty\n",
       "6  ASD 2019-12-14  3.0  3  Asghar  qwerrty\n",
       "7  ASD 2019-12-14  3.0  3   Ahmar  qwerrty"
      ]
     },
     "execution_count": 165,
     "metadata": {},
     "output_type": "execute_result"
    }
   ],
   "source": [
    "df2 = pd.DataFrame({ 'A' : 'ASD', \n",
    "                    'B' : pd.Timestamp('20191214'),\n",
    "                    'C' : pd.Series(3,index=list(range(8)),dtype='float32'),    \n",
    "                    'D' : np.array([3] * 8,dtype='int32'),\n",
    "                    'E' : pd.Categorical([\"Ali\",\"Adeel\",\"Hamza\",\"Amir\",\"Ashiq\",\"Akmal\",\"Asghar\",\"Ahmar\"]),\n",
    "                    'F' : 'qwerrty' }) \n",
    "df2"
   ]
  },
  {
   "cell_type": "code",
   "execution_count": 167,
   "metadata": {},
   "outputs": [
    {
     "data": {
      "text/plain": [
       "A            object\n",
       "B    datetime64[ns]\n",
       "C           float32\n",
       "D             int32\n",
       "E          category\n",
       "F            object\n",
       "dtype: object"
      ]
     },
     "execution_count": 167,
     "metadata": {},
     "output_type": "execute_result"
    }
   ],
   "source": [
    "df2.dtypes"
   ]
  },
  {
   "cell_type": "markdown",
   "metadata": {},
   "source": [
    "### <font color=indigo> 12. Data Viewing</font>\n",
    " "
   ]
  },
  {
   "cell_type": "markdown",
   "metadata": {},
   "source": [
    "* We can view data / display data in different ways\n",
    "* See the top & bottom rows of the frame\n",
    "* Selecting a single column \n",
    "* Selecting via [], which slices the rows For getting a cross section using a label\n",
    "* Selecting on a multi-axis by labe\n",
    "* Showing label slicing, both endpoints are included \n",
    "* Reduction in the dimensions of the returned object \n",
    "* For getting a scalar value For getting fast access to a scalar \n",
    "* Select via the position of the passed integers \n",
    "* By integer slices, acting similar to numpy/python\n",
    "* By lists of integer position locations, similar to the numpy/python style\n",
    "* For slicing rows explicitly For slicing columns explicitly\n",
    "* For getting a value explicitly For getting fast access to a scalar\n",
    "* Using a single column’s values to select data\n",
    "* Selecting values from a DataFrame where a boolean condition is met\n",
    "* Using the isin() method for filtering"
   ]
  },
  {
   "cell_type": "code",
   "execution_count": 169,
   "metadata": {},
   "outputs": [
    {
     "data": {
      "text/html": [
       "<div>\n",
       "<style scoped>\n",
       "    .dataframe tbody tr th:only-of-type {\n",
       "        vertical-align: middle;\n",
       "    }\n",
       "\n",
       "    .dataframe tbody tr th {\n",
       "        vertical-align: top;\n",
       "    }\n",
       "\n",
       "    .dataframe thead th {\n",
       "        text-align: right;\n",
       "    }\n",
       "</style>\n",
       "<table border=\"1\" class=\"dataframe\">\n",
       "  <thead>\n",
       "    <tr style=\"text-align: right;\">\n",
       "      <th></th>\n",
       "      <th>Name</th>\n",
       "      <th>Age</th>\n",
       "    </tr>\n",
       "  </thead>\n",
       "  <tbody>\n",
       "    <tr>\n",
       "      <th>one</th>\n",
       "      <td>Ali</td>\n",
       "      <td>28</td>\n",
       "    </tr>\n",
       "    <tr>\n",
       "      <th>two</th>\n",
       "      <td>Adnan</td>\n",
       "      <td>34</td>\n",
       "    </tr>\n",
       "  </tbody>\n",
       "</table>\n",
       "</div>"
      ],
      "text/plain": [
       "      Name  Age\n",
       "one    Ali   28\n",
       "two  Adnan   34"
      ]
     },
     "execution_count": 169,
     "metadata": {},
     "output_type": "execute_result"
    }
   ],
   "source": [
    "import pandas as pd\n",
    "import numpy as np\n",
    "import matplotlib.pyplot as plt \n",
    "data = {\n",
    "    'Name':['Ali', 'Adnan', 'Akmal', 'Adeel','Asghar','Alam'],\n",
    "    'Age':[28,34,29,42,23,42]\n",
    "}\n",
    "df = pd.DataFrame(data, index=['one','two','three','four','five','six'])\n",
    "pd.DataFrame(df) \n",
    "df.head(2)"
   ]
  },
  {
   "cell_type": "code",
   "execution_count": 170,
   "metadata": {},
   "outputs": [
    {
     "data": {
      "text/html": [
       "<div>\n",
       "<style scoped>\n",
       "    .dataframe tbody tr th:only-of-type {\n",
       "        vertical-align: middle;\n",
       "    }\n",
       "\n",
       "    .dataframe tbody tr th {\n",
       "        vertical-align: top;\n",
       "    }\n",
       "\n",
       "    .dataframe thead th {\n",
       "        text-align: right;\n",
       "    }\n",
       "</style>\n",
       "<table border=\"1\" class=\"dataframe\">\n",
       "  <thead>\n",
       "    <tr style=\"text-align: right;\">\n",
       "      <th></th>\n",
       "      <th>Name</th>\n",
       "      <th>Age</th>\n",
       "    </tr>\n",
       "  </thead>\n",
       "  <tbody>\n",
       "    <tr>\n",
       "      <th>five</th>\n",
       "      <td>Asghar</td>\n",
       "      <td>23</td>\n",
       "    </tr>\n",
       "    <tr>\n",
       "      <th>six</th>\n",
       "      <td>Alam</td>\n",
       "      <td>42</td>\n",
       "    </tr>\n",
       "  </tbody>\n",
       "</table>\n",
       "</div>"
      ],
      "text/plain": [
       "        Name  Age\n",
       "five  Asghar   23\n",
       "six     Alam   42"
      ]
     },
     "execution_count": 170,
     "metadata": {},
     "output_type": "execute_result"
    }
   ],
   "source": [
    " \n",
    "df.tail(2)"
   ]
  },
  {
   "cell_type": "code",
   "execution_count": 171,
   "metadata": {},
   "outputs": [
    {
     "data": {
      "text/plain": [
       "Index(['one', 'two', 'three', 'four', 'five', 'six'], dtype='object')"
      ]
     },
     "execution_count": 171,
     "metadata": {},
     "output_type": "execute_result"
    }
   ],
   "source": [
    "df.index"
   ]
  },
  {
   "cell_type": "code",
   "execution_count": 172,
   "metadata": {},
   "outputs": [
    {
     "data": {
      "text/plain": [
       "Index(['Name', 'Age'], dtype='object')"
      ]
     },
     "execution_count": 172,
     "metadata": {},
     "output_type": "execute_result"
    }
   ],
   "source": [
    "df.columns"
   ]
  },
  {
   "cell_type": "code",
   "execution_count": 173,
   "metadata": {},
   "outputs": [
    {
     "data": {
      "text/plain": [
       "array([['Ali', 28],\n",
       "       ['Adnan', 34],\n",
       "       ['Akmal', 29],\n",
       "       ['Adeel', 42],\n",
       "       ['Asghar', 23],\n",
       "       ['Alam', 42]], dtype=object)"
      ]
     },
     "execution_count": 173,
     "metadata": {},
     "output_type": "execute_result"
    }
   ],
   "source": [
    "df.values"
   ]
  },
  {
   "cell_type": "code",
   "execution_count": 174,
   "metadata": {},
   "outputs": [
    {
     "data": {
      "text/html": [
       "<div>\n",
       "<style scoped>\n",
       "    .dataframe tbody tr th:only-of-type {\n",
       "        vertical-align: middle;\n",
       "    }\n",
       "\n",
       "    .dataframe tbody tr th {\n",
       "        vertical-align: top;\n",
       "    }\n",
       "\n",
       "    .dataframe thead th {\n",
       "        text-align: right;\n",
       "    }\n",
       "</style>\n",
       "<table border=\"1\" class=\"dataframe\">\n",
       "  <thead>\n",
       "    <tr style=\"text-align: right;\">\n",
       "      <th></th>\n",
       "      <th>one</th>\n",
       "      <th>two</th>\n",
       "      <th>three</th>\n",
       "      <th>four</th>\n",
       "      <th>five</th>\n",
       "      <th>six</th>\n",
       "    </tr>\n",
       "  </thead>\n",
       "  <tbody>\n",
       "    <tr>\n",
       "      <th>Name</th>\n",
       "      <td>Ali</td>\n",
       "      <td>Adnan</td>\n",
       "      <td>Akmal</td>\n",
       "      <td>Adeel</td>\n",
       "      <td>Asghar</td>\n",
       "      <td>Alam</td>\n",
       "    </tr>\n",
       "    <tr>\n",
       "      <th>Age</th>\n",
       "      <td>28</td>\n",
       "      <td>34</td>\n",
       "      <td>29</td>\n",
       "      <td>42</td>\n",
       "      <td>23</td>\n",
       "      <td>42</td>\n",
       "    </tr>\n",
       "  </tbody>\n",
       "</table>\n",
       "</div>"
      ],
      "text/plain": [
       "      one    two  three   four    five   six\n",
       "Name  Ali  Adnan  Akmal  Adeel  Asghar  Alam\n",
       "Age    28     34     29     42      23    42"
      ]
     },
     "execution_count": 174,
     "metadata": {},
     "output_type": "execute_result"
    }
   ],
   "source": [
    "df.T"
   ]
  },
  {
   "cell_type": "code",
   "execution_count": 175,
   "metadata": {},
   "outputs": [
    {
     "data": {
      "text/html": [
       "<div>\n",
       "<style scoped>\n",
       "    .dataframe tbody tr th:only-of-type {\n",
       "        vertical-align: middle;\n",
       "    }\n",
       "\n",
       "    .dataframe tbody tr th {\n",
       "        vertical-align: top;\n",
       "    }\n",
       "\n",
       "    .dataframe thead th {\n",
       "        text-align: right;\n",
       "    }\n",
       "</style>\n",
       "<table border=\"1\" class=\"dataframe\">\n",
       "  <thead>\n",
       "    <tr style=\"text-align: right;\">\n",
       "      <th></th>\n",
       "      <th>Name</th>\n",
       "      <th>Age</th>\n",
       "    </tr>\n",
       "  </thead>\n",
       "  <tbody>\n",
       "    <tr>\n",
       "      <th>two</th>\n",
       "      <td>Adnan</td>\n",
       "      <td>34</td>\n",
       "    </tr>\n",
       "    <tr>\n",
       "      <th>three</th>\n",
       "      <td>Akmal</td>\n",
       "      <td>29</td>\n",
       "    </tr>\n",
       "    <tr>\n",
       "      <th>six</th>\n",
       "      <td>Alam</td>\n",
       "      <td>42</td>\n",
       "    </tr>\n",
       "    <tr>\n",
       "      <th>one</th>\n",
       "      <td>Ali</td>\n",
       "      <td>28</td>\n",
       "    </tr>\n",
       "    <tr>\n",
       "      <th>four</th>\n",
       "      <td>Adeel</td>\n",
       "      <td>42</td>\n",
       "    </tr>\n",
       "    <tr>\n",
       "      <th>five</th>\n",
       "      <td>Asghar</td>\n",
       "      <td>23</td>\n",
       "    </tr>\n",
       "  </tbody>\n",
       "</table>\n",
       "</div>"
      ],
      "text/plain": [
       "         Name  Age\n",
       "two     Adnan   34\n",
       "three   Akmal   29\n",
       "six      Alam   42\n",
       "one       Ali   28\n",
       "four    Adeel   42\n",
       "five   Asghar   23"
      ]
     },
     "execution_count": 175,
     "metadata": {},
     "output_type": "execute_result"
    }
   ],
   "source": [
    "df.sort_index(axis=0, ascending=False)"
   ]
  },
  {
   "cell_type": "code",
   "execution_count": 176,
   "metadata": {},
   "outputs": [
    {
     "data": {
      "text/html": [
       "<div>\n",
       "<style scoped>\n",
       "    .dataframe tbody tr th:only-of-type {\n",
       "        vertical-align: middle;\n",
       "    }\n",
       "\n",
       "    .dataframe tbody tr th {\n",
       "        vertical-align: top;\n",
       "    }\n",
       "\n",
       "    .dataframe thead th {\n",
       "        text-align: right;\n",
       "    }\n",
       "</style>\n",
       "<table border=\"1\" class=\"dataframe\">\n",
       "  <thead>\n",
       "    <tr style=\"text-align: right;\">\n",
       "      <th></th>\n",
       "      <th>Name</th>\n",
       "      <th>Age</th>\n",
       "    </tr>\n",
       "  </thead>\n",
       "  <tbody>\n",
       "    <tr>\n",
       "      <th>five</th>\n",
       "      <td>Asghar</td>\n",
       "      <td>23</td>\n",
       "    </tr>\n",
       "    <tr>\n",
       "      <th>one</th>\n",
       "      <td>Ali</td>\n",
       "      <td>28</td>\n",
       "    </tr>\n",
       "    <tr>\n",
       "      <th>three</th>\n",
       "      <td>Akmal</td>\n",
       "      <td>29</td>\n",
       "    </tr>\n",
       "    <tr>\n",
       "      <th>two</th>\n",
       "      <td>Adnan</td>\n",
       "      <td>34</td>\n",
       "    </tr>\n",
       "    <tr>\n",
       "      <th>four</th>\n",
       "      <td>Adeel</td>\n",
       "      <td>42</td>\n",
       "    </tr>\n",
       "    <tr>\n",
       "      <th>six</th>\n",
       "      <td>Alam</td>\n",
       "      <td>42</td>\n",
       "    </tr>\n",
       "  </tbody>\n",
       "</table>\n",
       "</div>"
      ],
      "text/plain": [
       "         Name  Age\n",
       "five   Asghar   23\n",
       "one       Ali   28\n",
       "three   Akmal   29\n",
       "two     Adnan   34\n",
       "four    Adeel   42\n",
       "six      Alam   42"
      ]
     },
     "execution_count": 176,
     "metadata": {},
     "output_type": "execute_result"
    }
   ],
   "source": [
    "df.sort_values(by='Age')"
   ]
  },
  {
   "cell_type": "code",
   "execution_count": 177,
   "metadata": {},
   "outputs": [
    {
     "data": {
      "text/html": [
       "<div>\n",
       "<style scoped>\n",
       "    .dataframe tbody tr th:only-of-type {\n",
       "        vertical-align: middle;\n",
       "    }\n",
       "\n",
       "    .dataframe tbody tr th {\n",
       "        vertical-align: top;\n",
       "    }\n",
       "\n",
       "    .dataframe thead th {\n",
       "        text-align: right;\n",
       "    }\n",
       "</style>\n",
       "<table border=\"1\" class=\"dataframe\">\n",
       "  <thead>\n",
       "    <tr style=\"text-align: right;\">\n",
       "      <th></th>\n",
       "      <th>Name</th>\n",
       "      <th>Age</th>\n",
       "    </tr>\n",
       "  </thead>\n",
       "  <tbody>\n",
       "    <tr>\n",
       "      <th>four</th>\n",
       "      <td>Adeel</td>\n",
       "      <td>42</td>\n",
       "    </tr>\n",
       "    <tr>\n",
       "      <th>two</th>\n",
       "      <td>Adnan</td>\n",
       "      <td>34</td>\n",
       "    </tr>\n",
       "    <tr>\n",
       "      <th>three</th>\n",
       "      <td>Akmal</td>\n",
       "      <td>29</td>\n",
       "    </tr>\n",
       "    <tr>\n",
       "      <th>six</th>\n",
       "      <td>Alam</td>\n",
       "      <td>42</td>\n",
       "    </tr>\n",
       "    <tr>\n",
       "      <th>one</th>\n",
       "      <td>Ali</td>\n",
       "      <td>28</td>\n",
       "    </tr>\n",
       "    <tr>\n",
       "      <th>five</th>\n",
       "      <td>Asghar</td>\n",
       "      <td>23</td>\n",
       "    </tr>\n",
       "  </tbody>\n",
       "</table>\n",
       "</div>"
      ],
      "text/plain": [
       "         Name  Age\n",
       "four    Adeel   42\n",
       "two     Adnan   34\n",
       "three   Akmal   29\n",
       "six      Alam   42\n",
       "one       Ali   28\n",
       "five   Asghar   23"
      ]
     },
     "execution_count": 177,
     "metadata": {},
     "output_type": "execute_result"
    }
   ],
   "source": [
    "\n",
    "df.sort_values(by='Name')"
   ]
  },
  {
   "cell_type": "code",
   "execution_count": 178,
   "metadata": {},
   "outputs": [
    {
     "data": {
      "text/html": [
       "<div>\n",
       "<style scoped>\n",
       "    .dataframe tbody tr th:only-of-type {\n",
       "        vertical-align: middle;\n",
       "    }\n",
       "\n",
       "    .dataframe tbody tr th {\n",
       "        vertical-align: top;\n",
       "    }\n",
       "\n",
       "    .dataframe thead th {\n",
       "        text-align: right;\n",
       "    }\n",
       "</style>\n",
       "<table border=\"1\" class=\"dataframe\">\n",
       "  <thead>\n",
       "    <tr style=\"text-align: right;\">\n",
       "      <th></th>\n",
       "      <th>Age</th>\n",
       "    </tr>\n",
       "  </thead>\n",
       "  <tbody>\n",
       "    <tr>\n",
       "      <th>count</th>\n",
       "      <td>6.000000</td>\n",
       "    </tr>\n",
       "    <tr>\n",
       "      <th>mean</th>\n",
       "      <td>33.000000</td>\n",
       "    </tr>\n",
       "    <tr>\n",
       "      <th>std</th>\n",
       "      <td>7.797435</td>\n",
       "    </tr>\n",
       "    <tr>\n",
       "      <th>min</th>\n",
       "      <td>23.000000</td>\n",
       "    </tr>\n",
       "    <tr>\n",
       "      <th>25%</th>\n",
       "      <td>28.250000</td>\n",
       "    </tr>\n",
       "    <tr>\n",
       "      <th>50%</th>\n",
       "      <td>31.500000</td>\n",
       "    </tr>\n",
       "    <tr>\n",
       "      <th>75%</th>\n",
       "      <td>40.000000</td>\n",
       "    </tr>\n",
       "    <tr>\n",
       "      <th>max</th>\n",
       "      <td>42.000000</td>\n",
       "    </tr>\n",
       "  </tbody>\n",
       "</table>\n",
       "</div>"
      ],
      "text/plain": [
       "             Age\n",
       "count   6.000000\n",
       "mean   33.000000\n",
       "std     7.797435\n",
       "min    23.000000\n",
       "25%    28.250000\n",
       "50%    31.500000\n",
       "75%    40.000000\n",
       "max    42.000000"
      ]
     },
     "execution_count": 178,
     "metadata": {},
     "output_type": "execute_result"
    }
   ],
   "source": [
    "# Describe shows a quick statistic summary of your data \n",
    "df.describe() "
   ]
  },
  {
   "cell_type": "code",
   "execution_count": 179,
   "metadata": {},
   "outputs": [
    {
     "data": {
      "text/plain": [
       "one      28\n",
       "two      34\n",
       "three    29\n",
       "four     42\n",
       "five     23\n",
       "six      42\n",
       "Name: Age, dtype: int64"
      ]
     },
     "execution_count": 179,
     "metadata": {},
     "output_type": "execute_result"
    }
   ],
   "source": [
    "#Selecting a single column, which yields a Series, equivalent to df.Age\n",
    "df['Age'] "
   ]
  },
  {
   "cell_type": "code",
   "execution_count": 180,
   "metadata": {},
   "outputs": [
    {
     "data": {
      "text/html": [
       "<div>\n",
       "<style scoped>\n",
       "    .dataframe tbody tr th:only-of-type {\n",
       "        vertical-align: middle;\n",
       "    }\n",
       "\n",
       "    .dataframe tbody tr th {\n",
       "        vertical-align: top;\n",
       "    }\n",
       "\n",
       "    .dataframe thead th {\n",
       "        text-align: right;\n",
       "    }\n",
       "</style>\n",
       "<table border=\"1\" class=\"dataframe\">\n",
       "  <thead>\n",
       "    <tr style=\"text-align: right;\">\n",
       "      <th></th>\n",
       "      <th>Name</th>\n",
       "      <th>Age</th>\n",
       "    </tr>\n",
       "  </thead>\n",
       "  <tbody>\n",
       "    <tr>\n",
       "      <th>three</th>\n",
       "      <td>Akmal</td>\n",
       "      <td>29</td>\n",
       "    </tr>\n",
       "    <tr>\n",
       "      <th>four</th>\n",
       "      <td>Adeel</td>\n",
       "      <td>42</td>\n",
       "    </tr>\n",
       "  </tbody>\n",
       "</table>\n",
       "</div>"
      ],
      "text/plain": [
       "        Name  Age\n",
       "three  Akmal   29\n",
       "four   Adeel   42"
      ]
     },
     "execution_count": 180,
     "metadata": {},
     "output_type": "execute_result"
    }
   ],
   "source": [
    "#Selecting via [], which slices the rows. df[0:3] \n",
    "df[2:4]"
   ]
  },
  {
   "cell_type": "code",
   "execution_count": 181,
   "metadata": {},
   "outputs": [
    {
     "data": {
      "text/html": [
       "<div>\n",
       "<style scoped>\n",
       "    .dataframe tbody tr th:only-of-type {\n",
       "        vertical-align: middle;\n",
       "    }\n",
       "\n",
       "    .dataframe tbody tr th {\n",
       "        vertical-align: top;\n",
       "    }\n",
       "\n",
       "    .dataframe thead th {\n",
       "        text-align: right;\n",
       "    }\n",
       "</style>\n",
       "<table border=\"1\" class=\"dataframe\">\n",
       "  <thead>\n",
       "    <tr style=\"text-align: right;\">\n",
       "      <th></th>\n",
       "      <th>Name</th>\n",
       "      <th>Age</th>\n",
       "    </tr>\n",
       "  </thead>\n",
       "  <tbody>\n",
       "    <tr>\n",
       "      <th>two</th>\n",
       "      <td>Adnan</td>\n",
       "      <td>34</td>\n",
       "    </tr>\n",
       "    <tr>\n",
       "      <th>three</th>\n",
       "      <td>Akmal</td>\n",
       "      <td>29</td>\n",
       "    </tr>\n",
       "    <tr>\n",
       "      <th>four</th>\n",
       "      <td>Adeel</td>\n",
       "      <td>42</td>\n",
       "    </tr>\n",
       "    <tr>\n",
       "      <th>five</th>\n",
       "      <td>Asghar</td>\n",
       "      <td>23</td>\n",
       "    </tr>\n",
       "  </tbody>\n",
       "</table>\n",
       "</div>"
      ],
      "text/plain": [
       "         Name  Age\n",
       "two     Adnan   34\n",
       "three   Akmal   29\n",
       "four    Adeel   42\n",
       "five   Asghar   23"
      ]
     },
     "execution_count": 181,
     "metadata": {},
     "output_type": "execute_result"
    }
   ],
   "source": [
    "df['two':'five'] "
   ]
  },
  {
   "cell_type": "code",
   "execution_count": 182,
   "metadata": {},
   "outputs": [
    {
     "data": {
      "text/html": [
       "<div>\n",
       "<style scoped>\n",
       "    .dataframe tbody tr th:only-of-type {\n",
       "        vertical-align: middle;\n",
       "    }\n",
       "\n",
       "    .dataframe tbody tr th {\n",
       "        vertical-align: top;\n",
       "    }\n",
       "\n",
       "    .dataframe thead th {\n",
       "        text-align: right;\n",
       "    }\n",
       "</style>\n",
       "<table border=\"1\" class=\"dataframe\">\n",
       "  <thead>\n",
       "    <tr style=\"text-align: right;\">\n",
       "      <th></th>\n",
       "      <th>Name</th>\n",
       "      <th>Age</th>\n",
       "    </tr>\n",
       "  </thead>\n",
       "  <tbody>\n",
       "    <tr>\n",
       "      <th>one</th>\n",
       "      <td>Ali</td>\n",
       "      <td>28</td>\n",
       "    </tr>\n",
       "    <tr>\n",
       "      <th>two</th>\n",
       "      <td>Adnan</td>\n",
       "      <td>34</td>\n",
       "    </tr>\n",
       "    <tr>\n",
       "      <th>three</th>\n",
       "      <td>Akmal</td>\n",
       "      <td>29</td>\n",
       "    </tr>\n",
       "    <tr>\n",
       "      <th>four</th>\n",
       "      <td>Adeel</td>\n",
       "      <td>42</td>\n",
       "    </tr>\n",
       "    <tr>\n",
       "      <th>five</th>\n",
       "      <td>Asghar</td>\n",
       "      <td>23</td>\n",
       "    </tr>\n",
       "    <tr>\n",
       "      <th>six</th>\n",
       "      <td>Alam</td>\n",
       "      <td>42</td>\n",
       "    </tr>\n",
       "  </tbody>\n",
       "</table>\n",
       "</div>"
      ],
      "text/plain": [
       "         Name  Age\n",
       "one       Ali   28\n",
       "two     Adnan   34\n",
       "three   Akmal   29\n",
       "four    Adeel   42\n",
       "five   Asghar   23\n",
       "six      Alam   42"
      ]
     },
     "execution_count": 182,
     "metadata": {},
     "output_type": "execute_result"
    }
   ],
   "source": [
    "#Selecting on a multi-axis by label \n",
    "df.loc[:,['Name','Age']] \n",
    " "
   ]
  },
  {
   "cell_type": "code",
   "execution_count": 183,
   "metadata": {},
   "outputs": [
    {
     "data": {
      "text/html": [
       "<div>\n",
       "<style scoped>\n",
       "    .dataframe tbody tr th:only-of-type {\n",
       "        vertical-align: middle;\n",
       "    }\n",
       "\n",
       "    .dataframe tbody tr th {\n",
       "        vertical-align: top;\n",
       "    }\n",
       "\n",
       "    .dataframe thead th {\n",
       "        text-align: right;\n",
       "    }\n",
       "</style>\n",
       "<table border=\"1\" class=\"dataframe\">\n",
       "  <thead>\n",
       "    <tr style=\"text-align: right;\">\n",
       "      <th></th>\n",
       "      <th>Name</th>\n",
       "    </tr>\n",
       "  </thead>\n",
       "  <tbody>\n",
       "    <tr>\n",
       "      <th>one</th>\n",
       "      <td>Ali</td>\n",
       "    </tr>\n",
       "    <tr>\n",
       "      <th>two</th>\n",
       "      <td>Adnan</td>\n",
       "    </tr>\n",
       "    <tr>\n",
       "      <th>three</th>\n",
       "      <td>Akmal</td>\n",
       "    </tr>\n",
       "    <tr>\n",
       "      <th>four</th>\n",
       "      <td>Adeel</td>\n",
       "    </tr>\n",
       "    <tr>\n",
       "      <th>five</th>\n",
       "      <td>Asghar</td>\n",
       "    </tr>\n",
       "    <tr>\n",
       "      <th>six</th>\n",
       "      <td>Alam</td>\n",
       "    </tr>\n",
       "  </tbody>\n",
       "</table>\n",
       "</div>"
      ],
      "text/plain": [
       "         Name\n",
       "one       Ali\n",
       "two     Adnan\n",
       "three   Akmal\n",
       "four    Adeel\n",
       "five   Asghar\n",
       "six      Alam"
      ]
     },
     "execution_count": 183,
     "metadata": {},
     "output_type": "execute_result"
    }
   ],
   "source": [
    "#Selecting on a multi-axis by label \n",
    "df.loc[:,['Name']] \n",
    " "
   ]
  },
  {
   "cell_type": "code",
   "execution_count": 184,
   "metadata": {},
   "outputs": [
    {
     "data": {
      "text/html": [
       "<div>\n",
       "<style scoped>\n",
       "    .dataframe tbody tr th:only-of-type {\n",
       "        vertical-align: middle;\n",
       "    }\n",
       "\n",
       "    .dataframe tbody tr th {\n",
       "        vertical-align: top;\n",
       "    }\n",
       "\n",
       "    .dataframe thead th {\n",
       "        text-align: right;\n",
       "    }\n",
       "</style>\n",
       "<table border=\"1\" class=\"dataframe\">\n",
       "  <thead>\n",
       "    <tr style=\"text-align: right;\">\n",
       "      <th></th>\n",
       "      <th>Age</th>\n",
       "    </tr>\n",
       "  </thead>\n",
       "  <tbody>\n",
       "    <tr>\n",
       "      <th>three</th>\n",
       "      <td>29</td>\n",
       "    </tr>\n",
       "    <tr>\n",
       "      <th>four</th>\n",
       "      <td>42</td>\n",
       "    </tr>\n",
       "    <tr>\n",
       "      <th>five</th>\n",
       "      <td>23</td>\n",
       "    </tr>\n",
       "  </tbody>\n",
       "</table>\n",
       "</div>"
      ],
      "text/plain": [
       "       Age\n",
       "three   29\n",
       "four    42\n",
       "five    23"
      ]
     },
     "execution_count": 184,
     "metadata": {},
     "output_type": "execute_result"
    }
   ],
   "source": [
    "#Showing label slicing, both endpoints are included \n",
    "df.loc['three':'five',['Age']] \n",
    " "
   ]
  },
  {
   "cell_type": "code",
   "execution_count": 185,
   "metadata": {},
   "outputs": [
    {
     "data": {
      "text/plain": [
       "Name    Adnan\n",
       "Age        34\n",
       "Name: two, dtype: object"
      ]
     },
     "execution_count": 185,
     "metadata": {},
     "output_type": "execute_result"
    }
   ],
   "source": [
    "# Reduction in the dimensions of the returned object \n",
    "df.loc['two',['Name','Age']] "
   ]
  },
  {
   "cell_type": "code",
   "execution_count": 186,
   "metadata": {},
   "outputs": [
    {
     "data": {
      "text/plain": [
       "Name    Asghar\n",
       "Age         23\n",
       "Name: five, dtype: object"
      ]
     },
     "execution_count": 186,
     "metadata": {},
     "output_type": "execute_result"
    }
   ],
   "source": [
    "# Select via the position of the passed integers \n",
    "df.iloc[4] "
   ]
  },
  {
   "cell_type": "code",
   "execution_count": 187,
   "metadata": {},
   "outputs": [
    {
     "data": {
      "text/html": [
       "<div>\n",
       "<style scoped>\n",
       "    .dataframe tbody tr th:only-of-type {\n",
       "        vertical-align: middle;\n",
       "    }\n",
       "\n",
       "    .dataframe tbody tr th {\n",
       "        vertical-align: top;\n",
       "    }\n",
       "\n",
       "    .dataframe thead th {\n",
       "        text-align: right;\n",
       "    }\n",
       "</style>\n",
       "<table border=\"1\" class=\"dataframe\">\n",
       "  <thead>\n",
       "    <tr style=\"text-align: right;\">\n",
       "      <th></th>\n",
       "      <th>Name</th>\n",
       "      <th>Age</th>\n",
       "    </tr>\n",
       "  </thead>\n",
       "  <tbody>\n",
       "    <tr>\n",
       "      <th>three</th>\n",
       "      <td>Akmal</td>\n",
       "      <td>29</td>\n",
       "    </tr>\n",
       "    <tr>\n",
       "      <th>four</th>\n",
       "      <td>Adeel</td>\n",
       "      <td>42</td>\n",
       "    </tr>\n",
       "  </tbody>\n",
       "</table>\n",
       "</div>"
      ],
      "text/plain": [
       "        Name  Age\n",
       "three  Akmal   29\n",
       "four   Adeel   42"
      ]
     },
     "execution_count": 187,
     "metadata": {},
     "output_type": "execute_result"
    }
   ],
   "source": [
    "# By integer slices, acting similar to numpy/python \n",
    "df.iloc[2:4,0:2] "
   ]
  },
  {
   "cell_type": "code",
   "execution_count": 188,
   "metadata": {},
   "outputs": [
    {
     "data": {
      "text/html": [
       "<div>\n",
       "<style scoped>\n",
       "    .dataframe tbody tr th:only-of-type {\n",
       "        vertical-align: middle;\n",
       "    }\n",
       "\n",
       "    .dataframe tbody tr th {\n",
       "        vertical-align: top;\n",
       "    }\n",
       "\n",
       "    .dataframe thead th {\n",
       "        text-align: right;\n",
       "    }\n",
       "</style>\n",
       "<table border=\"1\" class=\"dataframe\">\n",
       "  <thead>\n",
       "    <tr style=\"text-align: right;\">\n",
       "      <th></th>\n",
       "      <th>Name</th>\n",
       "    </tr>\n",
       "  </thead>\n",
       "  <tbody>\n",
       "    <tr>\n",
       "      <th>one</th>\n",
       "      <td>Ali</td>\n",
       "    </tr>\n",
       "    <tr>\n",
       "      <th>two</th>\n",
       "      <td>Adnan</td>\n",
       "    </tr>\n",
       "    <tr>\n",
       "      <th>three</th>\n",
       "      <td>Akmal</td>\n",
       "    </tr>\n",
       "    <tr>\n",
       "      <th>four</th>\n",
       "      <td>Adeel</td>\n",
       "    </tr>\n",
       "    <tr>\n",
       "      <th>five</th>\n",
       "      <td>Asghar</td>\n",
       "    </tr>\n",
       "    <tr>\n",
       "      <th>six</th>\n",
       "      <td>Alam</td>\n",
       "    </tr>\n",
       "  </tbody>\n",
       "</table>\n",
       "</div>"
      ],
      "text/plain": [
       "         Name\n",
       "one       Ali\n",
       "two     Adnan\n",
       "three   Akmal\n",
       "four    Adeel\n",
       "five   Asghar\n",
       "six      Alam"
      ]
     },
     "execution_count": 188,
     "metadata": {},
     "output_type": "execute_result"
    }
   ],
   "source": [
    "# For slicing rows explicitly \n",
    "df.iloc[:,0:1] \n"
   ]
  },
  {
   "cell_type": "code",
   "execution_count": 189,
   "metadata": {},
   "outputs": [
    {
     "data": {
      "text/html": [
       "<div>\n",
       "<style scoped>\n",
       "    .dataframe tbody tr th:only-of-type {\n",
       "        vertical-align: middle;\n",
       "    }\n",
       "\n",
       "    .dataframe tbody tr th {\n",
       "        vertical-align: top;\n",
       "    }\n",
       "\n",
       "    .dataframe thead th {\n",
       "        text-align: right;\n",
       "    }\n",
       "</style>\n",
       "<table border=\"1\" class=\"dataframe\">\n",
       "  <thead>\n",
       "    <tr style=\"text-align: right;\">\n",
       "      <th></th>\n",
       "      <th>Age</th>\n",
       "    </tr>\n",
       "  </thead>\n",
       "  <tbody>\n",
       "    <tr>\n",
       "      <th>one</th>\n",
       "      <td>28</td>\n",
       "    </tr>\n",
       "    <tr>\n",
       "      <th>two</th>\n",
       "      <td>34</td>\n",
       "    </tr>\n",
       "    <tr>\n",
       "      <th>three</th>\n",
       "      <td>29</td>\n",
       "    </tr>\n",
       "    <tr>\n",
       "      <th>four</th>\n",
       "      <td>42</td>\n",
       "    </tr>\n",
       "    <tr>\n",
       "      <th>five</th>\n",
       "      <td>23</td>\n",
       "    </tr>\n",
       "    <tr>\n",
       "      <th>six</th>\n",
       "      <td>42</td>\n",
       "    </tr>\n",
       "  </tbody>\n",
       "</table>\n",
       "</div>"
      ],
      "text/plain": [
       "       Age\n",
       "one     28\n",
       "two     34\n",
       "three   29\n",
       "four    42\n",
       "five    23\n",
       "six     42"
      ]
     },
     "execution_count": 189,
     "metadata": {},
     "output_type": "execute_result"
    }
   ],
   "source": [
    "# For slicing rows explicitly \n",
    "df.iloc[:,1:] \n"
   ]
  },
  {
   "cell_type": "code",
   "execution_count": 190,
   "metadata": {},
   "outputs": [
    {
     "data": {
      "text/plain": [
       "23"
      ]
     },
     "execution_count": 190,
     "metadata": {},
     "output_type": "execute_result"
    }
   ],
   "source": [
    "# For getting a value explicitly \n",
    "df.iloc[4,1] \n"
   ]
  },
  {
   "cell_type": "code",
   "execution_count": 191,
   "metadata": {},
   "outputs": [
    {
     "data": {
      "text/plain": [
       "'Asghar'"
      ]
     },
     "execution_count": 191,
     "metadata": {},
     "output_type": "execute_result"
    }
   ],
   "source": [
    "# For getting a value explicitly \n",
    "df.iloc[4,0] \n"
   ]
  },
  {
   "cell_type": "code",
   "execution_count": 192,
   "metadata": {},
   "outputs": [
    {
     "data": {
      "text/html": [
       "<div>\n",
       "<style scoped>\n",
       "    .dataframe tbody tr th:only-of-type {\n",
       "        vertical-align: middle;\n",
       "    }\n",
       "\n",
       "    .dataframe tbody tr th {\n",
       "        vertical-align: top;\n",
       "    }\n",
       "\n",
       "    .dataframe thead th {\n",
       "        text-align: right;\n",
       "    }\n",
       "</style>\n",
       "<table border=\"1\" class=\"dataframe\">\n",
       "  <thead>\n",
       "    <tr style=\"text-align: right;\">\n",
       "      <th></th>\n",
       "      <th>Name</th>\n",
       "      <th>Age</th>\n",
       "    </tr>\n",
       "  </thead>\n",
       "  <tbody>\n",
       "    <tr>\n",
       "      <th>two</th>\n",
       "      <td>Adnan</td>\n",
       "      <td>34</td>\n",
       "    </tr>\n",
       "    <tr>\n",
       "      <th>four</th>\n",
       "      <td>Adeel</td>\n",
       "      <td>42</td>\n",
       "    </tr>\n",
       "    <tr>\n",
       "      <th>six</th>\n",
       "      <td>Alam</td>\n",
       "      <td>42</td>\n",
       "    </tr>\n",
       "  </tbody>\n",
       "</table>\n",
       "</div>"
      ],
      "text/plain": [
       "       Name  Age\n",
       "two   Adnan   34\n",
       "four  Adeel   42\n",
       "six    Alam   42"
      ]
     },
     "execution_count": 192,
     "metadata": {},
     "output_type": "execute_result"
    }
   ],
   "source": [
    "# Using a single column’s values to select data. \n",
    "df[df.Age > 33] "
   ]
  },
  {
   "cell_type": "code",
   "execution_count": 193,
   "metadata": {},
   "outputs": [
    {
     "data": {
      "text/html": [
       "<div>\n",
       "<style scoped>\n",
       "    .dataframe tbody tr th:only-of-type {\n",
       "        vertical-align: middle;\n",
       "    }\n",
       "\n",
       "    .dataframe tbody tr th {\n",
       "        vertical-align: top;\n",
       "    }\n",
       "\n",
       "    .dataframe thead th {\n",
       "        text-align: right;\n",
       "    }\n",
       "</style>\n",
       "<table border=\"1\" class=\"dataframe\">\n",
       "  <thead>\n",
       "    <tr style=\"text-align: right;\">\n",
       "      <th></th>\n",
       "      <th>Name</th>\n",
       "      <th>Age</th>\n",
       "    </tr>\n",
       "  </thead>\n",
       "  <tbody>\n",
       "    <tr>\n",
       "      <th>one</th>\n",
       "      <td>Ali</td>\n",
       "      <td>28</td>\n",
       "    </tr>\n",
       "    <tr>\n",
       "      <th>two</th>\n",
       "      <td>Adnan</td>\n",
       "      <td>34</td>\n",
       "    </tr>\n",
       "    <tr>\n",
       "      <th>three</th>\n",
       "      <td>Akmal</td>\n",
       "      <td>29</td>\n",
       "    </tr>\n",
       "    <tr>\n",
       "      <th>four</th>\n",
       "      <td>Adeel</td>\n",
       "      <td>42</td>\n",
       "    </tr>\n",
       "    <tr>\n",
       "      <th>five</th>\n",
       "      <td>Asghar</td>\n",
       "      <td>23</td>\n",
       "    </tr>\n",
       "    <tr>\n",
       "      <th>six</th>\n",
       "      <td>Alam</td>\n",
       "      <td>42</td>\n",
       "    </tr>\n",
       "  </tbody>\n",
       "</table>\n",
       "</div>"
      ],
      "text/plain": [
       "         Name  Age\n",
       "one       Ali   28\n",
       "two     Adnan   34\n",
       "three   Akmal   29\n",
       "four    Adeel   42\n",
       "five   Asghar   23\n",
       "six      Alam   42"
      ]
     },
     "execution_count": 193,
     "metadata": {},
     "output_type": "execute_result"
    }
   ],
   "source": [
    "# Selecting values from a DataFrame where a boolean condition is met.\n",
    "df[df > 1]"
   ]
  },
  {
   "cell_type": "code",
   "execution_count": 194,
   "metadata": {},
   "outputs": [
    {
     "data": {
      "text/html": [
       "<div>\n",
       "<style scoped>\n",
       "    .dataframe tbody tr th:only-of-type {\n",
       "        vertical-align: middle;\n",
       "    }\n",
       "\n",
       "    .dataframe tbody tr th {\n",
       "        vertical-align: top;\n",
       "    }\n",
       "\n",
       "    .dataframe thead th {\n",
       "        text-align: right;\n",
       "    }\n",
       "</style>\n",
       "<table border=\"1\" class=\"dataframe\">\n",
       "  <thead>\n",
       "    <tr style=\"text-align: right;\">\n",
       "      <th></th>\n",
       "      <th>Name</th>\n",
       "      <th>Age</th>\n",
       "    </tr>\n",
       "  </thead>\n",
       "  <tbody>\n",
       "    <tr>\n",
       "      <th>one</th>\n",
       "      <td>Ali</td>\n",
       "      <td>28</td>\n",
       "    </tr>\n",
       "    <tr>\n",
       "      <th>two</th>\n",
       "      <td>Adnan</td>\n",
       "      <td>34</td>\n",
       "    </tr>\n",
       "    <tr>\n",
       "      <th>three</th>\n",
       "      <td>Akmal</td>\n",
       "      <td>29</td>\n",
       "    </tr>\n",
       "    <tr>\n",
       "      <th>four</th>\n",
       "      <td>Adeel</td>\n",
       "      <td>42</td>\n",
       "    </tr>\n",
       "    <tr>\n",
       "      <th>five</th>\n",
       "      <td>Asghar</td>\n",
       "      <td>23</td>\n",
       "    </tr>\n",
       "    <tr>\n",
       "      <th>six</th>\n",
       "      <td>Alam</td>\n",
       "      <td>42</td>\n",
       "    </tr>\n",
       "  </tbody>\n",
       "</table>\n",
       "</div>"
      ],
      "text/plain": [
       "         Name  Age\n",
       "one       Ali   28\n",
       "two     Adnan   34\n",
       "three   Akmal   29\n",
       "four    Adeel   42\n",
       "five   Asghar   23\n",
       "six      Alam   42"
      ]
     },
     "execution_count": 194,
     "metadata": {},
     "output_type": "execute_result"
    }
   ],
   "source": [
    "# Using the isin() method for filtering: \n",
    "df2 = df.copy() \n",
    "df2['Age'] = [22,33,44,55,66,77] \n",
    "df\n"
   ]
  },
  {
   "cell_type": "code",
   "execution_count": 195,
   "metadata": {},
   "outputs": [
    {
     "data": {
      "text/html": [
       "<div>\n",
       "<style scoped>\n",
       "    .dataframe tbody tr th:only-of-type {\n",
       "        vertical-align: middle;\n",
       "    }\n",
       "\n",
       "    .dataframe tbody tr th {\n",
       "        vertical-align: top;\n",
       "    }\n",
       "\n",
       "    .dataframe thead th {\n",
       "        text-align: right;\n",
       "    }\n",
       "</style>\n",
       "<table border=\"1\" class=\"dataframe\">\n",
       "  <thead>\n",
       "    <tr style=\"text-align: right;\">\n",
       "      <th></th>\n",
       "      <th>Name</th>\n",
       "      <th>Age</th>\n",
       "    </tr>\n",
       "  </thead>\n",
       "  <tbody>\n",
       "    <tr>\n",
       "      <th>one</th>\n",
       "      <td>Ali</td>\n",
       "      <td>22</td>\n",
       "    </tr>\n",
       "    <tr>\n",
       "      <th>two</th>\n",
       "      <td>Adnan</td>\n",
       "      <td>33</td>\n",
       "    </tr>\n",
       "    <tr>\n",
       "      <th>three</th>\n",
       "      <td>Akmal</td>\n",
       "      <td>44</td>\n",
       "    </tr>\n",
       "    <tr>\n",
       "      <th>four</th>\n",
       "      <td>Adeel</td>\n",
       "      <td>55</td>\n",
       "    </tr>\n",
       "    <tr>\n",
       "      <th>five</th>\n",
       "      <td>Asghar</td>\n",
       "      <td>66</td>\n",
       "    </tr>\n",
       "    <tr>\n",
       "      <th>six</th>\n",
       "      <td>Alam</td>\n",
       "      <td>77</td>\n",
       "    </tr>\n",
       "  </tbody>\n",
       "</table>\n",
       "</div>"
      ],
      "text/plain": [
       "         Name  Age\n",
       "one       Ali   22\n",
       "two     Adnan   33\n",
       "three   Akmal   44\n",
       "four    Adeel   55\n",
       "five   Asghar   66\n",
       "six      Alam   77"
      ]
     },
     "execution_count": 195,
     "metadata": {},
     "output_type": "execute_result"
    }
   ],
   "source": [
    "df2"
   ]
  },
  {
   "cell_type": "code",
   "execution_count": 196,
   "metadata": {},
   "outputs": [
    {
     "data": {
      "text/html": [
       "<div>\n",
       "<style scoped>\n",
       "    .dataframe tbody tr th:only-of-type {\n",
       "        vertical-align: middle;\n",
       "    }\n",
       "\n",
       "    .dataframe tbody tr th {\n",
       "        vertical-align: top;\n",
       "    }\n",
       "\n",
       "    .dataframe thead th {\n",
       "        text-align: right;\n",
       "    }\n",
       "</style>\n",
       "<table border=\"1\" class=\"dataframe\">\n",
       "  <thead>\n",
       "    <tr style=\"text-align: right;\">\n",
       "      <th></th>\n",
       "      <th>Name</th>\n",
       "      <th>Age</th>\n",
       "    </tr>\n",
       "  </thead>\n",
       "  <tbody>\n",
       "    <tr>\n",
       "      <th>one</th>\n",
       "      <td>Ali</td>\n",
       "      <td>22</td>\n",
       "    </tr>\n",
       "    <tr>\n",
       "      <th>three</th>\n",
       "      <td>Akmal</td>\n",
       "      <td>44</td>\n",
       "    </tr>\n",
       "  </tbody>\n",
       "</table>\n",
       "</div>"
      ],
      "text/plain": [
       "        Name  Age\n",
       "one      Ali   22\n",
       "three  Akmal   44"
      ]
     },
     "execution_count": 196,
     "metadata": {},
     "output_type": "execute_result"
    }
   ],
   "source": [
    "df2[df2['Age'].isin([22,44])] "
   ]
  },
  {
   "cell_type": "code",
   "execution_count": 198,
   "metadata": {},
   "outputs": [
    {
     "data": {
      "text/html": [
       "<div>\n",
       "<style scoped>\n",
       "    .dataframe tbody tr th:only-of-type {\n",
       "        vertical-align: middle;\n",
       "    }\n",
       "\n",
       "    .dataframe tbody tr th {\n",
       "        vertical-align: top;\n",
       "    }\n",
       "\n",
       "    .dataframe thead th {\n",
       "        text-align: right;\n",
       "    }\n",
       "</style>\n",
       "<table border=\"1\" class=\"dataframe\">\n",
       "  <thead>\n",
       "    <tr style=\"text-align: right;\">\n",
       "      <th></th>\n",
       "      <th>Name</th>\n",
       "      <th>Age</th>\n",
       "    </tr>\n",
       "  </thead>\n",
       "  <tbody>\n",
       "    <tr>\n",
       "      <th>three</th>\n",
       "      <td>Akmal</td>\n",
       "      <td>44</td>\n",
       "    </tr>\n",
       "    <tr>\n",
       "      <th>four</th>\n",
       "      <td>Adeel</td>\n",
       "      <td>55</td>\n",
       "    </tr>\n",
       "    <tr>\n",
       "      <th>five</th>\n",
       "      <td>Asghar</td>\n",
       "      <td>66</td>\n",
       "    </tr>\n",
       "  </tbody>\n",
       "</table>\n",
       "</div>"
      ],
      "text/plain": [
       "         Name  Age\n",
       "three   Akmal   44\n",
       "four    Adeel   55\n",
       "five   Asghar   66"
      ]
     },
     "execution_count": 198,
     "metadata": {},
     "output_type": "execute_result"
    }
   ],
   "source": [
    "df2[df2['Name'].isin(['Akmal','Adeel','Asghar'])] "
   ]
  },
  {
   "cell_type": "markdown",
   "metadata": {},
   "source": [
    "# <font color=gold>----------------------------------------THE END--------------------------------------</font>\n",
    "\n"
   ]
  }
 ],
 "metadata": {
  "kernelspec": {
   "display_name": "Python 3",
   "language": "python",
   "name": "python3"
  },
  "language_info": {
   "codemirror_mode": {
    "name": "ipython",
    "version": 3
   },
   "file_extension": ".py",
   "mimetype": "text/x-python",
   "name": "python",
   "nbconvert_exporter": "python",
   "pygments_lexer": "ipython3",
   "version": "3.7.1"
  }
 },
 "nbformat": 4,
 "nbformat_minor": 2
}
